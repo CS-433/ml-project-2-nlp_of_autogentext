{
 "cells": [
  {
   "cell_type": "markdown",
   "metadata": {},
   "source": [
    "# Setup of data and repos for project"
   ]
  },
  {
   "cell_type": "code",
   "execution_count": 5,
   "metadata": {},
   "outputs": [],
   "source": [
    "# Installation\n",
    "#!pip install -U scikit-learn\n",
    "# !pip install --upgrade gensim"
   ]
  },
  {
   "cell_type": "code",
   "execution_count": 20,
   "metadata": {},
   "outputs": [
    {
     "ename": "SyntaxError",
     "evalue": "unexpected EOF while parsing (<ipython-input-20-44042eb2cc33>, line 13)",
     "output_type": "error",
     "traceback": [
      "\u001b[1;36m  File \u001b[1;32m\"<ipython-input-20-44042eb2cc33>\"\u001b[1;36m, line \u001b[1;32m13\u001b[0m\n\u001b[1;33m    # ...\u001b[0m\n\u001b[1;37m         ^\u001b[0m\n\u001b[1;31mSyntaxError\u001b[0m\u001b[1;31m:\u001b[0m unexpected EOF while parsing\n"
     ]
    }
   ],
   "source": [
    "# Importing data\n",
    "import json\n",
    "\n",
    "# Smart lights\n",
    "File = open(\"openvoc-keyword-spotting-research-datasets/smart-lights/metadata.json\")\n",
    "metaData_in = json.load(File)\n",
    "N =  len(metaData_lights_in)\n",
    "keys = metaData_lights_in.keys()\n",
    "\n",
    "print(keys(0)\n",
    "\n",
    "# Washing machine\n",
    "# ..."
   ]
  }
 ],
 "metadata": {
  "interpreter": {
   "hash": "7393ff1f3c30d6d9d9349cef1397e72bfb70d7ef6363d955503acb71d65a8d40"
  },
  "kernelspec": {
   "display_name": "Python 3.8.8 64-bit ('base': conda)",
   "language": "python",
   "name": "python3"
  },
  "language_info": {
   "codemirror_mode": {
    "name": "ipython",
    "version": 3
   },
   "file_extension": ".py",
   "mimetype": "text/x-python",
   "name": "python",
   "nbconvert_exporter": "python",
   "pygments_lexer": "ipython3",
   "version": "3.8.8"
  },
  "orig_nbformat": 4
 },
 "nbformat": 4,
 "nbformat_minor": 2
}
