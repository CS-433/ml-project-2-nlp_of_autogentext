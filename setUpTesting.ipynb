{
 "cells": [
  {
   "cell_type": "markdown",
   "metadata": {},
   "source": [
    "# Setup of data and repos for project"
   ]
  },
  {
   "cell_type": "code",
   "execution_count": 1,
   "metadata": {},
   "outputs": [],
   "source": [
    "# Installation\n",
    "#!pip install -U scikit-learn\n",
    "# !pip install --upgrade gensim"
   ]
  },
  {
   "cell_type": "code",
   "execution_count": 2,
   "metadata": {},
   "outputs": [],
   "source": [
    "# Importing data\n",
    "import json\n",
    "import pandas as pd\n",
    "import numpy as np\n",
    "from matplotlib import pyplot as plt\n",
    "from gensim.corpora import Dictionary\n",
    "from gensim.models import Word2Vec\n",
    "\n",
    "# Smart lights\n",
    "File = open(\"openvoc-keyword-spotting-research-datasets/smart-lights/metadata.json\")\n",
    "metaData_in = json.load(File)\n",
    "N =  len(metaData_in)\n",
    "keys = list(metaData_in.keys())\n",
    "\n",
    "y = []\n",
    "X = []\n",
    "\n",
    "for i in range(N):\n",
    "    X.append(metaData_in.get(keys[i]).get('transcript').split(' '))\n",
    "    y.append(metaData_in.get(keys[i]).get('keywords'))\n"
   ]
  },
  {
   "cell_type": "code",
   "execution_count": 3,
   "metadata": {},
   "outputs": [
    {
     "data": {
      "image/png": "[encoded data removed]",
      "text/plain": [
       "<Figure size 432x288 with 1 Axes>"
      ]
     },
     "metadata": {
      "needs_background": "light"
     },
     "output_type": "display_data"
    }
   ],
   "source": [
    "# Visualization of word 3 vector embedding\n",
    "vector_size = 4\n",
    "model = Word2Vec(sentences = X,vector_size=vector_size,window=1, min_count=10)\n",
    "testNR = 15\n",
    "wordVecs = np.empty((testNR,vector_size))\n",
    "X_vec  = []\n",
    "\n",
    "for i in range(testNR):\n",
    "    value = np.zeros((vector_size,))\n",
    "    for word in X[i]:\n",
    "        value += np.array(model.wv[word])\n",
    "    wordVecs[i,:] = value\n",
    "\n",
    "\n",
    "plt.scatter(wordVecs[:,0],wordVecs[:,1])\n",
    "\n",
    "for i in range(testNR):\n",
    "    plt.text(wordVecs[i,0],wordVecs[i,1],y[i][0])"
   ]
  },
  {
   "cell_type": "code",
   "execution_count": 4,
   "metadata": {},
   "outputs": [
    {
     "name": "stdout",
     "output_type": "stream",
     "text": [
      "(564, 50)\n",
      "(564, 50)\n"
     ]
    }
   ],
   "source": [
    "# Attempt at making some actuall practical stuff\n",
    "vector_size = 50\n",
    "model = Word2Vec(sentences = X,vector_size=vector_size,window=1, min_count=1)\n",
    "model.train(y[:][0],total_examples=N,epochs = 100)\n",
    "X_vec = np.empty((N,vector_size))\n",
    "y_vec = np.empty((N,vector_size))\n",
    "for i in range(N):\n",
    "    # Constructing sentence feature\n",
    "    value_iter = np.zeros((vector_size,))\n",
    "    for word in X[i]:\n",
    "        try:\n",
    "            value_iter += np.array(model.wv[word])  # / len(X[i]) Seems resonable to do but gives terrible performance\n",
    "        except:\n",
    "            print('Issue for: X=',i,'with word \"', word,'\".')\n",
    "            print('Word ignored in feature construction.')\n",
    "    X_vec[i,:] = value_iter\n",
    "\n",
    "    # Constructing keywords output\n",
    "    value_iter = np.zeros((vector_size,))\n",
    "    for key in y[i]:\n",
    "        words = key.split(' ')\n",
    "        for word in words:\n",
    "            value_iter += np.array(model.wv[word])  # / len(y[i]) Seems resonable to do but gives terrible performance\n",
    "    y_vec[i,:] = value_iter\n",
    "\n",
    "print(X_vec.shape)\n",
    "print(y_vec.shape)"
   ]
  },
  {
   "cell_type": "code",
   "execution_count": 5,
   "metadata": {},
   "outputs": [],
   "source": [
    "# Attempt at making proper prediction\n",
    "def least_squares(y,tx):\n",
    "    w = np.linalg.inv(tx.T @ tx) @ tx.T @ y\n",
    "    return w\n",
    "\n",
    "def makePrediction(X,w):\n",
    "    return X @ w\n",
    "\n",
    "# Split data\n",
    "splitC = 0.5\n",
    "splitIDX = int(N*splitC)\n",
    "y_train = y_vec[0:splitIDX,:]\n",
    "X_train = X_vec[0:splitIDX,:]\n",
    "y_test = y_vec[splitIDX+1:,:]\n",
    "X_test = X_vec[splitIDX+1:,:]\n",
    "\n",
    "W = least_squares(y_train,X_train)\n",
    "y_pred = makePrediction(X_train,W)"
   ]
  },
  {
   "cell_type": "code",
   "execution_count": 6,
   "metadata": {},
   "outputs": [
    {
     "name": "stdout",
     "output_type": "stream",
     "text": [
      "0.11347517730496454\n"
     ]
    }
   ],
   "source": [
    "# Make prediction based on smallest distance to vector\n",
    "def minDist2Set(y,Y):\n",
    "    n = Y.shape[0]\n",
    "    dY = np.zeros(n)\n",
    "    for i in range(n):\n",
    "        dY[i] = np.linalg.norm(y-Y[i,:])\n",
    "    return np.argmin(dY)\n",
    "\n",
    "accuracy = 0\n",
    "for i in range(splitIDX-1):\n",
    "    i_pred = minDist2Set(y_pred[i,:],y_test)\n",
    "    if y[i_pred][0] == y[i][0]:\n",
    "        accuracy +=1\n",
    "accuracy = accuracy / N\n",
    "print(accuracy)"
   ]
  },
  {
   "cell_type": "markdown",
   "metadata": {},
   "source": [
    "# Using Pandas data frames"
   ]
  },
  {
   "cell_type": "code",
   "execution_count": 3,
   "metadata": {},
   "outputs": [
    {
     "data": {
      "text/plain": [
       "kitchen        193\n",
       "brightness     192\n",
       "bedroom        187\n",
       "living room    184\n",
       "increase       144\n",
       "decrease       143\n",
       "turn on        139\n",
       "turn off       139\n",
       "dtype: int64"
      ]
     },
     "execution_count": 3,
     "metadata": {},
     "output_type": "execute_result"
    }
   ],
   "source": [
    "# Preprocessing testing\n",
    "data = pd.read_json('metadata.json',orient = 'index')\n",
    "# Select data that is needed\n",
    "data_sentences = data[['transcript','keywords']]\n",
    "# Print data info\n",
    "pd.Series(data_sentences['keywords'].sum()).value_counts()"
   ]
  },
  {
   "cell_type": "code",
   "execution_count": 6,
   "metadata": {},
   "outputs": [
    {
     "name": "stderr",
     "output_type": "stream",
     "text": [
      "<ipython-input-6-1a63e9aa8683>:2: SettingWithCopyWarning: \n",
      "A value is trying to be set on a copy of a slice from a DataFrame.\n",
      "Try using .loc[row_indexer,col_indexer] = value instead\n",
      "\n",
      "See the caveats in the documentation: https://pandas.pydata.org/pandas-docs/stable/user_guide/indexing.html#returning-a-view-versus-a-copy\n",
      "  data_sentences['user_actions'] = 0\n"
     ]
    }
   ],
   "source": [
    "#keywords to user action\n",
    "data_sentences['user_actions'] = 0\n",
    "\n",
    "for index, rows in data_sentences.iterrows():\n",
    "    if('turn off' in  rows.keywords):\n",
    "        data_sentences.loc[index,'user_actions'] = 'SwitchLightOff'\n",
    "    elif('turn on' in  rows.keywords):\n",
    "        data_sentences.loc[index,'user_actions'] = 'SwitchLightOn'\n",
    "    elif('increase' in rows.keywords):\n",
    "        is_num_in_actions = [element.isdigit()  for element in rows.keywords]\n",
    "        if(True in is_num_in_actions):\n",
    "            data_sentences.loc[index,'user_actions'] = 'SetLightBrightness'\n",
    "        else:\n",
    "            data_sentences.loc[index,'user_actions'] = 'IncreaseBrightness'\n",
    "    elif('decrease' in rows.keywords):\n",
    "        is_num_in_actions = [element.isdigit()  for element in rows.keywords]\n",
    "        if(True in is_num_in_actions):\n",
    "            data_sentences.loc[index,'user_actions'] = 'SetLightBrightness'\n",
    "        else:\n",
    "            data_sentences.loc[index,'user_actions'] = 'DecreaseBrightness'\n",
    "    else:\n",
    "        is_color_in_actions = [is_color_like(element)  for element in rows.keywords]\n",
    "        if(True in is_color_in_actions):\n",
    "            data_sentences.loc[index,'user_actions'] = 'SetLightColor'\n",
    "        else:\n",
    "            data_sentences.loc[index,'user_actions'] = 'Nullaction'"
   ]
  },
  {
   "cell_type": "code",
   "execution_count": 7,
   "metadata": {},
   "outputs": [
    {
     "name": "stdout",
     "output_type": "stream",
     "text": [
      "record_b527de37-35e3-48d9-8c8e-3f9672ccdd79_16k_c1    [turn off, living room]\n",
      "record_58ea6b9c-f9f4-43d2-bc6d-503a43f8da9d_16k_c1        [decrease, bedroom]\n",
      "record_6224b626-12f4-48ff-ac9a-d28ee57ed70b_16k_c1    [increase, living room]\n",
      "record_fa3339c0-22b3-4650-8c48-111411eebfeb_16k_c1        [increase, bedroom]\n",
      "record_5a2c371e-43f8-4be9-9ec5-7b542b075b3a_16k_c1        [turn off, bedroom]\n",
      "                                                               ...           \n",
      "record_f02159ce-cae6-4e03-9c1a-9c17ddcf70bf_16k_c1        [increase, kitchen]\n",
      "record_1c94b803-396f-4ec5-8dd6-7c2ccc0eea38_16k_c1         [turn on, bedroom]\n",
      "record_9bcdf971-c5b2-4898-b511-58ecfed6826e_16k_c1    [turn off, living room]\n",
      "record_0ca383f2-9aaf-43df-bbcc-b40920072b63_16k_c1        [turn off, kitchen]\n",
      "record_557a5b9c-a18b-4fca-88de-3ce3cbeb014d_16k_c1        [turn off, kitchen]\n",
      "Name: keywords, Length: 564, dtype: object\n"
     ]
    }
   ],
   "source": [
    "print(data_sentences.loc[:,'keywords'])"
   ]
  }
 ],
 "metadata": {
  "interpreter": {
   "hash": "7393ff1f3c30d6d9d9349cef1397e72bfb70d7ef6363d955503acb71d65a8d40"
  },
  "kernelspec": {
   "display_name": "Python 3.8.8 64-bit ('base': conda)",
   "language": "python",
   "name": "python3"
  },
  "language_info": {
   "codemirror_mode": {
    "name": "ipython",
    "version": 3
   },
   "file_extension": ".py",
   "mimetype": "text/x-python",
   "name": "python",
   "nbconvert_exporter": "python",
   "pygments_lexer": "ipython3",
   "version": "3.8.8"
  },
  "orig_nbformat": 4
 },
 "nbformat": 4,
 "nbformat_minor": 2
}
