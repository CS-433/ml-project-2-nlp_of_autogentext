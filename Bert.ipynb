{
 "cells": [
  {
   "cell_type": "markdown",
   "metadata": {
    "id": "9N8d9nwh7uUM"
   },
   "source": [
    "# BERT"
   ]
  },
  {
   "cell_type": "markdown",
   "metadata": {
    "id": "nIzP9K447uUO"
   },
   "source": [
    "## Requirements"
   ]
  },
  {
   "cell_type": "code",
   "execution_count": null,
   "metadata": {
    "colab": {
     "base_uri": "https://localhost:8080/"
    },
    "id": "C8w-SYHh7uUO",
    "outputId": "2e79f7a8-da43-4987-db58-932056f63e53",
    "scrolled": true
   },
   "outputs": [],
   "source": [
    "pip install -r requirements.txt"
   ]
  },
  {
   "cell_type": "code",
   "execution_count": 57,
   "metadata": {
    "id": "hk7_T0Ie7uUP"
   },
   "outputs": [],
   "source": [
    "# Imports\n",
    "import numpy as np\n",
    "import pandas as pd\n",
    "import torch\n",
    "import transformers as ppb  # pytorch transformers\n",
    "from sklearn.linear_model import LogisticRegression\n",
    "from sklearn.naive_bayes import GaussianNB\n",
    "from sklearn.svm import SVC\n",
    "from sklearn import preprocessing\n",
    "from sklearn.neural_network import MLPClassifier\n",
    "from sklearn.pipeline import make_pipeline\n",
    "\n",
    "from sklearn.metrics import confusion_matrix\n",
    "from sklearn.metrics import classification_report\n",
    "\n",
    "from sklearn.model_selection import train_test_split\n",
    "\n",
    "from statistics import mean\n",
    "\n",
    "import _helpers as hp"
   ]
  },
  {
   "cell_type": "markdown",
   "metadata": {
    "id": "YHqZavKW7uUQ"
   },
   "source": [
    "## Load Data\n",
    "For chosing which ASR data change the variable by the key in the paths dictionary"
   ]
  },
  {
   "cell_type": "code",
   "execution_count": 58,
   "metadata": {
    "id": "Fi-I90Ps7uUR"
   },
   "outputs": [],
   "source": [
    "# Defining paths for our data. \"ASR\" means the TDNNF-LFMMI method, and \"new_ASR\" means the Wave2vec method.\n",
    "paths = {\n",
    "    \"ground_truth\": \"snips/merged_GT_data.csv\",\n",
    "    \"ASR\": \"snips/old_ASR_data.csv\",\n",
    "    \"new_ASR\": \"snips/new_ASR_with_labels.csv\",\n",
    "    \"new_ASR_Autocorrect\": \"snips/new_ASR_Autocorrection_with_labels.csv\",\n",
    "}\n",
    "\n",
    "# Chosing which ASR data we will use\n",
    "ASR_data = pd.read_csv(paths[\"new_ASR\"])\n",
    "\n",
    "# Groundtruth data\n",
    "GT_data = pd.read_csv(paths[\"ground_truth\"])"
   ]
  },
  {
   "cell_type": "markdown",
   "metadata": {
    "id": "1lh1WlFM7uUS"
   },
   "source": [
    "## Import pre-trained DistilBERT model and tokenizer"
   ]
  },
  {
   "cell_type": "markdown",
   "metadata": {
    "id": "0uncltjD7uUS"
   },
   "source": [
    "DistilBERT is a small, fast, cheap and light Transformer model. It has 40% less parameters than bert-base-uncased, runs 60% faster while preserving over 95% of BERT's performances"
   ]
  },
  {
   "cell_type": "code",
   "execution_count": 59,
   "metadata": {
    "id": "lXcfJX6G7uUS"
   },
   "outputs": [],
   "source": [
    "model_class, tokenizer_class, pretrained_weights = (\n",
    "    ppb.DistilBertModel,\n",
    "    ppb.DistilBertTokenizer,\n",
    "    \"distilbert-base-uncased\",\n",
    ")"
   ]
  },
  {
   "cell_type": "markdown",
   "metadata": {
    "id": "qKyp7jXc7uUT"
   },
   "source": [
    "## Import pre-trained BERT model and tokenizer"
   ]
  },
  {
   "cell_type": "markdown",
   "metadata": {
    "id": "QGaOxXu07uUT"
   },
   "source": [
    "If we want to use BERT instead of DistilBERT we comment the previous model importation and use this one instead:"
   ]
  },
  {
   "cell_type": "code",
   "execution_count": 60,
   "metadata": {
    "id": "ifzCf4MN7uUT"
   },
   "outputs": [],
   "source": [
    "# model_class, tokenizer_class, pretrained_weights = (ppb.BertModel, ppb.BertTokenizer, 'bert-small-uncased')"
   ]
  },
  {
   "cell_type": "code",
   "execution_count": 61,
   "metadata": {
    "colab": {
     "base_uri": "https://localhost:8080/",
     "height": 249,
     "referenced_widgets": [
      "5ba7b4b0c75f4481bc22524239da29fe",
      "5b4efc2d847f496dbd42e9822de693c7",
      "83440f8a4c4741bc916e2e16666271bf",
      "5e21f54e568c4b02b114c33b696f6a4f",
      "14526bb90a94416fbbb264814ceea759",
      "5dd4884a320747e794bb458c8bea4936",
      "713d682eb8f146fd800c76903662c93b",
      "5a980a3f0bee406183e30e269fee014a",
      "40359a2c415e4168a46e603715b96560",
      "66ba6dfd2da7462c83504256a2caf3ec",
      "f5c75e311bf6477e985b945d02f9c74b",
      "0b75d59d1cd74bff9b8c23db6b415b4b",
      "3b938d79a01244588f88c9a554dbd9f9",
      "f0d74457a2d44eb4b8babca95e53c537",
      "278daa03f67042a48ab9f041df614bc0",
      "bf31faa0d86747f79d724a6337976384",
      "e456c2cd837442a280a80d676d63b394",
      "b676cf2c9aa447d18c30340f07a068b6",
      "32c6d1269624452ea95f3d6bd16ef753",
      "c2ba3007ed0e4655a9bd0d06ce67cb5b",
      "81437c5cecc34e84bdc5a26d551afd6f",
      "f95f95cb4027418e8c287fb46f93ffcd",
      "dfe419ac56fa4e8fbbcc5fce761e5206",
      "437866f4153845179c710957d41c2ad8",
      "3141a6d1de614efba2f8d3a63648ad70",
      "9a18ee9a1eb64ea98c019793318623a2",
      "48dcb4291bae4ca18b336ff3da2e7193",
      "8995a1380e8d47eda1504258c43883fe",
      "99eadbddfd6f43f6a07b0d4b4ac31cec",
      "0f8517e3e524434eadfc4977a7501508",
      "4c6951bc69e9417c83cfb5a3a048b4f9",
      "07fc7f72c3944e4ab63c81d4cdd69c26",
      "a30174514d2542609cbb06ed1cb68282",
      "f6f8fe9cae104221b3911d2892b75306",
      "4148e6a6ad7949a09fe1683a0c4a7cf3",
      "11cf276a357a4af3ac09411eeff9cd85",
      "99319013b5e441eb85acda061f1cce58",
      "75368e65e9414addab6c24631142d1c7",
      "8cf8d9531d324a7c815801bc30fa7208",
      "d79de4c7a4b040bd9be66ace73b789ad",
      "7c9f3aa79cae4e60b6a2aa98b1f840ae",
      "3323a6630ec24568bf22c79d18dd31a7",
      "68d0ffa9beeb463484bcf7c6b9155111",
      "134fa8c9053b4d5fbe8896ba476db209",
      "91d3d7486845471ea08b95fe21e4bf05",
      "02d329e0f93748bfbe87a485b32b9f4c",
      "d23f6df0b94040de938ca5ec9d5ecf91",
      "afadfc30e6df4f63a42c468f2fd95127",
      "f861b70097364fe889bee46a46f60501",
      "21acea9e852e4871a304848ab05ade08",
      "04cc6ba8ff6947fcbab0e93c5700c4b0",
      "047545b3dfd74bc2bb8cffe00279e062",
      "a35844db8df247e89904438e460b43b1",
      "29b19c6dc421400e98e0891191962594",
      "5157dcf3f7b24726b8c04e71b0256a98"
     ]
    },
    "id": "WpJJbdXE7uUU",
    "outputId": "4e816bc7-327a-490a-e3dd-f05f2b8a424d"
   },
   "outputs": [
    {
     "name": "stderr",
     "output_type": "stream",
     "text": [
      "Some weights of the model checkpoint at distilbert-base-uncased were not used when initializing DistilBertModel: ['vocab_projector.weight', 'vocab_transform.weight', 'vocab_projector.bias', 'vocab_transform.bias', 'vocab_layer_norm.bias', 'vocab_layer_norm.weight']\n",
      "- This IS expected if you are initializing DistilBertModel from the checkpoint of a model trained on another task or with another architecture (e.g. initializing a BertForSequenceClassification model from a BertForPreTraining model).\n",
      "- This IS NOT expected if you are initializing DistilBertModel from the checkpoint of a model that you expect to be exactly identical (initializing a BertForSequenceClassification model from a BertForSequenceClassification model).\n"
     ]
    }
   ],
   "source": [
    "# Load pretrained model/tokenizer\n",
    "tokenizer = tokenizer_class.from_pretrained(pretrained_weights)\n",
    "model = model_class.from_pretrained(pretrained_weights)"
   ]
  },
  {
   "cell_type": "markdown",
   "metadata": {
    "id": "824uOng67uUU"
   },
   "source": [
    "## Tokenization"
   ]
  },
  {
   "cell_type": "code",
   "execution_count": 62,
   "metadata": {
    "id": "HY-ZBW767uUV"
   },
   "outputs": [],
   "source": [
    "tokenized_GT_data = GT_data[\"transcript\"].apply(\n",
    "    (lambda x: tokenizer.encode(x, add_special_tokens=True))\n",
    ")\n",
    "\n",
    "tokenized_ASR_data = ASR_data[\"transcript\"].apply(\n",
    "    (lambda x: tokenizer.encode(x, add_special_tokens=True))\n",
    ")"
   ]
  },
  {
   "cell_type": "markdown",
   "metadata": {
    "id": "z-K8sQvd7uUV"
   },
   "source": [
    "The problem now is that the tokenized vectors ar not with the name size"
   ]
  },
  {
   "cell_type": "code",
   "execution_count": 63,
   "metadata": {
    "colab": {
     "base_uri": "https://localhost:8080/"
    },
    "id": "VZ_BObuR7uUV",
    "outputId": "46339003-e57a-47d3-eb98-21b2ee49c1a8"
   },
   "outputs": [
    {
     "name": "stdout",
     "output_type": "stream",
     "text": [
      "MX: 20\n",
      "MIN: 4\n"
     ]
    }
   ],
   "source": [
    "if max(tokenized_GT_data.apply(len)) > max(tokenized_ASR_data.apply(len)):\n",
    "    _max = max(tokenized_GT_data.apply(len))\n",
    "    _min = min(tokenized_GT_data.apply(len))\n",
    "else:\n",
    "    _max = max(tokenized_ASR_data.apply(len))\n",
    "    _min = min(tokenized_ASR_data.apply(len))\n",
    "\n",
    "print(\"MX:\", _max)\n",
    "print(\"MIN:\", _min)"
   ]
  },
  {
   "cell_type": "markdown",
   "metadata": {
    "id": "4zRqXm_V7uUW"
   },
   "source": [
    "lets fix that with a simple padding function"
   ]
  },
  {
   "cell_type": "code",
   "execution_count": 64,
   "metadata": {
    "colab": {
     "base_uri": "https://localhost:8080/"
    },
    "id": "w9Z39S3B7uUW",
    "outputId": "cf6efd2e-4dc5-445e-bbd2-adafb8e99173"
   },
   "outputs": [
    {
     "name": "stdout",
     "output_type": "stream",
     "text": [
      "(1660, 20)\n",
      "(1660, 20)\n"
     ]
    }
   ],
   "source": [
    "padded_GT_data = np.array(\n",
    "    list(tokenized_GT_data.apply(lambda x: hp.padding_func(x, _max)))\n",
    ")\n",
    "padded_ASR_data = np.array(\n",
    "    list(tokenized_ASR_data.apply(lambda x: hp.padding_func(x, _max)))\n",
    ")\n",
    "print(padded_GT_data.shape)\n",
    "print(padded_ASR_data.shape)"
   ]
  },
  {
   "cell_type": "markdown",
   "metadata": {
    "id": "ghp0NFsf7uUX"
   },
   "source": [
    "# Masking"
   ]
  },
  {
   "cell_type": "markdown",
   "metadata": {
    "id": "qiel20he7uUX"
   },
   "source": [
    "If we directly send padded to BERT, that would slightly confuse it. We need to create another variable to tell it to ignore (mask) the padding we've added when it's processing its input. That's what attention_mask is:"
   ]
  },
  {
   "cell_type": "code",
   "execution_count": 65,
   "metadata": {
    "id": "NFS7gwyQ7uUX"
   },
   "outputs": [],
   "source": [
    "attention_mask_GT = np.where(padded_GT_data != 0, 1, 0)\n",
    "\n",
    "attention_mask_ASR = np.where(padded_ASR_data != 0, 1, 0)"
   ]
  },
  {
   "cell_type": "markdown",
   "metadata": {
    "id": "AXbqLt8N7uUY"
   },
   "source": [
    "# Processing with DistrilBert"
   ]
  },
  {
   "cell_type": "code",
   "execution_count": 66,
   "metadata": {
    "id": "F25lFD-E7uUY"
   },
   "outputs": [],
   "source": [
    "input_ids_GT = torch.tensor(padded_GT_data)\n",
    "attention_mask_GT = torch.tensor(attention_mask_GT)\n",
    "\n",
    "with torch.no_grad():\n",
    "    last_hidden_states_GT = model(input_ids_GT, attention_mask=attention_mask_GT)"
   ]
  },
  {
   "cell_type": "code",
   "execution_count": 67,
   "metadata": {
    "id": "KYUaQey97uUY"
   },
   "outputs": [],
   "source": [
    "input_ids_ASR = torch.tensor(padded_ASR_data)\n",
    "attention_mask_ASR = torch.tensor(attention_mask_ASR)\n",
    "\n",
    "with torch.no_grad():\n",
    "    last_hidden_states_ASR = model(input_ids_ASR, attention_mask=attention_mask_ASR)"
   ]
  },
  {
   "cell_type": "markdown",
   "metadata": {
    "id": "imm0oWak7uUZ"
   },
   "source": [
    "Let's slice only the part of the output that we need. That is the output corresponding the first token of each sentence. The way BERT does sentence classification, is that it adds a token called [CLS] (for classification) at the beginning of every sentence\n",
    "\n",
    "basically [CLS] contains all information of the sentence and representing the sentence-level classification."
   ]
  },
  {
   "cell_type": "code",
   "execution_count": 68,
   "metadata": {
    "colab": {
     "base_uri": "https://localhost:8080/"
    },
    "id": "pWlVRCpp7uUZ",
    "outputId": "c8f2ae80-bb85-4845-b3bb-7bdf3eff0a8d"
   },
   "outputs": [
    {
     "data": {
      "text/plain": [
       "(1660, 768)"
      ]
     },
     "execution_count": 68,
     "metadata": {},
     "output_type": "execute_result"
    }
   ],
   "source": [
    "# Taking the CLS features of each sentence\n",
    "features_GT = last_hidden_states_GT[0][:, 0, :].numpy()\n",
    "features_GT.shape"
   ]
  },
  {
   "cell_type": "code",
   "execution_count": 69,
   "metadata": {
    "colab": {
     "base_uri": "https://localhost:8080/"
    },
    "id": "LB9x_rTx7uUZ",
    "outputId": "a2ec25c8-a13c-4abb-817d-c4d1c3482529"
   },
   "outputs": [
    {
     "data": {
      "text/plain": [
       "(1660, 768)"
      ]
     },
     "execution_count": 69,
     "metadata": {},
     "output_type": "execute_result"
    }
   ],
   "source": [
    "# Taking the CLS features of each sentence\n",
    "features_ASR = last_hidden_states_ASR[0][:, 0, :].numpy()\n",
    "features_ASR.shape"
   ]
  },
  {
   "cell_type": "code",
   "execution_count": 70,
   "metadata": {
    "id": "Eh9Z7OkG7uUa"
   },
   "outputs": [],
   "source": [
    "labels_GT = GT_data[\"user_action_num\"]\n",
    "labels_ASR = ASR_data[\"user_action_num\"]"
   ]
  },
  {
   "cell_type": "markdown",
   "metadata": {
    "id": "tb_SRpxl7uUa"
   },
   "source": [
    "# Classifiers"
   ]
  },
  {
   "cell_type": "markdown",
   "metadata": {
    "id": "BdUhHC-e7uUa"
   },
   "source": [
    "## Train/Test Split"
   ]
  },
  {
   "cell_type": "markdown",
   "metadata": {
    "id": "cuofmC017uUb"
   },
   "source": [
    "The function beneath provides the features and labels needed for testing. Using the loaded ASR or not (then using ground truth data) is decided by input. As standard we use the ASR dataset."
   ]
  },
  {
   "cell_type": "code",
   "execution_count": 71,
   "metadata": {
    "id": "F-ub0yX97uUb"
   },
   "outputs": [],
   "source": [
    "def get_train_test_data(type_of_dataset=\"ASR\", train_size=0.9):\n",
    "    \"\"\"Retrieves the relevant dataset and splits according to parameter\"\"\"\n",
    "    # If ASR, give ASR features and labels\n",
    "    if type_of_dataset == \"ASR\":\n",
    "        train_features, test_features, train_labels, test_labels = train_test_split(\n",
    "            features_ASR, labels_ASR, train_size=train_size\n",
    "        )\n",
    "    # If the dataset is not the ASR data, use the ground truth data\n",
    "    else:\n",
    "        train_features, test_features, train_labels, test_labels = train_test_split(\n",
    "            features_GT, labels_GT, train_size=train_size\n",
    "        )\n",
    "\n",
    "    return train_features, test_features, train_labels, test_labels\n",
    "\n",
    "\n",
    "def run_classifier(\n",
    "    classifier_pipe, type_of_dataset=\"ASR\", train_size=0.9, number_of_times=100\n",
    "):\n",
    "    \"\"\"For running the classifiers multiple times, and returning mean accuracy score. Wraps around get_train_test_data\"\"\"\n",
    "    mean_score_list = []\n",
    "    n = number_of_times\n",
    "    for i in range(n):\n",
    "        train_features, test_features, train_labels, test_labels = get_train_test_data(\n",
    "            type_of_dataset=\"ASR\"\n",
    "        )\n",
    "        classifier_pipe.fit(train_features, train_labels)\n",
    "\n",
    "        classifier_pred_labels = classifier_pipe.predict(test_features)  # predictions\n",
    "\n",
    "        classifier_score = classifier_pipe.score(test_features, test_labels)  # accuracy\n",
    "\n",
    "        mean_score_list.append(classifier_score)\n",
    "    mean_score = mean(mean_score_list)\n",
    "    return mean_score, classifier_pred_labels, classifier_score, test_labels"
   ]
  },
  {
   "cell_type": "markdown",
   "metadata": {
    "id": "IU9r4s9A7uUc"
   },
   "source": [
    "## Logistic Regression"
   ]
  },
  {
   "cell_type": "code",
   "execution_count": 21,
   "metadata": {
    "colab": {
     "base_uri": "https://localhost:8080/"
    },
    "id": "UHwaiqH07uUc",
    "outputId": "9fefe212-2588-4206-bf35-4cb3a07864e9"
   },
   "outputs": [
    {
     "name": "stdout",
     "output_type": "stream",
     "text": [
      "Average accuracy score = 0.78\n"
     ]
    }
   ],
   "source": [
    "lgr = LogisticRegression(\n",
    "    C=0.6, max_iter=1000, penalty=\"l2\", solver=\"liblinear\"\n",
    ")  # Create the classification model\n",
    "\n",
    "lgr_pipe = make_pipeline(preprocessing.StandardScaler(), lgr)  # Scale feature space\n",
    "\n",
    "mean_score, lgr_pred_labels, lgr_score, test_labels = run_classifier(\n",
    "    classifier_pipe=lgr_pipe,\n",
    "    type_of_dataset=\"ASR\",\n",
    "    train_size=0.9,\n",
    "    number_of_times=100,\n",
    ")\n",
    "\n",
    "print(\"Average accuracy score =\", round(mean_score, 3))"
   ]
  },
  {
   "cell_type": "markdown",
   "metadata": {
    "id": "zUmQbRDc7uUc"
   },
   "source": [
    "### Model Evaluation"
   ]
  },
  {
   "cell_type": "code",
   "execution_count": 22,
   "metadata": {
    "colab": {
     "base_uri": "https://localhost:8080/"
    },
    "id": "34MMEBvb7uUd",
    "outputId": "707e3f8f-708e-499a-f315-49f4118dffc5"
   },
   "outputs": [
    {
     "name": "stdout",
     "output_type": "stream",
     "text": [
      "                    precision    recall  f1-score   support\n",
      "\n",
      "    SwitchLightOff       0.78      0.64      0.70        33\n",
      "     SwitchLightOn       0.73      0.81      0.77        27\n",
      "IncreaseBrightness       0.83      0.74      0.78        27\n",
      "DecreaseBrightness       0.70      0.73      0.71        22\n",
      "SetLightBrightness       0.88      0.90      0.89        31\n",
      "     SetLightColor       0.80      0.92      0.86        26\n",
      "\n",
      "          accuracy                           0.79       166\n",
      "         macro avg       0.79      0.79      0.79       166\n",
      "      weighted avg       0.79      0.79      0.79       166\n",
      "\n",
      "[[21  3  1  4  1  3]\n",
      " [ 2 22  0  2  1  0]\n",
      " [ 2  1 20  1  1  2]\n",
      " [ 0  2  3 16  1  0]\n",
      " [ 1  1  0  0 28  1]\n",
      " [ 1  1  0  0  0 24]]\n",
      "\n",
      "ACCURACY: 0.7891566265060241\n"
     ]
    }
   ],
   "source": [
    "print(\n",
    "    classification_report(\n",
    "        test_labels,\n",
    "        lgr_pred_labels,\n",
    "        target_names=[\n",
    "            \"SwitchLightOff\",\n",
    "            \"SwitchLightOn\",\n",
    "            \"IncreaseBrightness\",\n",
    "            \"DecreaseBrightness\",\n",
    "            \"SetLightBrightness\",\n",
    "            \"SetLightColor\",\n",
    "        ],\n",
    "    )\n",
    ")\n",
    "\n",
    "print(confusion_matrix(test_labels, lgr_pred_labels))\n",
    "\n",
    "print(\"\\nACCURACY:\", lgr_score)"
   ]
  },
  {
   "cell_type": "markdown",
   "metadata": {
    "id": "7tlHBZka7uUd"
   },
   "source": [
    "# Naive Bayes"
   ]
  },
  {
   "cell_type": "markdown",
   "metadata": {
    "id": "Ca_0Wprf7uUd"
   },
   "source": [
    "### Gaussian Naive Bayes"
   ]
  },
  {
   "cell_type": "code",
   "execution_count": 23,
   "metadata": {
    "colab": {
     "base_uri": "https://localhost:8080/"
    },
    "id": "E3ZHTT6_7uUd",
    "outputId": "5350511a-b1be-48d0-b804-f0cb5fd00bf6"
   },
   "outputs": [
    {
     "name": "stdout",
     "output_type": "stream",
     "text": [
      "Average accuracy score = 0.541\n"
     ]
    }
   ],
   "source": [
    "gnb = GaussianNB()  # Create the classification model\n",
    "\n",
    "gnb_pipe = make_pipeline(preprocessing.StandardScaler(), gnb)  # Scale feature space\n",
    "\n",
    "mean_score, gnb_pred_labels, gnb_score, test_labels = run_classifier(\n",
    "    classifier_pipe=gnb_pipe,\n",
    "    type_of_dataset=\"ASR\",\n",
    "    train_size=0.9,\n",
    "    number_of_times=100,\n",
    ")\n",
    "\n",
    "print(\"Average accuracy score =\", round(mean_score, 3))"
   ]
  },
  {
   "cell_type": "markdown",
   "metadata": {
    "id": "0nxSOF0T7uUe"
   },
   "source": [
    "### Model Evaluation"
   ]
  },
  {
   "cell_type": "code",
   "execution_count": 24,
   "metadata": {
    "colab": {
     "base_uri": "https://localhost:8080/"
    },
    "id": "blbIJmsS7uUe",
    "outputId": "468522b6-f28b-4e4f-a73e-ea7894d1e1cf"
   },
   "outputs": [
    {
     "name": "stdout",
     "output_type": "stream",
     "text": [
      "                    precision    recall  f1-score   support\n",
      "\n",
      "    SwitchLightOff       0.44      0.30      0.36        27\n",
      "     SwitchLightOn       0.26      0.48      0.33        25\n",
      "IncreaseBrightness       0.68      0.50      0.58        26\n",
      "DecreaseBrightness       0.38      0.39      0.38        23\n",
      "SetLightBrightness       0.57      0.77      0.66        30\n",
      "     SetLightColor       0.89      0.46      0.60        35\n",
      "\n",
      "          accuracy                           0.49       166\n",
      "         macro avg       0.54      0.48      0.49       166\n",
      "      weighted avg       0.56      0.49      0.50       166\n",
      "\n",
      "[[ 8 10  0  4  5  0]\n",
      " [ 7 12  0  4  2  0]\n",
      " [ 1  8 13  1  2  1]\n",
      " [ 2  9  3  9  0  0]\n",
      " [ 0  3  2  1 23  1]\n",
      " [ 0  5  1  5  8 16]]\n",
      "\n",
      "ACCURACY: 0.4879518072289157\n"
     ]
    }
   ],
   "source": [
    "print(\n",
    "    classification_report(\n",
    "        test_labels,\n",
    "        gnb_pred_labels,\n",
    "        target_names=[\n",
    "            \"SwitchLightOff\",\n",
    "            \"SwitchLightOn\",\n",
    "            \"IncreaseBrightness\",\n",
    "            \"DecreaseBrightness\",\n",
    "            \"SetLightBrightness\",\n",
    "            \"SetLightColor\",\n",
    "        ],\n",
    "    )\n",
    ")\n",
    "\n",
    "print(confusion_matrix(test_labels, gnb_pred_labels))\n",
    "\n",
    "print(\"\\nACCURACY:\", gnb_score)"
   ]
  },
  {
   "cell_type": "markdown",
   "metadata": {
    "id": "aYO0RZZQ7uUf"
   },
   "source": [
    "## SVM"
   ]
  },
  {
   "cell_type": "code",
   "execution_count": 25,
   "metadata": {
    "colab": {
     "base_uri": "https://localhost:8080/"
    },
    "id": "Wtb7QS7p7uUf",
    "outputId": "b69700a7-0be2-48ea-9155-ab516433bed0"
   },
   "outputs": [
    {
     "name": "stdout",
     "output_type": "stream",
     "text": [
      "Average accuracy score = 0.714\n"
     ]
    }
   ],
   "source": [
    "svm = SVC()  # Create the classification model\n",
    "\n",
    "svm_pipe = make_pipeline(preprocessing.StandardScaler(), svm)  # Scale feature space\n",
    "\n",
    "mean_score_list = []\n",
    "\n",
    "mean_score, svm_pred_labels, svm_score, test_labels = run_classifier(\n",
    "    classifier_pipe=svm_pipe,\n",
    "    type_of_dataset=\"ASR\",\n",
    "    train_size=0.9,\n",
    "    number_of_times=100,\n",
    ")\n",
    "\n",
    "print(\"Average accuracy score =\", round(mean_score, 3))"
   ]
  },
  {
   "cell_type": "markdown",
   "metadata": {
    "id": "bMdj-Acc7uUf"
   },
   "source": [
    "### Model Evaluation"
   ]
  },
  {
   "cell_type": "code",
   "execution_count": 26,
   "metadata": {
    "colab": {
     "base_uri": "https://localhost:8080/"
    },
    "id": "ohZ909cf7uUg",
    "outputId": "e46b7b2f-c2ac-42c1-abdc-85e221a76071"
   },
   "outputs": [
    {
     "name": "stdout",
     "output_type": "stream",
     "text": [
      "                    precision    recall  f1-score   support\n",
      "\n",
      "    SwitchLightOff       0.53      0.53      0.53        32\n",
      "     SwitchLightOn       0.55      0.64      0.59        25\n",
      "IncreaseBrightness       0.74      0.61      0.67        28\n",
      "DecreaseBrightness       0.59      0.57      0.58        30\n",
      "SetLightBrightness       0.81      0.96      0.88        26\n",
      "     SetLightColor       0.91      0.80      0.85        25\n",
      "\n",
      "          accuracy                           0.67       166\n",
      "         macro avg       0.69      0.68      0.68       166\n",
      "      weighted avg       0.68      0.67      0.67       166\n",
      "\n",
      "[[17  5  2  5  2  1]\n",
      " [ 4 16  2  1  1  1]\n",
      " [ 4  3 17  4  0  0]\n",
      " [ 5  5  2 17  1  0]\n",
      " [ 0  0  0  1 25  0]\n",
      " [ 2  0  0  1  2 20]]\n",
      "\n",
      "ACCURACY: 0.6746987951807228\n"
     ]
    }
   ],
   "source": [
    "print(\n",
    "    classification_report(\n",
    "        test_labels,\n",
    "        svm_pred_labels,\n",
    "        target_names=[\n",
    "            \"SwitchLightOff\",\n",
    "            \"SwitchLightOn\",\n",
    "            \"IncreaseBrightness\",\n",
    "            \"DecreaseBrightness\",\n",
    "            \"SetLightBrightness\",\n",
    "            \"SetLightColor\",\n",
    "        ],\n",
    "    )\n",
    ")\n",
    "\n",
    "print(confusion_matrix(test_labels, svm_pred_labels))\n",
    "\n",
    "print(\"\\nACCURACY:\", svm_score)"
   ]
  },
  {
   "cell_type": "markdown",
   "metadata": {
    "id": "Ip5ODEnM7uUg"
   },
   "source": [
    "## NEURAL NETWORK"
   ]
  },
  {
   "cell_type": "code",
   "execution_count": 27,
   "metadata": {
    "colab": {
     "base_uri": "https://localhost:8080/"
    },
    "id": "Z7Pv4iA17uUh",
    "outputId": "8085add1-3c8e-4cff-ddbe-12fa6fbe7dfd"
   },
   "outputs": [
    {
     "name": "stdout",
     "output_type": "stream",
     "text": [
      "Average accuracy score = 0.768\n"
     ]
    }
   ],
   "source": [
    "mlp = MLPClassifier(\n",
    "    hidden_layer_sizes=(400, 100), activation=\"relu\", solver=\"adam\", max_iter=5000\n",
    ")  # Create the classification model\n",
    "\n",
    "mlp_pipe = make_pipeline(preprocessing.StandardScaler(), mlp)  # Scale feature space\n",
    "\n",
    "mean_score, mlp_pred_labels, mlp_score, test_labels = run_classifier(\n",
    "    classifier_pipe=mlp_pipe,\n",
    "    type_of_dataset=\"ASR\",\n",
    "    train_size=0.9,\n",
    "    number_of_times=100,\n",
    ")\n",
    "\n",
    "print(\"Average accuracy score =\", round(mean_score, 3))"
   ]
  },
  {
   "cell_type": "markdown",
   "metadata": {
    "id": "6Rz7L9bm7uUh"
   },
   "source": [
    "### Model Evaluation"
   ]
  },
  {
   "cell_type": "code",
   "execution_count": 28,
   "metadata": {
    "colab": {
     "base_uri": "https://localhost:8080/"
    },
    "id": "QpoI3OyT7uUi",
    "outputId": "6a3def62-490c-4a69-c195-b8b51c25b315"
   },
   "outputs": [
    {
     "name": "stdout",
     "output_type": "stream",
     "text": [
      "                    precision    recall  f1-score   support\n",
      "\n",
      "    SwitchLightOff       0.80      0.69      0.74        35\n",
      "     SwitchLightOn       0.65      0.79      0.71        19\n",
      "IncreaseBrightness       0.66      0.68      0.67        28\n",
      "DecreaseBrightness       0.52      0.54      0.53        24\n",
      "SetLightBrightness       0.85      0.93      0.89        30\n",
      "     SetLightColor       0.85      0.73      0.79        30\n",
      "\n",
      "          accuracy                           0.73       166\n",
      "         macro avg       0.72      0.73      0.72       166\n",
      "      weighted avg       0.74      0.73      0.73       166\n",
      "\n",
      "[[24  2  2  5  0  2]\n",
      " [ 1 15  1  2  0  0]\n",
      " [ 2  3 19  2  1  1]\n",
      " [ 3  1  5 13  1  1]\n",
      " [ 0  0  1  1 28  0]\n",
      " [ 0  2  1  2  3 22]]\n",
      "\n",
      "ACCURACY: 0.7289156626506024\n"
     ]
    }
   ],
   "source": [
    "print(\n",
    "    classification_report(\n",
    "        test_labels,\n",
    "        mlp_pred_labels,\n",
    "        target_names=[\n",
    "            \"SwitchLightOff\",\n",
    "            \"SwitchLightOn\",\n",
    "            \"IncreaseBrightness\",\n",
    "            \"DecreaseBrightness\",\n",
    "            \"SetLightBrightness\",\n",
    "            \"SetLightColor\",\n",
    "        ],\n",
    "    )\n",
    ")\n",
    "\n",
    "print(confusion_matrix(test_labels, mlp_pred_labels))\n",
    "\n",
    "print(\"\\nACCURACY:\", mlp_score)"
   ]
  },
  {
   "cell_type": "markdown",
   "metadata": {
    "id": "QoQKbCnb7uUi"
   },
   "source": [
    "## Try your self"
   ]
  },
  {
   "cell_type": "code",
   "execution_count": 29,
   "metadata": {
    "id": "KT3pzX167uUi"
   },
   "outputs": [],
   "source": [
    "def user_friendly(sentence, mdl):\n",
    "    \"\"\"return action from sentence\"\"\"\n",
    "    sent_token = tokenizer.encode(sentence, add_special_tokens=True)\n",
    "    sent_pad = np.array([sent_token + [0] * (_max - len(sent_token))])\n",
    "    sent_att_mask = np.where(sent_pad != 0, 1, 0)\n",
    "    sent_input_ids = torch.tensor(sent_pad)\n",
    "    sent_attention_mask = torch.tensor(sent_att_mask)\n",
    "\n",
    "    with torch.no_grad():\n",
    "        sent_last_hidden_states = model(\n",
    "            sent_input_ids, attention_mask=sent_attention_mask\n",
    "        )\n",
    "\n",
    "    feature = sent_last_hidden_states[0][:, 0, :].numpy()\n",
    "\n",
    "    prediction = mdl.predict(feature)\n",
    "    user_action = hp.indx2action(prediction)\n",
    "    return user_action"
   ]
  },
  {
   "cell_type": "code",
   "execution_count": 30,
   "metadata": {
    "colab": {
     "base_uri": "https://localhost:8080/"
    },
    "id": "MKCi2FZ47uUj",
    "outputId": "4ac8b40a-0ca3-4b19-c4ad-86459f03d9ab"
   },
   "outputs": [
    {
     "data": {
      "text/plain": [
       "['SetLightColor']"
      ]
     },
     "execution_count": 30,
     "metadata": {},
     "output_type": "execute_result"
    }
   ],
   "source": [
    "user_friendly(\"red light to the room\", lgr_pipe)"
   ]
  }
 ],
 "metadata": {
  "colab": {
   "name": "Bert.ipynb",
   "provenance": []
  },
  "interpreter": {
   "hash": "916dbcbb3f70747c44a77c7bcd40155683ae19c65e1c03b4aa3499c5328201f1"
  },
  "kernelspec": {
   "display_name": "Python 3 (ipykernel)",
   "language": "python",
   "name": "python3"
  },
  "language_info": {
   "codemirror_mode": {
    "name": "ipython",
    "version": 3
   },
   "file_extension": ".py",
   "mimetype": "text/x-python",
   "name": "python",
   "nbconvert_exporter": "python",
   "pygments_lexer": "ipython3",
   "version": "3.8.12"
  },
  "widgets": {
   "application/vnd.jupyter.widget-state+json": {
    "02d329e0f93748bfbe87a485b32b9f4c": {
     "model_module": "@jupyter-widgets/base",
     "model_module_version": "1.2.0",
     "model_name": "LayoutModel",
     "state": {
      "_model_module": "@jupyter-widgets/base",
      "_model_module_version": "1.2.0",
      "_model_name": "LayoutModel",
      "_view_count": null,
      "_view_module": "@jupyter-widgets/base",
      "_view_module_version": "1.2.0",
      "_view_name": "LayoutView",
      "align_content": null,
      "align_items": null,
      "align_self": null,
      "border": null,
      "bottom": null,
      "display": null,
      "flex": null,
      "flex_flow": null,
      "grid_area": null,
      "grid_auto_columns": null,
      "grid_auto_flow": null,
      "grid_auto_rows": null,
      "grid_column": null,
      "grid_gap": null,
      "grid_row": null,
      "grid_template_areas": null,
      "grid_template_columns": null,
      "grid_template_rows": null,
      "height": null,
      "justify_content": null,
      "justify_items": null,
      "left": null,
      "margin": null,
      "max_height": null,
      "max_width": null,
      "min_height": null,
      "min_width": null,
      "object_fit": null,
      "object_position": null,
      "order": null,
      "overflow": null,
      "overflow_x": null,
      "overflow_y": null,
      "padding": null,
      "right": null,
      "top": null,
      "visibility": null,
      "width": null
     }
    },
    "047545b3dfd74bc2bb8cffe00279e062": {
     "model_module": "@jupyter-widgets/controls",
     "model_module_version": "1.5.0",
     "model_name": "ProgressStyleModel",
     "state": {
      "_model_module": "@jupyter-widgets/controls",
      "_model_module_version": "1.5.0",
      "_model_name": "ProgressStyleModel",
      "_view_count": null,
      "_view_module": "@jupyter-widgets/base",
      "_view_module_version": "1.2.0",
      "_view_name": "StyleView",
      "bar_color": null,
      "description_width": ""
     }
    },
    "04cc6ba8ff6947fcbab0e93c5700c4b0": {
     "model_module": "@jupyter-widgets/base",
     "model_module_version": "1.2.0",
     "model_name": "LayoutModel",
     "state": {
      "_model_module": "@jupyter-widgets/base",
      "_model_module_version": "1.2.0",
      "_model_name": "LayoutModel",
      "_view_count": null,
      "_view_module": "@jupyter-widgets/base",
      "_view_module_version": "1.2.0",
      "_view_name": "LayoutView",
      "align_content": null,
      "align_items": null,
      "align_self": null,
      "border": null,
      "bottom": null,
      "display": null,
      "flex": null,
      "flex_flow": null,
      "grid_area": null,
      "grid_auto_columns": null,
      "grid_auto_flow": null,
      "grid_auto_rows": null,
      "grid_column": null,
      "grid_gap": null,
      "grid_row": null,
      "grid_template_areas": null,
      "grid_template_columns": null,
      "grid_template_rows": null,
      "height": null,
      "justify_content": null,
      "justify_items": null,
      "left": null,
      "margin": null,
      "max_height": null,
      "max_width": null,
      "min_height": null,
      "min_width": null,
      "object_fit": null,
      "object_position": null,
      "order": null,
      "overflow": null,
      "overflow_x": null,
      "overflow_y": null,
      "padding": null,
      "right": null,
      "top": null,
      "visibility": null,
      "width": null
     }
    },
    "07fc7f72c3944e4ab63c81d4cdd69c26": {
     "model_module": "@jupyter-widgets/controls",
     "model_module_version": "1.5.0",
     "model_name": "DescriptionStyleModel",
     "state": {
      "_model_module": "@jupyter-widgets/controls",
      "_model_module_version": "1.5.0",
      "_model_name": "DescriptionStyleModel",
      "_view_count": null,
      "_view_module": "@jupyter-widgets/base",
      "_view_module_version": "1.2.0",
      "_view_name": "StyleView",
      "description_width": ""
     }
    },
    "0b75d59d1cd74bff9b8c23db6b415b4b": {
     "model_module": "@jupyter-widgets/controls",
     "model_module_version": "1.5.0",
     "model_name": "HBoxModel",
     "state": {
      "_dom_classes": [],
      "_model_module": "@jupyter-widgets/controls",
      "_model_module_version": "1.5.0",
      "_model_name": "HBoxModel",
      "_view_count": null,
      "_view_module": "@jupyter-widgets/controls",
      "_view_module_version": "1.5.0",
      "_view_name": "HBoxView",
      "box_style": "",
      "children": [
       "IPY_MODEL_f0d74457a2d44eb4b8babca95e53c537",
       "IPY_MODEL_278daa03f67042a48ab9f041df614bc0",
       "IPY_MODEL_bf31faa0d86747f79d724a6337976384"
      ],
      "layout": "IPY_MODEL_3b938d79a01244588f88c9a554dbd9f9"
     }
    },
    "0f8517e3e524434eadfc4977a7501508": {
     "model_module": "@jupyter-widgets/controls",
     "model_module_version": "1.5.0",
     "model_name": "ProgressStyleModel",
     "state": {
      "_model_module": "@jupyter-widgets/controls",
      "_model_module_version": "1.5.0",
      "_model_name": "ProgressStyleModel",
      "_view_count": null,
      "_view_module": "@jupyter-widgets/base",
      "_view_module_version": "1.2.0",
      "_view_name": "StyleView",
      "bar_color": null,
      "description_width": ""
     }
    },
    "11cf276a357a4af3ac09411eeff9cd85": {
     "model_module": "@jupyter-widgets/controls",
     "model_module_version": "1.5.0",
     "model_name": "HTMLModel",
     "state": {
      "_dom_classes": [],
      "_model_module": "@jupyter-widgets/controls",
      "_model_module_version": "1.5.0",
      "_model_name": "HTMLModel",
      "_view_count": null,
      "_view_module": "@jupyter-widgets/controls",
      "_view_module_version": "1.5.0",
      "_view_name": "HTMLView",
      "description": "",
      "description_tooltip": null,
      "layout": "IPY_MODEL_d79de4c7a4b040bd9be66ace73b789ad",
      "placeholder": "​",
      "style": "IPY_MODEL_8cf8d9531d324a7c815801bc30fa7208",
      "value": "Downloading: 100%"
     }
    },
    "134fa8c9053b4d5fbe8896ba476db209": {
     "model_module": "@jupyter-widgets/base",
     "model_module_version": "1.2.0",
     "model_name": "LayoutModel",
     "state": {
      "_model_module": "@jupyter-widgets/base",
      "_model_module_version": "1.2.0",
      "_model_name": "LayoutModel",
      "_view_count": null,
      "_view_module": "@jupyter-widgets/base",
      "_view_module_version": "1.2.0",
      "_view_name": "LayoutView",
      "align_content": null,
      "align_items": null,
      "align_self": null,
      "border": null,
      "bottom": null,
      "display": null,
      "flex": null,
      "flex_flow": null,
      "grid_area": null,
      "grid_auto_columns": null,
      "grid_auto_flow": null,
      "grid_auto_rows": null,
      "grid_column": null,
      "grid_gap": null,
      "grid_row": null,
      "grid_template_areas": null,
      "grid_template_columns": null,
      "grid_template_rows": null,
      "height": null,
      "justify_content": null,
      "justify_items": null,
      "left": null,
      "margin": null,
      "max_height": null,
      "max_width": null,
      "min_height": null,
      "min_width": null,
      "object_fit": null,
      "object_position": null,
      "order": null,
      "overflow": null,
      "overflow_x": null,
      "overflow_y": null,
      "padding": null,
      "right": null,
      "top": null,
      "visibility": null,
      "width": null
     }
    },
    "14526bb90a94416fbbb264814ceea759": {
     "model_module": "@jupyter-widgets/controls",
     "model_module_version": "1.5.0",
     "model_name": "HTMLModel",
     "state": {
      "_dom_classes": [],
      "_model_module": "@jupyter-widgets/controls",
      "_model_module_version": "1.5.0",
      "_model_name": "HTMLModel",
      "_view_count": null,
      "_view_module": "@jupyter-widgets/controls",
      "_view_module_version": "1.5.0",
      "_view_name": "HTMLView",
      "description": "",
      "description_tooltip": null,
      "layout": "IPY_MODEL_f5c75e311bf6477e985b945d02f9c74b",
      "placeholder": "​",
      "style": "IPY_MODEL_66ba6dfd2da7462c83504256a2caf3ec",
      "value": " 226k/226k [00:00&lt;00:00, 342kB/s]"
     }
    },
    "21acea9e852e4871a304848ab05ade08": {
     "model_module": "@jupyter-widgets/controls",
     "model_module_version": "1.5.0",
     "model_name": "DescriptionStyleModel",
     "state": {
      "_model_module": "@jupyter-widgets/controls",
      "_model_module_version": "1.5.0",
      "_model_name": "DescriptionStyleModel",
      "_view_count": null,
      "_view_module": "@jupyter-widgets/base",
      "_view_module_version": "1.2.0",
      "_view_name": "StyleView",
      "description_width": ""
     }
    },
    "278daa03f67042a48ab9f041df614bc0": {
     "model_module": "@jupyter-widgets/controls",
     "model_module_version": "1.5.0",
     "model_name": "FloatProgressModel",
     "state": {
      "_dom_classes": [],
      "_model_module": "@jupyter-widgets/controls",
      "_model_module_version": "1.5.0",
      "_model_name": "FloatProgressModel",
      "_view_count": null,
      "_view_module": "@jupyter-widgets/controls",
      "_view_module_version": "1.5.0",
      "_view_name": "ProgressView",
      "bar_style": "success",
      "description": "",
      "description_tooltip": null,
      "layout": "IPY_MODEL_c2ba3007ed0e4655a9bd0d06ce67cb5b",
      "max": 28,
      "min": 0,
      "orientation": "horizontal",
      "style": "IPY_MODEL_32c6d1269624452ea95f3d6bd16ef753",
      "value": 28
     }
    },
    "29b19c6dc421400e98e0891191962594": {
     "model_module": "@jupyter-widgets/controls",
     "model_module_version": "1.5.0",
     "model_name": "DescriptionStyleModel",
     "state": {
      "_model_module": "@jupyter-widgets/controls",
      "_model_module_version": "1.5.0",
      "_model_name": "DescriptionStyleModel",
      "_view_count": null,
      "_view_module": "@jupyter-widgets/base",
      "_view_module_version": "1.2.0",
      "_view_name": "StyleView",
      "description_width": ""
     }
    },
    "3141a6d1de614efba2f8d3a63648ad70": {
     "model_module": "@jupyter-widgets/controls",
     "model_module_version": "1.5.0",
     "model_name": "HTMLModel",
     "state": {
      "_dom_classes": [],
      "_model_module": "@jupyter-widgets/controls",
      "_model_module_version": "1.5.0",
      "_model_name": "HTMLModel",
      "_view_count": null,
      "_view_module": "@jupyter-widgets/controls",
      "_view_module_version": "1.5.0",
      "_view_name": "HTMLView",
      "description": "",
      "description_tooltip": null,
      "layout": "IPY_MODEL_99eadbddfd6f43f6a07b0d4b4ac31cec",
      "placeholder": "​",
      "style": "IPY_MODEL_8995a1380e8d47eda1504258c43883fe",
      "value": "Downloading: 100%"
     }
    },
    "32c6d1269624452ea95f3d6bd16ef753": {
     "model_module": "@jupyter-widgets/controls",
     "model_module_version": "1.5.0",
     "model_name": "ProgressStyleModel",
     "state": {
      "_model_module": "@jupyter-widgets/controls",
      "_model_module_version": "1.5.0",
      "_model_name": "ProgressStyleModel",
      "_view_count": null,
      "_view_module": "@jupyter-widgets/base",
      "_view_module_version": "1.2.0",
      "_view_name": "StyleView",
      "bar_color": null,
      "description_width": ""
     }
    },
    "3323a6630ec24568bf22c79d18dd31a7": {
     "model_module": "@jupyter-widgets/base",
     "model_module_version": "1.2.0",
     "model_name": "LayoutModel",
     "state": {
      "_model_module": "@jupyter-widgets/base",
      "_model_module_version": "1.2.0",
      "_model_name": "LayoutModel",
      "_view_count": null,
      "_view_module": "@jupyter-widgets/base",
      "_view_module_version": "1.2.0",
      "_view_name": "LayoutView",
      "align_content": null,
      "align_items": null,
      "align_self": null,
      "border": null,
      "bottom": null,
      "display": null,
      "flex": null,
      "flex_flow": null,
      "grid_area": null,
      "grid_auto_columns": null,
      "grid_auto_flow": null,
      "grid_auto_rows": null,
      "grid_column": null,
      "grid_gap": null,
      "grid_row": null,
      "grid_template_areas": null,
      "grid_template_columns": null,
      "grid_template_rows": null,
      "height": null,
      "justify_content": null,
      "justify_items": null,
      "left": null,
      "margin": null,
      "max_height": null,
      "max_width": null,
      "min_height": null,
      "min_width": null,
      "object_fit": null,
      "object_position": null,
      "order": null,
      "overflow": null,
      "overflow_x": null,
      "overflow_y": null,
      "padding": null,
      "right": null,
      "top": null,
      "visibility": null,
      "width": null
     }
    },
    "3b938d79a01244588f88c9a554dbd9f9": {
     "model_module": "@jupyter-widgets/base",
     "model_module_version": "1.2.0",
     "model_name": "LayoutModel",
     "state": {
      "_model_module": "@jupyter-widgets/base",
      "_model_module_version": "1.2.0",
      "_model_name": "LayoutModel",
      "_view_count": null,
      "_view_module": "@jupyter-widgets/base",
      "_view_module_version": "1.2.0",
      "_view_name": "LayoutView",
      "align_content": null,
      "align_items": null,
      "align_self": null,
      "border": null,
      "bottom": null,
      "display": null,
      "flex": null,
      "flex_flow": null,
      "grid_area": null,
      "grid_auto_columns": null,
      "grid_auto_flow": null,
      "grid_auto_rows": null,
      "grid_column": null,
      "grid_gap": null,
      "grid_row": null,
      "grid_template_areas": null,
      "grid_template_columns": null,
      "grid_template_rows": null,
      "height": null,
      "justify_content": null,
      "justify_items": null,
      "left": null,
      "margin": null,
      "max_height": null,
      "max_width": null,
      "min_height": null,
      "min_width": null,
      "object_fit": null,
      "object_position": null,
      "order": null,
      "overflow": null,
      "overflow_x": null,
      "overflow_y": null,
      "padding": null,
      "right": null,
      "top": null,
      "visibility": null,
      "width": null
     }
    },
    "40359a2c415e4168a46e603715b96560": {
     "model_module": "@jupyter-widgets/base",
     "model_module_version": "1.2.0",
     "model_name": "LayoutModel",
     "state": {
      "_model_module": "@jupyter-widgets/base",
      "_model_module_version": "1.2.0",
      "_model_name": "LayoutModel",
      "_view_count": null,
      "_view_module": "@jupyter-widgets/base",
      "_view_module_version": "1.2.0",
      "_view_name": "LayoutView",
      "align_content": null,
      "align_items": null,
      "align_self": null,
      "border": null,
      "bottom": null,
      "display": null,
      "flex": null,
      "flex_flow": null,
      "grid_area": null,
      "grid_auto_columns": null,
      "grid_auto_flow": null,
      "grid_auto_rows": null,
      "grid_column": null,
      "grid_gap": null,
      "grid_row": null,
      "grid_template_areas": null,
      "grid_template_columns": null,
      "grid_template_rows": null,
      "height": null,
      "justify_content": null,
      "justify_items": null,
      "left": null,
      "margin": null,
      "max_height": null,
      "max_width": null,
      "min_height": null,
      "min_width": null,
      "object_fit": null,
      "object_position": null,
      "order": null,
      "overflow": null,
      "overflow_x": null,
      "overflow_y": null,
      "padding": null,
      "right": null,
      "top": null,
      "visibility": null,
      "width": null
     }
    },
    "4148e6a6ad7949a09fe1683a0c4a7cf3": {
     "model_module": "@jupyter-widgets/base",
     "model_module_version": "1.2.0",
     "model_name": "LayoutModel",
     "state": {
      "_model_module": "@jupyter-widgets/base",
      "_model_module_version": "1.2.0",
      "_model_name": "LayoutModel",
      "_view_count": null,
      "_view_module": "@jupyter-widgets/base",
      "_view_module_version": "1.2.0",
      "_view_name": "LayoutView",
      "align_content": null,
      "align_items": null,
      "align_self": null,
      "border": null,
      "bottom": null,
      "display": null,
      "flex": null,
      "flex_flow": null,
      "grid_area": null,
      "grid_auto_columns": null,
      "grid_auto_flow": null,
      "grid_auto_rows": null,
      "grid_column": null,
      "grid_gap": null,
      "grid_row": null,
      "grid_template_areas": null,
      "grid_template_columns": null,
      "grid_template_rows": null,
      "height": null,
      "justify_content": null,
      "justify_items": null,
      "left": null,
      "margin": null,
      "max_height": null,
      "max_width": null,
      "min_height": null,
      "min_width": null,
      "object_fit": null,
      "object_position": null,
      "order": null,
      "overflow": null,
      "overflow_x": null,
      "overflow_y": null,
      "padding": null,
      "right": null,
      "top": null,
      "visibility": null,
      "width": null
     }
    },
    "437866f4153845179c710957d41c2ad8": {
     "model_module": "@jupyter-widgets/base",
     "model_module_version": "1.2.0",
     "model_name": "LayoutModel",
     "state": {
      "_model_module": "@jupyter-widgets/base",
      "_model_module_version": "1.2.0",
      "_model_name": "LayoutModel",
      "_view_count": null,
      "_view_module": "@jupyter-widgets/base",
      "_view_module_version": "1.2.0",
      "_view_name": "LayoutView",
      "align_content": null,
      "align_items": null,
      "align_self": null,
      "border": null,
      "bottom": null,
      "display": null,
      "flex": null,
      "flex_flow": null,
      "grid_area": null,
      "grid_auto_columns": null,
      "grid_auto_flow": null,
      "grid_auto_rows": null,
      "grid_column": null,
      "grid_gap": null,
      "grid_row": null,
      "grid_template_areas": null,
      "grid_template_columns": null,
      "grid_template_rows": null,
      "height": null,
      "justify_content": null,
      "justify_items": null,
      "left": null,
      "margin": null,
      "max_height": null,
      "max_width": null,
      "min_height": null,
      "min_width": null,
      "object_fit": null,
      "object_position": null,
      "order": null,
      "overflow": null,
      "overflow_x": null,
      "overflow_y": null,
      "padding": null,
      "right": null,
      "top": null,
      "visibility": null,
      "width": null
     }
    },
    "48dcb4291bae4ca18b336ff3da2e7193": {
     "model_module": "@jupyter-widgets/controls",
     "model_module_version": "1.5.0",
     "model_name": "HTMLModel",
     "state": {
      "_dom_classes": [],
      "_model_module": "@jupyter-widgets/controls",
      "_model_module_version": "1.5.0",
      "_model_name": "HTMLModel",
      "_view_count": null,
      "_view_module": "@jupyter-widgets/controls",
      "_view_module_version": "1.5.0",
      "_view_name": "HTMLView",
      "description": "",
      "description_tooltip": null,
      "layout": "IPY_MODEL_a30174514d2542609cbb06ed1cb68282",
      "placeholder": "​",
      "style": "IPY_MODEL_07fc7f72c3944e4ab63c81d4cdd69c26",
      "value": " 455k/455k [00:00&lt;00:00, 581kB/s]"
     }
    },
    "4c6951bc69e9417c83cfb5a3a048b4f9": {
     "model_module": "@jupyter-widgets/base",
     "model_module_version": "1.2.0",
     "model_name": "LayoutModel",
     "state": {
      "_model_module": "@jupyter-widgets/base",
      "_model_module_version": "1.2.0",
      "_model_name": "LayoutModel",
      "_view_count": null,
      "_view_module": "@jupyter-widgets/base",
      "_view_module_version": "1.2.0",
      "_view_name": "LayoutView",
      "align_content": null,
      "align_items": null,
      "align_self": null,
      "border": null,
      "bottom": null,
      "display": null,
      "flex": null,
      "flex_flow": null,
      "grid_area": null,
      "grid_auto_columns": null,
      "grid_auto_flow": null,
      "grid_auto_rows": null,
      "grid_column": null,
      "grid_gap": null,
      "grid_row": null,
      "grid_template_areas": null,
      "grid_template_columns": null,
      "grid_template_rows": null,
      "height": null,
      "justify_content": null,
      "justify_items": null,
      "left": null,
      "margin": null,
      "max_height": null,
      "max_width": null,
      "min_height": null,
      "min_width": null,
      "object_fit": null,
      "object_position": null,
      "order": null,
      "overflow": null,
      "overflow_x": null,
      "overflow_y": null,
      "padding": null,
      "right": null,
      "top": null,
      "visibility": null,
      "width": null
     }
    },
    "5157dcf3f7b24726b8c04e71b0256a98": {
     "model_module": "@jupyter-widgets/base",
     "model_module_version": "1.2.0",
     "model_name": "LayoutModel",
     "state": {
      "_model_module": "@jupyter-widgets/base",
      "_model_module_version": "1.2.0",
      "_model_name": "LayoutModel",
      "_view_count": null,
      "_view_module": "@jupyter-widgets/base",
      "_view_module_version": "1.2.0",
      "_view_name": "LayoutView",
      "align_content": null,
      "align_items": null,
      "align_self": null,
      "border": null,
      "bottom": null,
      "display": null,
      "flex": null,
      "flex_flow": null,
      "grid_area": null,
      "grid_auto_columns": null,
      "grid_auto_flow": null,
      "grid_auto_rows": null,
      "grid_column": null,
      "grid_gap": null,
      "grid_row": null,
      "grid_template_areas": null,
      "grid_template_columns": null,
      "grid_template_rows": null,
      "height": null,
      "justify_content": null,
      "justify_items": null,
      "left": null,
      "margin": null,
      "max_height": null,
      "max_width": null,
      "min_height": null,
      "min_width": null,
      "object_fit": null,
      "object_position": null,
      "order": null,
      "overflow": null,
      "overflow_x": null,
      "overflow_y": null,
      "padding": null,
      "right": null,
      "top": null,
      "visibility": null,
      "width": null
     }
    },
    "5a980a3f0bee406183e30e269fee014a": {
     "model_module": "@jupyter-widgets/controls",
     "model_module_version": "1.5.0",
     "model_name": "ProgressStyleModel",
     "state": {
      "_model_module": "@jupyter-widgets/controls",
      "_model_module_version": "1.5.0",
      "_model_name": "ProgressStyleModel",
      "_view_count": null,
      "_view_module": "@jupyter-widgets/base",
      "_view_module_version": "1.2.0",
      "_view_name": "StyleView",
      "bar_color": null,
      "description_width": ""
     }
    },
    "5b4efc2d847f496dbd42e9822de693c7": {
     "model_module": "@jupyter-widgets/base",
     "model_module_version": "1.2.0",
     "model_name": "LayoutModel",
     "state": {
      "_model_module": "@jupyter-widgets/base",
      "_model_module_version": "1.2.0",
      "_model_name": "LayoutModel",
      "_view_count": null,
      "_view_module": "@jupyter-widgets/base",
      "_view_module_version": "1.2.0",
      "_view_name": "LayoutView",
      "align_content": null,
      "align_items": null,
      "align_self": null,
      "border": null,
      "bottom": null,
      "display": null,
      "flex": null,
      "flex_flow": null,
      "grid_area": null,
      "grid_auto_columns": null,
      "grid_auto_flow": null,
      "grid_auto_rows": null,
      "grid_column": null,
      "grid_gap": null,
      "grid_row": null,
      "grid_template_areas": null,
      "grid_template_columns": null,
      "grid_template_rows": null,
      "height": null,
      "justify_content": null,
      "justify_items": null,
      "left": null,
      "margin": null,
      "max_height": null,
      "max_width": null,
      "min_height": null,
      "min_width": null,
      "object_fit": null,
      "object_position": null,
      "order": null,
      "overflow": null,
      "overflow_x": null,
      "overflow_y": null,
      "padding": null,
      "right": null,
      "top": null,
      "visibility": null,
      "width": null
     }
    },
    "5ba7b4b0c75f4481bc22524239da29fe": {
     "model_module": "@jupyter-widgets/controls",
     "model_module_version": "1.5.0",
     "model_name": "HBoxModel",
     "state": {
      "_dom_classes": [],
      "_model_module": "@jupyter-widgets/controls",
      "_model_module_version": "1.5.0",
      "_model_name": "HBoxModel",
      "_view_count": null,
      "_view_module": "@jupyter-widgets/controls",
      "_view_module_version": "1.5.0",
      "_view_name": "HBoxView",
      "box_style": "",
      "children": [
       "IPY_MODEL_83440f8a4c4741bc916e2e16666271bf",
       "IPY_MODEL_5e21f54e568c4b02b114c33b696f6a4f",
       "IPY_MODEL_14526bb90a94416fbbb264814ceea759"
      ],
      "layout": "IPY_MODEL_5b4efc2d847f496dbd42e9822de693c7"
     }
    },
    "5dd4884a320747e794bb458c8bea4936": {
     "model_module": "@jupyter-widgets/controls",
     "model_module_version": "1.5.0",
     "model_name": "DescriptionStyleModel",
     "state": {
      "_model_module": "@jupyter-widgets/controls",
      "_model_module_version": "1.5.0",
      "_model_name": "DescriptionStyleModel",
      "_view_count": null,
      "_view_module": "@jupyter-widgets/base",
      "_view_module_version": "1.2.0",
      "_view_name": "StyleView",
      "description_width": ""
     }
    },
    "5e21f54e568c4b02b114c33b696f6a4f": {
     "model_module": "@jupyter-widgets/controls",
     "model_module_version": "1.5.0",
     "model_name": "FloatProgressModel",
     "state": {
      "_dom_classes": [],
      "_model_module": "@jupyter-widgets/controls",
      "_model_module_version": "1.5.0",
      "_model_name": "FloatProgressModel",
      "_view_count": null,
      "_view_module": "@jupyter-widgets/controls",
      "_view_module_version": "1.5.0",
      "_view_name": "ProgressView",
      "bar_style": "success",
      "description": "",
      "description_tooltip": null,
      "layout": "IPY_MODEL_40359a2c415e4168a46e603715b96560",
      "max": 231508,
      "min": 0,
      "orientation": "horizontal",
      "style": "IPY_MODEL_5a980a3f0bee406183e30e269fee014a",
      "value": 231508
     }
    },
    "66ba6dfd2da7462c83504256a2caf3ec": {
     "model_module": "@jupyter-widgets/controls",
     "model_module_version": "1.5.0",
     "model_name": "DescriptionStyleModel",
     "state": {
      "_model_module": "@jupyter-widgets/controls",
      "_model_module_version": "1.5.0",
      "_model_name": "DescriptionStyleModel",
      "_view_count": null,
      "_view_module": "@jupyter-widgets/base",
      "_view_module_version": "1.2.0",
      "_view_name": "StyleView",
      "description_width": ""
     }
    },
    "68d0ffa9beeb463484bcf7c6b9155111": {
     "model_module": "@jupyter-widgets/controls",
     "model_module_version": "1.5.0",
     "model_name": "DescriptionStyleModel",
     "state": {
      "_model_module": "@jupyter-widgets/controls",
      "_model_module_version": "1.5.0",
      "_model_name": "DescriptionStyleModel",
      "_view_count": null,
      "_view_module": "@jupyter-widgets/base",
      "_view_module_version": "1.2.0",
      "_view_name": "StyleView",
      "description_width": ""
     }
    },
    "713d682eb8f146fd800c76903662c93b": {
     "model_module": "@jupyter-widgets/base",
     "model_module_version": "1.2.0",
     "model_name": "LayoutModel",
     "state": {
      "_model_module": "@jupyter-widgets/base",
      "_model_module_version": "1.2.0",
      "_model_name": "LayoutModel",
      "_view_count": null,
      "_view_module": "@jupyter-widgets/base",
      "_view_module_version": "1.2.0",
      "_view_name": "LayoutView",
      "align_content": null,
      "align_items": null,
      "align_self": null,
      "border": null,
      "bottom": null,
      "display": null,
      "flex": null,
      "flex_flow": null,
      "grid_area": null,
      "grid_auto_columns": null,
      "grid_auto_flow": null,
      "grid_auto_rows": null,
      "grid_column": null,
      "grid_gap": null,
      "grid_row": null,
      "grid_template_areas": null,
      "grid_template_columns": null,
      "grid_template_rows": null,
      "height": null,
      "justify_content": null,
      "justify_items": null,
      "left": null,
      "margin": null,
      "max_height": null,
      "max_width": null,
      "min_height": null,
      "min_width": null,
      "object_fit": null,
      "object_position": null,
      "order": null,
      "overflow": null,
      "overflow_x": null,
      "overflow_y": null,
      "padding": null,
      "right": null,
      "top": null,
      "visibility": null,
      "width": null
     }
    },
    "75368e65e9414addab6c24631142d1c7": {
     "model_module": "@jupyter-widgets/controls",
     "model_module_version": "1.5.0",
     "model_name": "HTMLModel",
     "state": {
      "_dom_classes": [],
      "_model_module": "@jupyter-widgets/controls",
      "_model_module_version": "1.5.0",
      "_model_name": "HTMLModel",
      "_view_count": null,
      "_view_module": "@jupyter-widgets/controls",
      "_view_module_version": "1.5.0",
      "_view_name": "HTMLView",
      "description": "",
      "description_tooltip": null,
      "layout": "IPY_MODEL_134fa8c9053b4d5fbe8896ba476db209",
      "placeholder": "​",
      "style": "IPY_MODEL_68d0ffa9beeb463484bcf7c6b9155111",
      "value": " 483/483 [00:00&lt;00:00, 3.33kB/s]"
     }
    },
    "7c9f3aa79cae4e60b6a2aa98b1f840ae": {
     "model_module": "@jupyter-widgets/controls",
     "model_module_version": "1.5.0",
     "model_name": "ProgressStyleModel",
     "state": {
      "_model_module": "@jupyter-widgets/controls",
      "_model_module_version": "1.5.0",
      "_model_name": "ProgressStyleModel",
      "_view_count": null,
      "_view_module": "@jupyter-widgets/base",
      "_view_module_version": "1.2.0",
      "_view_name": "StyleView",
      "bar_color": null,
      "description_width": ""
     }
    },
    "81437c5cecc34e84bdc5a26d551afd6f": {
     "model_module": "@jupyter-widgets/controls",
     "model_module_version": "1.5.0",
     "model_name": "DescriptionStyleModel",
     "state": {
      "_model_module": "@jupyter-widgets/controls",
      "_model_module_version": "1.5.0",
      "_model_name": "DescriptionStyleModel",
      "_view_count": null,
      "_view_module": "@jupyter-widgets/base",
      "_view_module_version": "1.2.0",
      "_view_name": "StyleView",
      "description_width": ""
     }
    },
    "83440f8a4c4741bc916e2e16666271bf": {
     "model_module": "@jupyter-widgets/controls",
     "model_module_version": "1.5.0",
     "model_name": "HTMLModel",
     "state": {
      "_dom_classes": [],
      "_model_module": "@jupyter-widgets/controls",
      "_model_module_version": "1.5.0",
      "_model_name": "HTMLModel",
      "_view_count": null,
      "_view_module": "@jupyter-widgets/controls",
      "_view_module_version": "1.5.0",
      "_view_name": "HTMLView",
      "description": "",
      "description_tooltip": null,
      "layout": "IPY_MODEL_713d682eb8f146fd800c76903662c93b",
      "placeholder": "​",
      "style": "IPY_MODEL_5dd4884a320747e794bb458c8bea4936",
      "value": "Downloading: 100%"
     }
    },
    "8995a1380e8d47eda1504258c43883fe": {
     "model_module": "@jupyter-widgets/controls",
     "model_module_version": "1.5.0",
     "model_name": "DescriptionStyleModel",
     "state": {
      "_model_module": "@jupyter-widgets/controls",
      "_model_module_version": "1.5.0",
      "_model_name": "DescriptionStyleModel",
      "_view_count": null,
      "_view_module": "@jupyter-widgets/base",
      "_view_module_version": "1.2.0",
      "_view_name": "StyleView",
      "description_width": ""
     }
    },
    "8cf8d9531d324a7c815801bc30fa7208": {
     "model_module": "@jupyter-widgets/controls",
     "model_module_version": "1.5.0",
     "model_name": "DescriptionStyleModel",
     "state": {
      "_model_module": "@jupyter-widgets/controls",
      "_model_module_version": "1.5.0",
      "_model_name": "DescriptionStyleModel",
      "_view_count": null,
      "_view_module": "@jupyter-widgets/base",
      "_view_module_version": "1.2.0",
      "_view_name": "StyleView",
      "description_width": ""
     }
    },
    "91d3d7486845471ea08b95fe21e4bf05": {
     "model_module": "@jupyter-widgets/controls",
     "model_module_version": "1.5.0",
     "model_name": "HBoxModel",
     "state": {
      "_dom_classes": [],
      "_model_module": "@jupyter-widgets/controls",
      "_model_module_version": "1.5.0",
      "_model_name": "HBoxModel",
      "_view_count": null,
      "_view_module": "@jupyter-widgets/controls",
      "_view_module_version": "1.5.0",
      "_view_name": "HBoxView",
      "box_style": "",
      "children": [
       "IPY_MODEL_d23f6df0b94040de938ca5ec9d5ecf91",
       "IPY_MODEL_afadfc30e6df4f63a42c468f2fd95127",
       "IPY_MODEL_f861b70097364fe889bee46a46f60501"
      ],
      "layout": "IPY_MODEL_02d329e0f93748bfbe87a485b32b9f4c"
     }
    },
    "99319013b5e441eb85acda061f1cce58": {
     "model_module": "@jupyter-widgets/controls",
     "model_module_version": "1.5.0",
     "model_name": "FloatProgressModel",
     "state": {
      "_dom_classes": [],
      "_model_module": "@jupyter-widgets/controls",
      "_model_module_version": "1.5.0",
      "_model_name": "FloatProgressModel",
      "_view_count": null,
      "_view_module": "@jupyter-widgets/controls",
      "_view_module_version": "1.5.0",
      "_view_name": "ProgressView",
      "bar_style": "success",
      "description": "",
      "description_tooltip": null,
      "layout": "IPY_MODEL_3323a6630ec24568bf22c79d18dd31a7",
      "max": 483,
      "min": 0,
      "orientation": "horizontal",
      "style": "IPY_MODEL_7c9f3aa79cae4e60b6a2aa98b1f840ae",
      "value": 483
     }
    },
    "99eadbddfd6f43f6a07b0d4b4ac31cec": {
     "model_module": "@jupyter-widgets/base",
     "model_module_version": "1.2.0",
     "model_name": "LayoutModel",
     "state": {
      "_model_module": "@jupyter-widgets/base",
      "_model_module_version": "1.2.0",
      "_model_name": "LayoutModel",
      "_view_count": null,
      "_view_module": "@jupyter-widgets/base",
      "_view_module_version": "1.2.0",
      "_view_name": "LayoutView",
      "align_content": null,
      "align_items": null,
      "align_self": null,
      "border": null,
      "bottom": null,
      "display": null,
      "flex": null,
      "flex_flow": null,
      "grid_area": null,
      "grid_auto_columns": null,
      "grid_auto_flow": null,
      "grid_auto_rows": null,
      "grid_column": null,
      "grid_gap": null,
      "grid_row": null,
      "grid_template_areas": null,
      "grid_template_columns": null,
      "grid_template_rows": null,
      "height": null,
      "justify_content": null,
      "justify_items": null,
      "left": null,
      "margin": null,
      "max_height": null,
      "max_width": null,
      "min_height": null,
      "min_width": null,
      "object_fit": null,
      "object_position": null,
      "order": null,
      "overflow": null,
      "overflow_x": null,
      "overflow_y": null,
      "padding": null,
      "right": null,
      "top": null,
      "visibility": null,
      "width": null
     }
    },
    "9a18ee9a1eb64ea98c019793318623a2": {
     "model_module": "@jupyter-widgets/controls",
     "model_module_version": "1.5.0",
     "model_name": "FloatProgressModel",
     "state": {
      "_dom_classes": [],
      "_model_module": "@jupyter-widgets/controls",
      "_model_module_version": "1.5.0",
      "_model_name": "FloatProgressModel",
      "_view_count": null,
      "_view_module": "@jupyter-widgets/controls",
      "_view_module_version": "1.5.0",
      "_view_name": "ProgressView",
      "bar_style": "success",
      "description": "",
      "description_tooltip": null,
      "layout": "IPY_MODEL_4c6951bc69e9417c83cfb5a3a048b4f9",
      "max": 466062,
      "min": 0,
      "orientation": "horizontal",
      "style": "IPY_MODEL_0f8517e3e524434eadfc4977a7501508",
      "value": 466062
     }
    },
    "a30174514d2542609cbb06ed1cb68282": {
     "model_module": "@jupyter-widgets/base",
     "model_module_version": "1.2.0",
     "model_name": "LayoutModel",
     "state": {
      "_model_module": "@jupyter-widgets/base",
      "_model_module_version": "1.2.0",
      "_model_name": "LayoutModel",
      "_view_count": null,
      "_view_module": "@jupyter-widgets/base",
      "_view_module_version": "1.2.0",
      "_view_name": "LayoutView",
      "align_content": null,
      "align_items": null,
      "align_self": null,
      "border": null,
      "bottom": null,
      "display": null,
      "flex": null,
      "flex_flow": null,
      "grid_area": null,
      "grid_auto_columns": null,
      "grid_auto_flow": null,
      "grid_auto_rows": null,
      "grid_column": null,
      "grid_gap": null,
      "grid_row": null,
      "grid_template_areas": null,
      "grid_template_columns": null,
      "grid_template_rows": null,
      "height": null,
      "justify_content": null,
      "justify_items": null,
      "left": null,
      "margin": null,
      "max_height": null,
      "max_width": null,
      "min_height": null,
      "min_width": null,
      "object_fit": null,
      "object_position": null,
      "order": null,
      "overflow": null,
      "overflow_x": null,
      "overflow_y": null,
      "padding": null,
      "right": null,
      "top": null,
      "visibility": null,
      "width": null
     }
    },
    "a35844db8df247e89904438e460b43b1": {
     "model_module": "@jupyter-widgets/base",
     "model_module_version": "1.2.0",
     "model_name": "LayoutModel",
     "state": {
      "_model_module": "@jupyter-widgets/base",
      "_model_module_version": "1.2.0",
      "_model_name": "LayoutModel",
      "_view_count": null,
      "_view_module": "@jupyter-widgets/base",
      "_view_module_version": "1.2.0",
      "_view_name": "LayoutView",
      "align_content": null,
      "align_items": null,
      "align_self": null,
      "border": null,
      "bottom": null,
      "display": null,
      "flex": null,
      "flex_flow": null,
      "grid_area": null,
      "grid_auto_columns": null,
      "grid_auto_flow": null,
      "grid_auto_rows": null,
      "grid_column": null,
      "grid_gap": null,
      "grid_row": null,
      "grid_template_areas": null,
      "grid_template_columns": null,
      "grid_template_rows": null,
      "height": null,
      "justify_content": null,
      "justify_items": null,
      "left": null,
      "margin": null,
      "max_height": null,
      "max_width": null,
      "min_height": null,
      "min_width": null,
      "object_fit": null,
      "object_position": null,
      "order": null,
      "overflow": null,
      "overflow_x": null,
      "overflow_y": null,
      "padding": null,
      "right": null,
      "top": null,
      "visibility": null,
      "width": null
     }
    },
    "afadfc30e6df4f63a42c468f2fd95127": {
     "model_module": "@jupyter-widgets/controls",
     "model_module_version": "1.5.0",
     "model_name": "FloatProgressModel",
     "state": {
      "_dom_classes": [],
      "_model_module": "@jupyter-widgets/controls",
      "_model_module_version": "1.5.0",
      "_model_name": "FloatProgressModel",
      "_view_count": null,
      "_view_module": "@jupyter-widgets/controls",
      "_view_module_version": "1.5.0",
      "_view_name": "ProgressView",
      "bar_style": "success",
      "description": "",
      "description_tooltip": null,
      "layout": "IPY_MODEL_a35844db8df247e89904438e460b43b1",
      "max": 267967963,
      "min": 0,
      "orientation": "horizontal",
      "style": "IPY_MODEL_047545b3dfd74bc2bb8cffe00279e062",
      "value": 267967963
     }
    },
    "b676cf2c9aa447d18c30340f07a068b6": {
     "model_module": "@jupyter-widgets/base",
     "model_module_version": "1.2.0",
     "model_name": "LayoutModel",
     "state": {
      "_model_module": "@jupyter-widgets/base",
      "_model_module_version": "1.2.0",
      "_model_name": "LayoutModel",
      "_view_count": null,
      "_view_module": "@jupyter-widgets/base",
      "_view_module_version": "1.2.0",
      "_view_name": "LayoutView",
      "align_content": null,
      "align_items": null,
      "align_self": null,
      "border": null,
      "bottom": null,
      "display": null,
      "flex": null,
      "flex_flow": null,
      "grid_area": null,
      "grid_auto_columns": null,
      "grid_auto_flow": null,
      "grid_auto_rows": null,
      "grid_column": null,
      "grid_gap": null,
      "grid_row": null,
      "grid_template_areas": null,
      "grid_template_columns": null,
      "grid_template_rows": null,
      "height": null,
      "justify_content": null,
      "justify_items": null,
      "left": null,
      "margin": null,
      "max_height": null,
      "max_width": null,
      "min_height": null,
      "min_width": null,
      "object_fit": null,
      "object_position": null,
      "order": null,
      "overflow": null,
      "overflow_x": null,
      "overflow_y": null,
      "padding": null,
      "right": null,
      "top": null,
      "visibility": null,
      "width": null
     }
    },
    "bf31faa0d86747f79d724a6337976384": {
     "model_module": "@jupyter-widgets/controls",
     "model_module_version": "1.5.0",
     "model_name": "HTMLModel",
     "state": {
      "_dom_classes": [],
      "_model_module": "@jupyter-widgets/controls",
      "_model_module_version": "1.5.0",
      "_model_name": "HTMLModel",
      "_view_count": null,
      "_view_module": "@jupyter-widgets/controls",
      "_view_module_version": "1.5.0",
      "_view_name": "HTMLView",
      "description": "",
      "description_tooltip": null,
      "layout": "IPY_MODEL_f95f95cb4027418e8c287fb46f93ffcd",
      "placeholder": "​",
      "style": "IPY_MODEL_81437c5cecc34e84bdc5a26d551afd6f",
      "value": " 28.0/28.0 [00:00&lt;00:00, 251B/s]"
     }
    },
    "c2ba3007ed0e4655a9bd0d06ce67cb5b": {
     "model_module": "@jupyter-widgets/base",
     "model_module_version": "1.2.0",
     "model_name": "LayoutModel",
     "state": {
      "_model_module": "@jupyter-widgets/base",
      "_model_module_version": "1.2.0",
      "_model_name": "LayoutModel",
      "_view_count": null,
      "_view_module": "@jupyter-widgets/base",
      "_view_module_version": "1.2.0",
      "_view_name": "LayoutView",
      "align_content": null,
      "align_items": null,
      "align_self": null,
      "border": null,
      "bottom": null,
      "display": null,
      "flex": null,
      "flex_flow": null,
      "grid_area": null,
      "grid_auto_columns": null,
      "grid_auto_flow": null,
      "grid_auto_rows": null,
      "grid_column": null,
      "grid_gap": null,
      "grid_row": null,
      "grid_template_areas": null,
      "grid_template_columns": null,
      "grid_template_rows": null,
      "height": null,
      "justify_content": null,
      "justify_items": null,
      "left": null,
      "margin": null,
      "max_height": null,
      "max_width": null,
      "min_height": null,
      "min_width": null,
      "object_fit": null,
      "object_position": null,
      "order": null,
      "overflow": null,
      "overflow_x": null,
      "overflow_y": null,
      "padding": null,
      "right": null,
      "top": null,
      "visibility": null,
      "width": null
     }
    },
    "d23f6df0b94040de938ca5ec9d5ecf91": {
     "model_module": "@jupyter-widgets/controls",
     "model_module_version": "1.5.0",
     "model_name": "HTMLModel",
     "state": {
      "_dom_classes": [],
      "_model_module": "@jupyter-widgets/controls",
      "_model_module_version": "1.5.0",
      "_model_name": "HTMLModel",
      "_view_count": null,
      "_view_module": "@jupyter-widgets/controls",
      "_view_module_version": "1.5.0",
      "_view_name": "HTMLView",
      "description": "",
      "description_tooltip": null,
      "layout": "IPY_MODEL_04cc6ba8ff6947fcbab0e93c5700c4b0",
      "placeholder": "​",
      "style": "IPY_MODEL_21acea9e852e4871a304848ab05ade08",
      "value": "Downloading: 100%"
     }
    },
    "d79de4c7a4b040bd9be66ace73b789ad": {
     "model_module": "@jupyter-widgets/base",
     "model_module_version": "1.2.0",
     "model_name": "LayoutModel",
     "state": {
      "_model_module": "@jupyter-widgets/base",
      "_model_module_version": "1.2.0",
      "_model_name": "LayoutModel",
      "_view_count": null,
      "_view_module": "@jupyter-widgets/base",
      "_view_module_version": "1.2.0",
      "_view_name": "LayoutView",
      "align_content": null,
      "align_items": null,
      "align_self": null,
      "border": null,
      "bottom": null,
      "display": null,
      "flex": null,
      "flex_flow": null,
      "grid_area": null,
      "grid_auto_columns": null,
      "grid_auto_flow": null,
      "grid_auto_rows": null,
      "grid_column": null,
      "grid_gap": null,
      "grid_row": null,
      "grid_template_areas": null,
      "grid_template_columns": null,
      "grid_template_rows": null,
      "height": null,
      "justify_content": null,
      "justify_items": null,
      "left": null,
      "margin": null,
      "max_height": null,
      "max_width": null,
      "min_height": null,
      "min_width": null,
      "object_fit": null,
      "object_position": null,
      "order": null,
      "overflow": null,
      "overflow_x": null,
      "overflow_y": null,
      "padding": null,
      "right": null,
      "top": null,
      "visibility": null,
      "width": null
     }
    },
    "dfe419ac56fa4e8fbbcc5fce761e5206": {
     "model_module": "@jupyter-widgets/controls",
     "model_module_version": "1.5.0",
     "model_name": "HBoxModel",
     "state": {
      "_dom_classes": [],
      "_model_module": "@jupyter-widgets/controls",
      "_model_module_version": "1.5.0",
      "_model_name": "HBoxModel",
      "_view_count": null,
      "_view_module": "@jupyter-widgets/controls",
      "_view_module_version": "1.5.0",
      "_view_name": "HBoxView",
      "box_style": "",
      "children": [
       "IPY_MODEL_3141a6d1de614efba2f8d3a63648ad70",
       "IPY_MODEL_9a18ee9a1eb64ea98c019793318623a2",
       "IPY_MODEL_48dcb4291bae4ca18b336ff3da2e7193"
      ],
      "layout": "IPY_MODEL_437866f4153845179c710957d41c2ad8"
     }
    },
    "e456c2cd837442a280a80d676d63b394": {
     "model_module": "@jupyter-widgets/controls",
     "model_module_version": "1.5.0",
     "model_name": "DescriptionStyleModel",
     "state": {
      "_model_module": "@jupyter-widgets/controls",
      "_model_module_version": "1.5.0",
      "_model_name": "DescriptionStyleModel",
      "_view_count": null,
      "_view_module": "@jupyter-widgets/base",
      "_view_module_version": "1.2.0",
      "_view_name": "StyleView",
      "description_width": ""
     }
    },
    "f0d74457a2d44eb4b8babca95e53c537": {
     "model_module": "@jupyter-widgets/controls",
     "model_module_version": "1.5.0",
     "model_name": "HTMLModel",
     "state": {
      "_dom_classes": [],
      "_model_module": "@jupyter-widgets/controls",
      "_model_module_version": "1.5.0",
      "_model_name": "HTMLModel",
      "_view_count": null,
      "_view_module": "@jupyter-widgets/controls",
      "_view_module_version": "1.5.0",
      "_view_name": "HTMLView",
      "description": "",
      "description_tooltip": null,
      "layout": "IPY_MODEL_b676cf2c9aa447d18c30340f07a068b6",
      "placeholder": "​",
      "style": "IPY_MODEL_e456c2cd837442a280a80d676d63b394",
      "value": "Downloading: 100%"
     }
    },
    "f5c75e311bf6477e985b945d02f9c74b": {
     "model_module": "@jupyter-widgets/base",
     "model_module_version": "1.2.0",
     "model_name": "LayoutModel",
     "state": {
      "_model_module": "@jupyter-widgets/base",
      "_model_module_version": "1.2.0",
      "_model_name": "LayoutModel",
      "_view_count": null,
      "_view_module": "@jupyter-widgets/base",
      "_view_module_version": "1.2.0",
      "_view_name": "LayoutView",
      "align_content": null,
      "align_items": null,
      "align_self": null,
      "border": null,
      "bottom": null,
      "display": null,
      "flex": null,
      "flex_flow": null,
      "grid_area": null,
      "grid_auto_columns": null,
      "grid_auto_flow": null,
      "grid_auto_rows": null,
      "grid_column": null,
      "grid_gap": null,
      "grid_row": null,
      "grid_template_areas": null,
      "grid_template_columns": null,
      "grid_template_rows": null,
      "height": null,
      "justify_content": null,
      "justify_items": null,
      "left": null,
      "margin": null,
      "max_height": null,
      "max_width": null,
      "min_height": null,
      "min_width": null,
      "object_fit": null,
      "object_position": null,
      "order": null,
      "overflow": null,
      "overflow_x": null,
      "overflow_y": null,
      "padding": null,
      "right": null,
      "top": null,
      "visibility": null,
      "width": null
     }
    },
    "f6f8fe9cae104221b3911d2892b75306": {
     "model_module": "@jupyter-widgets/controls",
     "model_module_version": "1.5.0",
     "model_name": "HBoxModel",
     "state": {
      "_dom_classes": [],
      "_model_module": "@jupyter-widgets/controls",
      "_model_module_version": "1.5.0",
      "_model_name": "HBoxModel",
      "_view_count": null,
      "_view_module": "@jupyter-widgets/controls",
      "_view_module_version": "1.5.0",
      "_view_name": "HBoxView",
      "box_style": "",
      "children": [
       "IPY_MODEL_11cf276a357a4af3ac09411eeff9cd85",
       "IPY_MODEL_99319013b5e441eb85acda061f1cce58",
       "IPY_MODEL_75368e65e9414addab6c24631142d1c7"
      ],
      "layout": "IPY_MODEL_4148e6a6ad7949a09fe1683a0c4a7cf3"
     }
    },
    "f861b70097364fe889bee46a46f60501": {
     "model_module": "@jupyter-widgets/controls",
     "model_module_version": "1.5.0",
     "model_name": "HTMLModel",
     "state": {
      "_dom_classes": [],
      "_model_module": "@jupyter-widgets/controls",
      "_model_module_version": "1.5.0",
      "_model_name": "HTMLModel",
      "_view_count": null,
      "_view_module": "@jupyter-widgets/controls",
      "_view_module_version": "1.5.0",
      "_view_name": "HTMLView",
      "description": "",
      "description_tooltip": null,
      "layout": "IPY_MODEL_5157dcf3f7b24726b8c04e71b0256a98",
      "placeholder": "​",
      "style": "IPY_MODEL_29b19c6dc421400e98e0891191962594",
      "value": " 256M/256M [00:15&lt;00:00, 37.8MB/s]"
     }
    },
    "f95f95cb4027418e8c287fb46f93ffcd": {
     "model_module": "@jupyter-widgets/base",
     "model_module_version": "1.2.0",
     "model_name": "LayoutModel",
     "state": {
      "_model_module": "@jupyter-widgets/base",
      "_model_module_version": "1.2.0",
      "_model_name": "LayoutModel",
      "_view_count": null,
      "_view_module": "@jupyter-widgets/base",
      "_view_module_version": "1.2.0",
      "_view_name": "LayoutView",
      "align_content": null,
      "align_items": null,
      "align_self": null,
      "border": null,
      "bottom": null,
      "display": null,
      "flex": null,
      "flex_flow": null,
      "grid_area": null,
      "grid_auto_columns": null,
      "grid_auto_flow": null,
      "grid_auto_rows": null,
      "grid_column": null,
      "grid_gap": null,
      "grid_row": null,
      "grid_template_areas": null,
      "grid_template_columns": null,
      "grid_template_rows": null,
      "height": null,
      "justify_content": null,
      "justify_items": null,
      "left": null,
      "margin": null,
      "max_height": null,
      "max_width": null,
      "min_height": null,
      "min_width": null,
      "object_fit": null,
      "object_position": null,
      "order": null,
      "overflow": null,
      "overflow_x": null,
      "overflow_y": null,
      "padding": null,
      "right": null,
      "top": null,
      "visibility": null,
      "width": null
     }
    }
   }
  }
 },
 "nbformat": 4,
 "nbformat_minor": 1
}
