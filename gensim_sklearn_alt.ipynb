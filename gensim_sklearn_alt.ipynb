{
 "cells": [
  {
   "cell_type": "markdown",
   "metadata": {},
   "source": [
    "# Test main Erik"
   ]
  },
  {
   "cell_type": "code",
   "execution_count": 1,
   "metadata": {},
   "outputs": [],
   "source": [
    "# Downloads\n",
    "# nltk.download('stopwords')\n",
    "# nltk.download('wordnet')\n",
    "\n",
    "# Import \n",
    "from gensim.test.utils import common_texts\n",
    "from gensim.models import TfidfModel\n",
    "from gensim.corpora import Dictionary\n",
    "\n",
    "import nltk\n",
    "from nltk.corpus import stopwords\n",
    "from nltk.stem import WordNetLemmatizer\n",
    "\n",
    "\n",
    "from sklearn.model_selection import train_test_split\n",
    "from sklearn.linear_model import LogisticRegression\n",
    "\n",
    "import numpy as np\n",
    "import json"
   ]
  },
  {
   "cell_type": "markdown",
   "metadata": {},
   "source": [
    "## TF IDF"
   ]
  },
  {
   "cell_type": "markdown",
   "metadata": {},
   "source": [
    "### General testing"
   ]
  },
  {
   "cell_type": "code",
   "execution_count": 154,
   "metadata": {},
   "outputs": [],
   "source": [
    "# Basic model\n",
    "dataset = common_texts\n",
    "dct = Dictionary(dataset)   # Set of avaliable text\n",
    "corpus = [dct.doc2bow(line) for line in dataset]  # convert corpus to BoW format (i.e for each word in every sentece return \"(index,nr times in sentence)\"\"\n",
    "\n",
    "model = TfidfModel(corpus)  # fit model\n",
    "vector = model[corpus]   # apply model to the corpus document"
   ]
  },
  {
   "cell_type": "markdown",
   "metadata": {},
   "source": [
    "### Our data"
   ]
  },
  {
   "cell_type": "code",
   "execution_count": 4,
   "metadata": {},
   "outputs": [],
   "source": [
    "# Import raw meta data\n",
    "File = open(\"openvoc-keyword-spotting-research-datasets/smart-lights/metadata.json\")\n",
    "metaData_in = json.load(File)\n",
    "N =  len(metaData_in)\n",
    "keys = list(metaData_in.keys())"
   ]
  },
  {
   "cell_type": "code",
   "execution_count": 5,
   "metadata": {},
   "outputs": [
    {
     "name": "stdout",
     "output_type": "stream",
     "text": [
      "['want', 'turn', 'off', 'light', 'living', 'room']\n",
      "['turn off', 'living room']\n"
     ]
    }
   ],
   "source": [
    "# Manual tokenization + removing stopwords + lemmatization\n",
    "important_words = {'on','off'}\n",
    "lemmatizer = WordNetLemmatizer()\n",
    "y_raw = []\n",
    "X = []\n",
    "for i in range(N):\n",
    "    words = metaData_in.get(keys[i]).get('transcript').split(' ')\n",
    "    words = [lemmatizer.lemmatize(word) for word in words if word not in ( set(stopwords.words('english'))-important_words)]\n",
    "    X.append(words)\n",
    "    y_raw.append(metaData_in.get(keys[i]).get('keywords'))\n",
    "\n",
    "print(X[0])\n",
    "print(y_raw[0])"
   ]
  },
  {
   "cell_type": "code",
   "execution_count": 157,
   "metadata": {},
   "outputs": [],
   "source": [
    "#keywords to user action\n",
    "def indx2action(y_num):\n",
    "    N = len(y_num)\n",
    "    y =[]\n",
    "    for i in range (N):\n",
    "        if y_num[i] == 0:\n",
    "            y.append('SwitchLightOff')\n",
    "        elif y_num[i] == 1:\n",
    "            y.append('SwitchLightOn')\n",
    "        elif y_num[i] == 2:\n",
    "            y.append('IncreaseBrightness')\n",
    "        elif  y_num[i] == 3:\n",
    "            y.append('DecreaseBrightness')\n",
    "        else:\n",
    "            y.append('No class assigned')\n",
    "    return y\n",
    "\n",
    "y = []\n",
    "y_num = np.empty(N)\n",
    "i = 0\n",
    "for line in y_raw:\n",
    "    for word in line:\n",
    "        if word == 'turn off':\n",
    "            y.append('SwitchLightOff')\n",
    "            y_num[i] = 0\n",
    "            break\n",
    "        elif word == 'turn on':\n",
    "            y.append('SwitchLightOn')\n",
    "            y_num[i] = 1\n",
    "            break\n",
    "        elif word == 'increase':\n",
    "            y.append('IncreaseBrightness')\n",
    "            y_num[i] = 2\n",
    "            break\n",
    "        elif word == 'decrease':\n",
    "            y.append('DecreaseBrightness')\n",
    "            y_num[i] = 3\n",
    "            break\n",
    "        else:\n",
    "            y.append('No class')\n",
    "            y_num[i] = 4\n",
    "            break\n",
    "    i += 1"
   ]
  },
  {
   "cell_type": "code",
   "execution_count": 147,
   "metadata": {},
   "outputs": [],
   "source": [
    "# Create TD*IDF vector represenation\n",
    "dct_X = Dictionary(X)\n",
    "corpusBOW = [dct_X.doc2bow(line) for line in X]\n",
    "model = TfidfModel(corpusBOW)\n",
    "X_vec = model[corpusBOW]\n"
   ]
  },
  {
   "cell_type": "code",
   "execution_count": 148,
   "metadata": {},
   "outputs": [],
   "source": [
    "def Tfidf2np(X,dct):\n",
    "    \"\"\" \n",
    "    Converts gensim format to numpy array\n",
    "    Input:\n",
    "    X - TDidfModel vector (N x lenght(\"sentence\"))\n",
    "    dct - Dictionary object (lenght(\"unique words\"))\n",
    "    Output:\n",
    "    X_np - N x length(\"unique words\")\n",
    "    \"\"\"\n",
    "    N_dict = len(dct)\n",
    "    N_sent = len(X)\n",
    "    X_np = np.zeros((N_sent,N_dict))\n",
    "    i = 0\n",
    "    for list in X:\n",
    "        for word in list:\n",
    "            X_np[i, word[0]] = word[1]\n",
    "        i += 1\n",
    "    return X_np\n",
    "\n",
    "X_np = Tfidf2np(X_vec,dct_X)"
   ]
  },
  {
   "cell_type": "code",
   "execution_count": 149,
   "metadata": {},
   "outputs": [],
   "source": [
    "# Split into training and test data\n",
    "x_train, x_test, y_train, y_test = train_test_split(X_np,y_num,test_size = 0.5)"
   ]
  },
  {
   "cell_type": "code",
   "execution_count": 150,
   "metadata": {},
   "outputs": [],
   "source": [
    "# Create LR model (add tuning parameters?)\n",
    "cls = LogisticRegression()"
   ]
  },
  {
   "cell_type": "code",
   "execution_count": 151,
   "metadata": {},
   "outputs": [
    {
     "name": "stdout",
     "output_type": "stream",
     "text": [
      "0.9964539007092199\n"
     ]
    }
   ],
   "source": [
    "cls.fit(x_train,y_train) \n",
    "y_est = cls.predict(x_test)\n",
    "score = cls.score(x_test,y_test)\n",
    "print(score)"
   ]
  },
  {
   "cell_type": "code",
   "execution_count": 152,
   "metadata": {},
   "outputs": [
    {
     "name": "stdout",
     "output_type": "stream",
     "text": [
      "['SwitchLightOff', 'SwitchLightOff', 'DecreaseBrightness', 'SwitchLightOn', 'IncreaseBrightness', 'IncreaseBrightness', 'SwitchLightOn', 'IncreaseBrightness', 'DecreaseBrightness']\n",
      "['SwitchLightOff', 'SwitchLightOff', 'DecreaseBrightness', 'SwitchLightOn', 'IncreaseBrightness', 'IncreaseBrightness', 'SwitchLightOn', 'IncreaseBrightness', 'DecreaseBrightness']\n"
     ]
    }
   ],
   "source": [
    "print(indx2action(y_est[1:10]))\n",
    "print(indx2action(y_test[1:10]))"
   ]
  },
  {
   "cell_type": "markdown",
   "metadata": {},
   "source": [
    "## Word2vec "
   ]
  },
  {
   "cell_type": "code",
   "execution_count": 6,
   "metadata": {},
   "outputs": [],
   "source": [
    "# Import\n",
    "from gensim.models import Word2Vec"
   ]
  },
  {
   "cell_type": "code",
   "execution_count": 7,
   "metadata": {},
   "outputs": [],
   "source": [
    "# Make word2vec based on previous corpus\n",
    "model_w2v = Word2Vec(X, )"
   ]
  },
  {
   "cell_type": "code",
   "execution_count": 13,
   "metadata": {},
   "outputs": [
    {
     "data": {
      "text/plain": [
       "array([-4.01083753e-03,  4.27344162e-03,  6.98227994e-03,  9.93929151e-03,\n",
       "       -9.49933566e-03, -1.23550631e-02,  9.52751748e-03,  1.87575482e-02,\n",
       "       -1.11987395e-02, -1.17378561e-02,  1.15009341e-02, -5.75316744e-03,\n",
       "       -7.85314851e-03,  6.11726986e-03, -3.36256390e-03, -2.38385028e-03,\n",
       "        1.01676518e-02,  2.28389492e-03, -1.29564106e-02, -2.04210449e-02,\n",
       "        7.06929853e-03,  3.06217186e-03,  1.80800799e-02, -9.15004697e-04,\n",
       "        6.12790929e-03, -2.78924755e-03, -3.54039529e-03,  1.03992084e-02,\n",
       "       -1.04373833e-02,  8.82806198e-05, -3.48218204e-03, -4.31059673e-03,\n",
       "        1.15989149e-02, -1.24562299e-02, -3.80010437e-03,  5.94288693e-04,\n",
       "        1.30444104e-02, -5.03833359e-03, -1.05702260e-03, -3.70337837e-03,\n",
       "       -6.70377444e-03,  3.26060131e-03, -1.49991037e-02, -2.67998152e-03,\n",
       "        1.17287214e-03,  3.64635343e-04, -8.27278011e-03,  1.05396137e-02,\n",
       "        4.62421961e-03,  1.29758921e-02, -5.99034969e-03,  1.51738481e-04,\n",
       "       -6.39032386e-03,  2.89227348e-04,  3.74968001e-03, -8.31718743e-03,\n",
       "        6.99903909e-03, -9.30632558e-03, -4.82235430e-03,  1.05812605e-02,\n",
       "       -3.79413133e-03, -8.77721468e-04,  3.56472121e-03, -1.03740562e-02,\n",
       "       -5.13423374e-03,  9.05749202e-03,  2.09234958e-03,  8.46812408e-03,\n",
       "       -8.26442055e-03,  1.26286678e-03,  7.37725338e-03,  1.52977370e-02,\n",
       "        1.27951952e-03, -4.82143881e-03,  6.28892751e-03,  2.57738936e-03,\n",
       "        9.27769765e-03,  1.02387473e-03, -3.23511008e-03, -1.15601784e-02,\n",
       "       -3.89758521e-03,  2.87841284e-03,  8.10212269e-03,  8.96905083e-03,\n",
       "       -8.36382154e-03, -3.73909622e-03,  9.82904714e-03, -6.93034474e-03,\n",
       "       -1.66579115e-03,  7.14243436e-03,  4.07721801e-03,  3.24179512e-03,\n",
       "        5.03172027e-03, -1.44936400e-03,  1.91515740e-02,  5.57921175e-03,\n",
       "       -5.08151110e-03, -1.20819937e-02,  2.07244139e-03,  7.55707547e-03],\n",
       "      dtype=float32)"
      ]
     },
     "execution_count": 13,
     "metadata": {},
     "output_type": "execute_result"
    }
   ],
   "source": [
    "model_w2v.wv.key_to_index\n",
    "model_w2v.wv['light']\n"
   ]
  }
 ],
 "metadata": {
  "interpreter": {
   "hash": "d1c1f5d7d1d43607bb7317d315bc6ffe13619de76ac18ef57a118ab0b92c5176"
  },
  "kernelspec": {
   "display_name": "Python 3.8.8 64-bit ('ML_project2_test': venv)",
   "language": "python",
   "name": "python3"
  },
  "language_info": {
   "codemirror_mode": {
    "name": "ipython",
    "version": 3
   },
   "file_extension": ".py",
   "mimetype": "text/x-python",
   "name": "python",
   "nbconvert_exporter": "python",
   "pygments_lexer": "ipython3",
   "version": "3.8.8"
  },
  "orig_nbformat": 4
 },
 "nbformat": 4,
 "nbformat_minor": 2
}
