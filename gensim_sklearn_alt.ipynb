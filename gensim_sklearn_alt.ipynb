{
 "cells": [
  {
   "cell_type": "markdown",
   "metadata": {},
   "source": [
    "# Recreating deeppavlov stuff using gensim+sklearn"
   ]
  },
  {
   "cell_type": "code",
   "execution_count": 2,
   "metadata": {},
   "outputs": [],
   "source": [
    "# Import \n",
    "from gensim.test.utils import common_texts\n",
    "from gensim.models import TfidfModel\n",
    "from gensim.corpora import Dictionary\n",
    "\n",
    "from sklearn.model_selection import train_test_split\n",
    "from sklearn.linear_model import LogisticRegression\n",
    "\n",
    "import numpy as np\n",
    "import json"
   ]
  },
  {
   "cell_type": "markdown",
   "metadata": {},
   "source": [
    "## Testing stuff"
   ]
  },
  {
   "cell_type": "code",
   "execution_count": 3,
   "metadata": {},
   "outputs": [],
   "source": [
    "# Basic model\n",
    "dataset = common_texts\n",
    "dct = Dictionary(dataset)   # Set of avaliable text\n",
    "corpus = [dct.doc2bow(line) for line in dataset]  # convert corpus to BoW format (i.e for each word in every sentece return \"(index,nr times in sentence)\"\"\n",
    "\n",
    "model = TfidfModel(corpus)  # fit model\n",
    "vector = model[corpus]   # apply model to the corpus document"
   ]
  },
  {
   "cell_type": "markdown",
   "metadata": {},
   "source": [
    "## Our data"
   ]
  },
  {
   "cell_type": "code",
   "execution_count": 4,
   "metadata": {},
   "outputs": [
    {
     "name": "stdout",
     "output_type": "stream",
     "text": [
      "['i', 'want', 'to', 'turn', 'off', 'the', 'lights', 'for', 'the', 'living', 'room']\n",
      "['turn off', 'living room']\n"
     ]
    }
   ],
   "source": [
    "File = open(\"openvoc-keyword-spotting-research-datasets/smart-lights/metadata.json\")\n",
    "metaData_in = json.load(File)\n",
    "N =  len(metaData_in)\n",
    "keys = list(metaData_in.keys())\n",
    "\n",
    "y_raw = []\n",
    "X = []\n",
    "\n",
    "for i in range(N):\n",
    "    X.append(metaData_in.get(keys[i]).get('transcript').split(' '))\n",
    "    y_raw.append(metaData_in.get(keys[i]).get('keywords'))\n",
    "print(X[0])\n",
    "print(y_raw[0])"
   ]
  },
  {
   "cell_type": "code",
   "execution_count": 5,
   "metadata": {},
   "outputs": [],
   "source": [
    "#keywords to user action\n",
    "y = []\n",
    "y_num = np.empty(N)\n",
    "i = 0\n",
    "for line in y_raw:\n",
    "    for word in line:\n",
    "        if word == 'turn off':\n",
    "            y.append('SwitchLightOff')\n",
    "            y_num[i] = 0\n",
    "            break\n",
    "        elif word == 'turn on':\n",
    "            y.append('SwitchLightOn')\n",
    "            y_num[i] = 1\n",
    "            break\n",
    "        elif word == 'increase':\n",
    "            y.append('IncreaseBrightness')\n",
    "            y_num[i] = 2\n",
    "            break\n",
    "        elif word == 'decrease':\n",
    "            y.append('DecreaseBrightness')\n",
    "            y_num[i] = 3\n",
    "            break\n",
    "        else:\n",
    "            y.append('No class')\n",
    "            y_num[i] = 4\n",
    "            break\n",
    "    i += 1"
   ]
  },
  {
   "cell_type": "code",
   "execution_count": null,
   "metadata": {},
   "outputs": [],
   "source": [
    "\"\"\"\n",
    "Add prerocessing section!\n",
    "remove stop words, \"steming+limitization\"?\n",
    "\"\"\""
   ]
  },
  {
   "cell_type": "code",
   "execution_count": 6,
   "metadata": {},
   "outputs": [],
   "source": [
    "# Create TD*IDF vector represenation\n",
    "dct_X = Dictionary(X)\n",
    "corpusBOW = [dct_X.doc2bow(line) for line in X]\n",
    "model = TfidfModel(corpusBOW)\n",
    "X_vec = model[corpusBOW]\n"
   ]
  },
  {
   "cell_type": "code",
   "execution_count": 11,
   "metadata": {},
   "outputs": [],
   "source": [
    "def Tfidf2np(X,dct):\n",
    "    \"\"\" \n",
    "    Converts gensim format to numpy array\n",
    "    Input:\n",
    "    X - TDidfModel vector (N x lenght(\"sentence\"))\n",
    "    dct - Dictionary object (lenght(\"unique words\"))\n",
    "    Output:\n",
    "    X_np - N x length(\"unique words\")\n",
    "    \"\"\"\n",
    "    N_dict = len(dct)\n",
    "    N_sent = len(X)\n",
    "    X_np = np.zeros((N_sent,N_dict))\n",
    "    i = 0\n",
    "    for list in X:\n",
    "        for word in list:\n",
    "            X_np[i, word[0]] = word[1]\n",
    "        i += 1\n",
    "    return X_np\n",
    "\n",
    "X_np = Tfidf2np(X_vec,dct_X)"
   ]
  },
  {
   "cell_type": "code",
   "execution_count": 12,
   "metadata": {},
   "outputs": [],
   "source": [
    "# Split into training and test data\n",
    "x_train, x_test, y_train, y_test = train_test_split(X_np,y_num,test_size = 0.5)"
   ]
  },
  {
   "cell_type": "code",
   "execution_count": 13,
   "metadata": {},
   "outputs": [],
   "source": [
    "# Create LR model (add tuning parameters?)\n",
    "cls = LogisticRegression()"
   ]
  },
  {
   "cell_type": "code",
   "execution_count": 14,
   "metadata": {},
   "outputs": [
    {
     "name": "stdout",
     "output_type": "stream",
     "text": [
      "1.0\n"
     ]
    }
   ],
   "source": [
    "cls.fit(x_train,y_train) \n",
    "score = cls.score(x_test,y_test)\n",
    "print(score)"
   ]
  }
 ],
 "metadata": {
  "interpreter": {
   "hash": "d1c1f5d7d1d43607bb7317d315bc6ffe13619de76ac18ef57a118ab0b92c5176"
  },
  "kernelspec": {
   "display_name": "Python 3.8.8 64-bit ('ML_project2_test': venv)",
   "language": "python",
   "name": "python3"
  },
  "language_info": {
   "codemirror_mode": {
    "name": "ipython",
    "version": 3
   },
   "file_extension": ".py",
   "mimetype": "text/x-python",
   "name": "python",
   "nbconvert_exporter": "python",
   "pygments_lexer": "ipython3",
   "version": "3.8.8"
  },
  "orig_nbformat": 4
 },
 "nbformat": 4,
 "nbformat_minor": 2
}
