{
 "cells": [
  {
   "cell_type": "markdown",
   "metadata": {},
   "source": [
    "# Test main Erik"
   ]
  },
  {
   "cell_type": "code",
   "execution_count": 9,
   "metadata": {},
   "outputs": [],
   "source": [
    "# Downloads\n",
    "# nltk.download('stopwords')\n",
    "# nltk.download('wordnet')\n",
    "\n",
    "# Import \n",
    "from gensim.test.utils import common_texts\n",
    "from gensim.models import TfidfModel\n",
    "from gensim.corpora import Dictionary\n",
    "\n",
    "import nltk\n",
    "from nltk.corpus import stopwords\n",
    "from nltk.stem import WordNetLemmatizer\n",
    "\n",
    "\n",
    "from sklearn.model_selection import train_test_split\n",
    "from sklearn.linear_model import LogisticRegression\n",
    "from sklearn.metrics import f1_score\n",
    "\n",
    "import numpy as np\n",
    "import json"
   ]
  },
  {
   "cell_type": "markdown",
   "metadata": {},
   "source": [
    "## TF IDF"
   ]
  },
  {
   "cell_type": "markdown",
   "metadata": {},
   "source": [
    "### General testing"
   ]
  },
  {
   "cell_type": "code",
   "execution_count": 2,
   "metadata": {},
   "outputs": [],
   "source": [
    "# Basic model\n",
    "dataset = common_texts\n",
    "dct = Dictionary(dataset)   # Set of avaliable text\n",
    "corpus = [dct.doc2bow(line) for line in dataset]  # convert corpus to BoW format (i.e for each word in every sentece return \"(index,nr times in sentence)\"\"\n",
    "\n",
    "model = TfidfModel(corpus)  # fit model\n",
    "vector = model[corpus]   # apply model to the corpus document"
   ]
  },
  {
   "cell_type": "markdown",
   "metadata": {},
   "source": [
    "### Our data"
   ]
  },
  {
   "cell_type": "code",
   "execution_count": 4,
   "metadata": {},
   "outputs": [],
   "source": [
    "# Import raw meta data\n",
    "File = open(\"Data/openvoc-keyword-spotting-research-datasets/smart-lights/metadata.json\")\n",
    "metaData_in = json.load(File)\n",
    "N =  len(metaData_in)\n",
    "keys = list(metaData_in.keys())"
   ]
  },
  {
   "cell_type": "code",
   "execution_count": 5,
   "metadata": {},
   "outputs": [
    {
     "name": "stdout",
     "output_type": "stream",
     "text": [
      "['want', 'turn', 'off', 'light', 'living', 'room']\n",
      "['turn off', 'living room']\n"
     ]
    }
   ],
   "source": [
    "# Manual tokenization + removing stopwords + lemmatization\n",
    "important_words = {'on','off'}\n",
    "lemmatizer = WordNetLemmatizer()\n",
    "y_raw = []\n",
    "X = []\n",
    "for i in range(N):\n",
    "    words = metaData_in.get(keys[i]).get('transcript').split(' ')\n",
    "    words = [lemmatizer.lemmatize(word) for word in words if word not in ( set(stopwords.words('english'))-important_words)]\n",
    "    X.append(words)\n",
    "    y_raw.append(metaData_in.get(keys[i]).get('keywords'))\n",
    "# Might not be neccesary? \n",
    "print(X[0])\n",
    "print(y_raw[0])"
   ]
  },
  {
   "cell_type": "code",
   "execution_count": 6,
   "metadata": {},
   "outputs": [],
   "source": [
    "#keywords to user action\n",
    "def indx2action(y_num):\n",
    "    N = len(y_num)\n",
    "    y =[]\n",
    "    for i in range (N):\n",
    "        if y_num[i] == 0:\n",
    "            y.append('SwitchLightOff')\n",
    "        elif y_num[i] == 1:\n",
    "            y.append('SwitchLightOn')\n",
    "        elif y_num[i] == 2:\n",
    "            y.append('IncreaseBrightness')\n",
    "        elif  y_num[i] == 3:\n",
    "            y.append('DecreaseBrightness')\n",
    "        else:\n",
    "            y.append('No class assigned')\n",
    "    return y\n",
    "\n",
    "y = []\n",
    "y_num = np.empty(N)\n",
    "i = 0\n",
    "for line in y_raw:\n",
    "    for word in line:\n",
    "        if word == 'turn off':\n",
    "            y.append('SwitchLightOff')\n",
    "            y_num[i] = 0\n",
    "            break\n",
    "        elif word == 'turn on':\n",
    "            y.append('SwitchLightOn')\n",
    "            y_num[i] = 1\n",
    "            break\n",
    "        elif word == 'increase':\n",
    "            y.append('IncreaseBrightness')\n",
    "            y_num[i] = 2\n",
    "            break\n",
    "        elif word == 'decrease':\n",
    "            y.append('DecreaseBrightness')\n",
    "            y_num[i] = 3\n",
    "            break\n",
    "        else:\n",
    "            y.append('No class')\n",
    "            y_num[i] = 4\n",
    "            break\n",
    "    i += 1"
   ]
  },
  {
   "cell_type": "code",
   "execution_count": 7,
   "metadata": {},
   "outputs": [],
   "source": [
    "# Create TD*IDF vector represenation\n",
    "dct_X = Dictionary(X)\n",
    "corpusBOW = [dct_X.doc2bow(line) for line in X]\n",
    "model = TfidfModel(corpusBOW)\n",
    "X_vec = model[corpusBOW]\n",
    "# Tune parameters, perhaps remove terms with low frequency\n"
   ]
  },
  {
   "cell_type": "code",
   "execution_count": 14,
   "metadata": {},
   "outputs": [],
   "source": [
    "def Tfidf2np(X,dct):\n",
    "    \"\"\" \n",
    "    Converts gensim format to numpy array\n",
    "    Input:\n",
    "    X - TDidfModel vector (N x lenght(\"sentence\"))\n",
    "    dct - Dictionary object (lenght(\"unique words\"))\n",
    "    Output:\n",
    "    X_np - N x length(\"unique words\")\n",
    "    \"\"\"\n",
    "    N_dict = len(dct)\n",
    "    N_sent = len(X)\n",
    "    X_np = np.zeros((N_sent,N_dict))\n",
    "    i = 0\n",
    "    for list in X:\n",
    "        for word in list:\n",
    "            X_np[i, word[0]] = word[1]\n",
    "        i += 1\n",
    "    return X_np\n",
    "\n",
    "X_np = Tfidf2np(X_vec,dct_X)\n",
    "\n",
    "# \"information gain,PCA,ect\""
   ]
  },
  {
   "cell_type": "code",
   "execution_count": 23,
   "metadata": {},
   "outputs": [],
   "source": [
    "# Split into training and test data\n",
    "x_train, x_test, y_train, y_test = train_test_split(X_np,y_num,test_size = 0.9)"
   ]
  },
  {
   "cell_type": "code",
   "execution_count": 24,
   "metadata": {},
   "outputs": [],
   "source": [
    "# Create LR model (add tuning parameters?)\n",
    "cls = LogisticRegression()"
   ]
  },
  {
   "cell_type": "code",
   "execution_count": 25,
   "metadata": {},
   "outputs": [
    {
     "name": "stdout",
     "output_type": "stream",
     "text": [
      "Accuracy: 0.9980314960629921\n",
      "f1 score: [0.99585062 0.99616858 1.         1.        ]\n"
     ]
    }
   ],
   "source": [
    "cls.fit(x_train,y_train) \n",
    "y_pred = cls.predict(x_test)\n",
    "score = cls.score(x_test,y_test)\n",
    "print('Accuracy:',score)\n",
    "F1 = f1_score(y_test,y_pred,average=None)\n",
    "print('f1 score:',F1)"
   ]
  },
  {
   "cell_type": "code",
   "execution_count": 13,
   "metadata": {},
   "outputs": [
    {
     "name": "stdout",
     "output_type": "stream",
     "text": [
      "['DecreaseBrightness', 'DecreaseBrightness', 'DecreaseBrightness', 'DecreaseBrightness', 'SwitchLightOff', 'DecreaseBrightness', 'IncreaseBrightness', 'SwitchLightOn', 'DecreaseBrightness']\n",
      "['DecreaseBrightness', 'DecreaseBrightness', 'DecreaseBrightness', 'DecreaseBrightness', 'SwitchLightOff', 'DecreaseBrightness', 'IncreaseBrightness', 'SwitchLightOn', 'DecreaseBrightness']\n"
     ]
    }
   ],
   "source": [
    "print(indx2action(y_pred[1:10]))\n",
    "print(indx2action(y_test[1:10]))"
   ]
  },
  {
   "cell_type": "markdown",
   "metadata": {},
   "source": [
    "## Word2vec "
   ]
  },
  {
   "cell_type": "code",
   "execution_count": 29,
   "metadata": {},
   "outputs": [],
   "source": [
    "# Import\n",
    "from gensim.models import Word2Vec"
   ]
  },
  {
   "cell_type": "code",
   "execution_count": 55,
   "metadata": {},
   "outputs": [
    {
     "name": "stdout",
     "output_type": "stream",
     "text": [
      "100\n"
     ]
    }
   ],
   "source": [
    "# Make word2vec based on previous corpus\n",
    "vector_size = 100\n",
    "model_w2v = Word2Vec(X,\n",
    "    vector_size=vector_size,\n",
    "    window=5,\n",
    "    min_count=1,\n",
    "    workers=4)"
   ]
  },
  {
   "cell_type": "code",
   "execution_count": 31,
   "metadata": {},
   "outputs": [
    {
     "data": {
      "text/plain": [
       "(1603, 12580)"
      ]
     },
     "execution_count": 31,
     "metadata": {},
     "output_type": "execute_result"
    }
   ],
   "source": [
    "model_w2v.train(X,total_examples=N,epochs= 5)   # use pretrained or only x_train set\n",
    "# Make sure to deal with case of word not being in the vocabulary\n"
   ]
  },
  {
   "cell_type": "code",
   "execution_count": 45,
   "metadata": {},
   "outputs": [
    {
     "name": "stdout",
     "output_type": "stream",
     "text": [
      "(564, 100)\n"
     ]
    }
   ],
   "source": [
    "X_vec = np.empty((N,vector_size))\n",
    "for i in range(N):\n",
    "    # Constructing sentence feature\n",
    "    value_iter = np.zeros((vector_size,))\n",
    "    for word in X[i]:\n",
    "        try:\n",
    "            value_iter += np.array(model_w2v.wv[word]) / len(X[i])\n",
    "        except:\n",
    "            print('Issue for: X=',i,'with word \"', word,'\".')\n",
    "            print('Word ignored in feature construction.')\n",
    "    X_vec[i,:] = value_iter\n",
    "print(X_vec.shape)"
   ]
  },
  {
   "cell_type": "code",
   "execution_count": 49,
   "metadata": {},
   "outputs": [],
   "source": [
    "x_train, x_test, y_train, y_test = train_test_split(X_vec,y_num,test_size = 0.6)"
   ]
  },
  {
   "cell_type": "code",
   "execution_count": 50,
   "metadata": {},
   "outputs": [],
   "source": [
    "cls = LogisticRegression()\n",
    "# If we get same results for multiple classfier this supports a robust representation"
   ]
  },
  {
   "cell_type": "code",
   "execution_count": 51,
   "metadata": {},
   "outputs": [
    {
     "name": "stdout",
     "output_type": "stream",
     "text": [
      "Accuracy: 0.23893805309734514\n",
      "F1: [0.         0.         0.38571429 0.        ]\n"
     ]
    }
   ],
   "source": [
    "cls.fit(x_train,y_train) \n",
    "y_pred = cls.predict(x_test)\n",
    "score = cls.score(x_test,y_test)\n",
    "print('Accuracy:',score)\n",
    "F1 = f1_score(y_test,y_pred,average = None)\n",
    "print('F1:',F1)"
   ]
  },
  {
   "cell_type": "code",
   "execution_count": 53,
   "metadata": {},
   "outputs": [
    {
     "name": "stdout",
     "output_type": "stream",
     "text": [
      "['IncreaseBrightness', 'IncreaseBrightness', 'IncreaseBrightness', 'IncreaseBrightness', 'IncreaseBrightness', 'IncreaseBrightness', 'IncreaseBrightness', 'IncreaseBrightness', 'IncreaseBrightness']\n",
      "['DecreaseBrightness', 'SwitchLightOff', 'IncreaseBrightness', 'IncreaseBrightness', 'IncreaseBrightness', 'IncreaseBrightness', 'IncreaseBrightness', 'IncreaseBrightness', 'DecreaseBrightness']\n"
     ]
    }
   ],
   "source": [
    "print(indx2action(y_pred[1:10]))\n",
    "print(indx2action(y_test[1:10]))"
   ]
  },
  {
   "cell_type": "code",
   "execution_count": null,
   "metadata": {},
   "outputs": [],
   "source": []
  }
 ],
 "metadata": {
  "interpreter": {
   "hash": "d1c1f5d7d1d43607bb7317d315bc6ffe13619de76ac18ef57a118ab0b92c5176"
  },
  "kernelspec": {
   "display_name": "Python 3.8.8 64-bit ('ML_project2_test': venv)",
   "language": "python",
   "name": "python3"
  },
  "language_info": {
   "codemirror_mode": {
    "name": "ipython",
    "version": 3
   },
   "file_extension": ".py",
   "mimetype": "text/x-python",
   "name": "python",
   "nbconvert_exporter": "python",
   "pygments_lexer": "ipython3",
   "version": "3.8.8"
  },
  "orig_nbformat": 4
 },
 "nbformat": 4,
 "nbformat_minor": 2
}
