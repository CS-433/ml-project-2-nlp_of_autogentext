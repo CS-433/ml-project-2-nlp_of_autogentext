{
 "cells": [
  {
   "cell_type": "code",
   "execution_count": null,
   "metadata": {
    "colab": {
     "base_uri": "https://localhost:8080/"
    },
    "id": "KL30EoQK7HsJ",
    "outputId": "03710961-9d5e-4e7a-eeb8-f80d2b2b41f7",
    "scrolled": false
   },
   "outputs": [],
   "source": [
    "pip install -r requirements.txt"
   ]
  },
  {
   "cell_type": "code",
   "execution_count": 2,
   "metadata": {
    "id": "k1Ui0P247HsL"
   },
   "outputs": [],
   "source": [
    "# Import\n",
    "import gensim.downloader\n",
    "\n",
    "from sklearn.metrics import classification_report\n",
    "from sklearn.metrics import confusion_matrix\n",
    "\n",
    "from sklearn.model_selection import train_test_split\n",
    "from sklearn.linear_model import LogisticRegression\n",
    "from sklearn.naive_bayes import GaussianNB\n",
    "from sklearn.svm import SVC\n",
    "from sklearn.neural_network import MLPClassifier\n",
    "\n",
    "from sklearn import preprocessing\n",
    "from sklearn.pipeline import make_pipeline\n",
    "\n",
    "from sklearn.metrics import confusion_matrix\n",
    "from sklearn.metrics import classification_report\n",
    "\n",
    "from sklearn.model_selection import train_test_split\n",
    "\n",
    "from statistics import mean\n",
    "\n",
    "import numpy as np\n",
    "import pandas as pd\n",
    "\n",
    "import _helpers as hp"
   ]
  },
  {
   "cell_type": "markdown",
   "metadata": {
    "id": "CtgZLrWK7HsN"
   },
   "source": [
    "# Load Data\n",
    "For chosing which ASR data change the variable by the key in the paths dictionary"
   ]
  },
  {
   "cell_type": "code",
   "execution_count": 3,
   "metadata": {
    "id": "MyiWc0Z87HsO"
   },
   "outputs": [],
   "source": [
    "# Defining paths for our data. \"ASR\" means the TDNNF-LFMMI method, and \"new_ASR\" means the Wave2vec method.\n",
    "paths = {\n",
    "    \"ground_truth\": \"snips/merged_GT_data.csv\",\n",
    "    \"ASR\": \"snips/old_ASR_data.csv\",\n",
    "    \"new_ASR\": \"snips/new_ASR_with_labels.csv\",\n",
    "    \"new_ASR_Autocorrect\": \"snips/new_ASR_Autocorrection_with_labels.csv\",\n",
    "}\n",
    "\n",
    "# Chosing which ASR data we will use\n",
    "ASR_data = pd.read_csv(paths[\"new_ASR\"])\n",
    "\n",
    "# Groundtruth data\n",
    "GT_data = pd.read_csv(paths[\"ground_truth\"])"
   ]
  },
  {
   "cell_type": "markdown",
   "metadata": {
    "id": "oFPRbwoh7HsP"
   },
   "source": [
    "## Data manipulation"
   ]
  },
  {
   "cell_type": "code",
   "execution_count": 5,
   "metadata": {
    "id": "Uir2wdU-7HsQ"
   },
   "outputs": [],
   "source": [
    "# Get ASR data into a numpy word array per sentence plus a numpy label array\n",
    "\n",
    "XX_ASR = ASR_data[\"transcript\"].apply(lambda x: x.split(\" \"))\n",
    "X_ASR = list(XX_ASR)  # numpy word array per transcript\n",
    "\n",
    "y_num_ASR = np.array(ASR_data[\"user_action_num\"])  # labels"
   ]
  },
  {
   "cell_type": "code",
   "execution_count": 6,
   "metadata": {
    "id": "-Vo8SwpP7HsQ"
   },
   "outputs": [],
   "source": [
    "# Get Groundtruth data into a numpy word array per sentence plus a numpy label array\n",
    "\n",
    "XX_GT = GT_data[\"transcript\"].apply(lambda x: x.split(\" \"))\n",
    "X_GT = list(XX_GT)  # numpy word array per transcript\n",
    "\n",
    "y_num_GT = np.array(GT_data[\"user_action_num\"])  # labels"
   ]
  },
  {
   "cell_type": "markdown",
   "metadata": {
    "id": "a_KcRDNo7HsR"
   },
   "source": [
    "# Word2Vec"
   ]
  },
  {
   "cell_type": "markdown",
   "metadata": {
    "id": "BE9NQvJw7HsR"
   },
   "source": [
    "## Import pre-trained Word2Vec model"
   ]
  },
  {
   "cell_type": "code",
   "execution_count": 7,
   "metadata": {
    "colab": {
     "base_uri": "https://localhost:8080/"
    },
    "id": "61kh7FAe7HsS",
    "outputId": "a2a9740c-74f4-4ad4-f50f-6ac906116d39"
   },
   "outputs": [
    {
     "name": "stdout",
     "output_type": "stream",
     "text": [
      "[==================================================] 100.0% 128.1/128.1MB downloaded\n"
     ]
    }
   ],
   "source": [
    "model_w2v = gensim.downloader.load(\"glove-wiki-gigaword-100\")"
   ]
  },
  {
   "cell_type": "markdown",
   "metadata": {
    "id": "wcqHdbqL7HsS"
   },
   "source": [
    "## Get features and labels"
   ]
  },
  {
   "cell_type": "code",
   "execution_count": 8,
   "metadata": {
    "id": "6eFjA0_17HsT"
   },
   "outputs": [],
   "source": [
    "def get_Word2Vec_feature(sentence):\n",
    "    \"\"\"return word2vec numpy array representation of sentence\"\"\"\n",
    "\n",
    "    value_iter = np.zeros((model_w2v.vector_size,))\n",
    "\n",
    "    for word in sentence:\n",
    "        try:\n",
    "            word_vec = model_w2v[word]\n",
    "            value_iter += np.array(word_vec)\n",
    "        except:\n",
    "            continue\n",
    "\n",
    "    return value_iter"
   ]
  },
  {
   "cell_type": "code",
   "execution_count": 9,
   "metadata": {
    "id": "I6a7u-lV7HsT"
   },
   "outputs": [],
   "source": [
    "# features Space\n",
    "features_ASR = np.stack(XX_ASR.apply(get_Word2Vec_feature).values, axis=0)\n",
    "\n",
    "# features Space\n",
    "features_GT = np.stack(XX_GT.apply(get_Word2Vec_feature).values, axis=0)"
   ]
  },
  {
   "cell_type": "code",
   "execution_count": 10,
   "metadata": {
    "id": "pypZkvC17HsT"
   },
   "outputs": [],
   "source": [
    "labels_ASR = ASR_data[\"user_action_num\"]\n",
    "labels_GT = GT_data[\"user_action_num\"]"
   ]
  },
  {
   "cell_type": "markdown",
   "metadata": {
    "id": "BQQU1Fan7HsU"
   },
   "source": [
    "# Classifiers"
   ]
  },
  {
   "cell_type": "markdown",
   "metadata": {
    "id": "bF-XgWWQ7HsV"
   },
   "source": [
    "## Train/Test Split"
   ]
  },
  {
   "cell_type": "markdown",
   "metadata": {
    "id": "kbtUYgjN7HsV"
   },
   "source": [
    "The function beneath provides the features and labels needed for testing. Using the loaded ASR or not (then using ground truth data) is decided by input. As standard we use the ASR dataset."
   ]
  },
  {
   "cell_type": "code",
   "execution_count": 11,
   "metadata": {
    "id": "WqjDskD97HsV"
   },
   "outputs": [],
   "source": [
    "def get_train_test_data(type_of_dataset=\"ASR\", train_size=0.9):\n",
    "    \"\"\"Retrieves the relevant dataset and splits according to parameter\"\"\"\n",
    "    # If ASR, give ASR features and labels\n",
    "    if type_of_dataset == \"ASR\":\n",
    "        train_features, test_features, train_labels, test_labels = train_test_split(\n",
    "            features_ASR, labels_ASR, train_size=train_size\n",
    "        )\n",
    "    # If the dataset is not the ASR data, use the ground truth data\n",
    "    else:\n",
    "        train_features, test_features, train_labels, test_labels = train_test_split(\n",
    "            features_GT, labels_GT, train_size=train_size\n",
    "        )\n",
    "\n",
    "    return train_features, test_features, train_labels, test_labels\n",
    "\n",
    "\n",
    "def run_classifier(\n",
    "    classifier_pipe, type_of_dataset=\"ASR\", train_size=0.9, number_of_times=100\n",
    "):\n",
    "    \"\"\"For running the classifiers multiple times, and returning mean accuracy score. Wraps around get_train_test_data\"\"\"\n",
    "    mean_score_list = []\n",
    "    n = number_of_times\n",
    "    for i in range(n):\n",
    "        train_features, test_features, train_labels, test_labels = get_train_test_data(\n",
    "            type_of_dataset=\"ASR\"\n",
    "        )\n",
    "        classifier_pipe.fit(train_features, train_labels)\n",
    "\n",
    "        classifier_pred_labels = classifier_pipe.predict(test_features)  # predictions\n",
    "\n",
    "        classifier_score = classifier_pipe.score(test_features, test_labels)  # accuracy\n",
    "\n",
    "        mean_score_list.append(classifier_score)\n",
    "    mean_score = mean(mean_score_list)\n",
    "    return mean_score, classifier_pred_labels, classifier_score, test_labels"
   ]
  },
  {
   "cell_type": "markdown",
   "metadata": {
    "id": "ay3IpE4k7HsW"
   },
   "source": [
    "## Logistic Regression"
   ]
  },
  {
   "cell_type": "code",
   "execution_count": 12,
   "metadata": {
    "colab": {
     "base_uri": "https://localhost:8080/"
    },
    "id": "SLTP0E2X7HsX",
    "outputId": "ada9b8c8-47f5-4336-bcd4-b7696a1ba0af"
   },
   "outputs": [
    {
     "name": "stdout",
     "output_type": "stream",
     "text": [
      "Average accuracy score = 0.795\n"
     ]
    }
   ],
   "source": [
    "lgr = LogisticRegression(C=0.06, max_iter=1000)  # Create the classification model\n",
    "\n",
    "lgr_pipe = make_pipeline(preprocessing.StandardScaler(), lgr)  # Scale feature space\n",
    "\n",
    "mean_score, lgr_pred_labels, lgr_score, test_labels = run_classifier(\n",
    "    classifier_pipe=lgr_pipe,\n",
    "    type_of_dataset=\"ASR\",\n",
    "    train_size=0.9,\n",
    "    number_of_times=100,\n",
    ")\n",
    "\n",
    "print(\"Average accuracy score =\", round(mean_score, 3))"
   ]
  },
  {
   "cell_type": "markdown",
   "metadata": {
    "id": "_9tZ8fq_7HsX"
   },
   "source": [
    "### Model Evaluation\n",
    "Gives detail on the last run of the classifier"
   ]
  },
  {
   "cell_type": "code",
   "execution_count": 13,
   "metadata": {
    "colab": {
     "base_uri": "https://localhost:8080/"
    },
    "id": "vlH8Mu4o7HsY",
    "outputId": "4b1fda3e-dab1-4056-ac01-4e72ee2e54c8"
   },
   "outputs": [
    {
     "name": "stdout",
     "output_type": "stream",
     "text": [
      "                    precision    recall  f1-score   support\n",
      "\n",
      "    SwitchLightOff       0.78      0.74      0.76        34\n",
      "     SwitchLightOn       0.72      0.82      0.77        28\n",
      "IncreaseBrightness       0.68      0.70      0.69        27\n",
      "DecreaseBrightness       0.71      0.69      0.70        29\n",
      "SetLightBrightness       0.86      0.73      0.79        26\n",
      "     SetLightColor       0.67      0.73      0.70        22\n",
      "\n",
      "          accuracy                           0.73       166\n",
      "         macro avg       0.74      0.73      0.73       166\n",
      "      weighted avg       0.74      0.73      0.74       166\n",
      "\n",
      "[[25  3  3  2  0  1]\n",
      " [ 2 23  0  1  0  2]\n",
      " [ 1  1 19  3  1  2]\n",
      " [ 2  1  3 20  1  2]\n",
      " [ 1  1  2  2 19  1]\n",
      " [ 1  3  1  0  1 16]]\n",
      "\n",
      "ACCURACY: 0.7349397590361446\n"
     ]
    }
   ],
   "source": [
    "print(\n",
    "    classification_report(\n",
    "        test_labels,\n",
    "        lgr_pred_labels,\n",
    "        target_names=[\n",
    "            \"SwitchLightOff\",\n",
    "            \"SwitchLightOn\",\n",
    "            \"IncreaseBrightness\",\n",
    "            \"DecreaseBrightness\",\n",
    "            \"SetLightBrightness\",\n",
    "            \"SetLightColor\",\n",
    "        ],\n",
    "    )\n",
    ")\n",
    "\n",
    "print(confusion_matrix(test_labels, lgr_pred_labels))\n",
    "\n",
    "print(\"\\nACCURACY:\", lgr_score)"
   ]
  },
  {
   "cell_type": "markdown",
   "metadata": {
    "id": "REYcEHlZ7HsY"
   },
   "source": [
    "# Naive Bayes"
   ]
  },
  {
   "cell_type": "markdown",
   "metadata": {
    "id": "ZU_MzxiI7HsZ"
   },
   "source": [
    "### Gaussian Naive Bayes"
   ]
  },
  {
   "cell_type": "code",
   "execution_count": 14,
   "metadata": {
    "colab": {
     "base_uri": "https://localhost:8080/"
    },
    "id": "njCzDsZb7HsZ",
    "outputId": "bb2b4900-ef89-4707-87fa-7bf32eea1bfa"
   },
   "outputs": [
    {
     "name": "stdout",
     "output_type": "stream",
     "text": [
      "Average accuracy score = 0.585\n"
     ]
    }
   ],
   "source": [
    "gnb = GaussianNB()  # Create the classification model\n",
    "\n",
    "gnb_pipe = make_pipeline(preprocessing.StandardScaler(), gnb)  # Scale feature space\n",
    "\n",
    "mean_score, gnb_pred_labels, gnb_score, test_labels = run_classifier(\n",
    "    classifier_pipe=gnb_pipe,\n",
    "    type_of_dataset=\"ASR\",\n",
    "    train_size=0.9,\n",
    "    number_of_times=100,\n",
    ")\n",
    "\n",
    "print(\"Average accuracy score =\", round(mean_score, 3))"
   ]
  },
  {
   "cell_type": "markdown",
   "metadata": {
    "id": "jQlphN0P7HsZ"
   },
   "source": [
    "#### Model Evaluation"
   ]
  },
  {
   "cell_type": "code",
   "execution_count": 15,
   "metadata": {
    "colab": {
     "base_uri": "https://localhost:8080/"
    },
    "id": "SM8QeBpG7Hsa",
    "outputId": "69898edc-373f-476b-88ed-16e29a6f699d"
   },
   "outputs": [
    {
     "name": "stdout",
     "output_type": "stream",
     "text": [
      "                    precision    recall  f1-score   support\n",
      "\n",
      "    SwitchLightOff       0.52      0.71      0.60        24\n",
      "     SwitchLightOn       0.67      0.78      0.72        23\n",
      "IncreaseBrightness       0.58      0.41      0.48        27\n",
      "DecreaseBrightness       0.47      0.33      0.39        24\n",
      "SetLightBrightness       0.71      0.81      0.75        36\n",
      "     SetLightColor       0.86      0.78      0.82        32\n",
      "\n",
      "          accuracy                           0.65       166\n",
      "         macro avg       0.63      0.64      0.63       166\n",
      "      weighted avg       0.65      0.65      0.64       166\n",
      "\n",
      "[[17  1  0  2  4  0]\n",
      " [ 3 18  0  0  2  0]\n",
      " [ 4  3 11  4  4  1]\n",
      " [ 6  1  7  8  0  2]\n",
      " [ 2  1  0  3 29  1]\n",
      " [ 1  3  1  0  2 25]]\n",
      "\n",
      "ACCURACY: 0.6506024096385542\n"
     ]
    }
   ],
   "source": [
    "print(\n",
    "    classification_report(\n",
    "        test_labels,\n",
    "        gnb_pred_labels,\n",
    "        target_names=[\n",
    "            \"SwitchLightOff\",\n",
    "            \"SwitchLightOn\",\n",
    "            \"IncreaseBrightness\",\n",
    "            \"DecreaseBrightness\",\n",
    "            \"SetLightBrightness\",\n",
    "            \"SetLightColor\",\n",
    "        ],\n",
    "    )\n",
    ")\n",
    "\n",
    "print(confusion_matrix(test_labels, gnb_pred_labels))\n",
    "\n",
    "print(\"\\nACCURACY:\", gnb_score)"
   ]
  },
  {
   "cell_type": "markdown",
   "metadata": {
    "id": "OfaPOHSX7Hsa"
   },
   "source": [
    "# SVM"
   ]
  },
  {
   "cell_type": "code",
   "execution_count": 16,
   "metadata": {
    "colab": {
     "base_uri": "https://localhost:8080/"
    },
    "id": "kL2bW9HB7Hsb",
    "outputId": "f6413949-1f05-40a8-8da6-a9589574827c"
   },
   "outputs": [
    {
     "name": "stdout",
     "output_type": "stream",
     "text": [
      "Average accuracy score = 0.763\n"
     ]
    }
   ],
   "source": [
    "svm = SVC()  # Create the classification model\n",
    "\n",
    "svm_pipe = make_pipeline(preprocessing.Normalizer(), svm)  # Scale feature space\n",
    "\n",
    "mean_score, svm_pred_labels, svm_score, test_labels = run_classifier(\n",
    "    classifier_pipe=svm_pipe,\n",
    "    type_of_dataset=\"ASR\",\n",
    "    train_size=0.9,\n",
    "    number_of_times=100,\n",
    ")\n",
    "\n",
    "print(\"Average accuracy score =\", round(mean_score, 3))"
   ]
  },
  {
   "cell_type": "markdown",
   "metadata": {
    "id": "f1kdyL-n7Hsb"
   },
   "source": [
    "### Model Evaluation"
   ]
  },
  {
   "cell_type": "code",
   "execution_count": 17,
   "metadata": {
    "colab": {
     "base_uri": "https://localhost:8080/"
    },
    "id": "gPvcX7Wd7Hsb",
    "outputId": "e9b13316-646a-4e3c-b901-ab56458d38ac"
   },
   "outputs": [
    {
     "name": "stdout",
     "output_type": "stream",
     "text": [
      "                    precision    recall  f1-score   support\n",
      "\n",
      "    SwitchLightOff       0.70      0.58      0.64        24\n",
      "     SwitchLightOn       0.79      0.84      0.82        32\n",
      "IncreaseBrightness       0.59      0.71      0.64        24\n",
      "DecreaseBrightness       0.58      0.56      0.57        27\n",
      "SetLightBrightness       0.91      0.94      0.92        32\n",
      "     SetLightColor       0.96      0.85      0.90        27\n",
      "\n",
      "          accuracy                           0.76       166\n",
      "         macro avg       0.75      0.75      0.75       166\n",
      "      weighted avg       0.76      0.76      0.76       166\n",
      "\n",
      "[[14  3  4  3  0  0]\n",
      " [ 2 27  1  1  1  0]\n",
      " [ 2  0 17  4  1  0]\n",
      " [ 1  2  7 15  1  1]\n",
      " [ 1  0  0  1 30  0]\n",
      " [ 0  2  0  2  0 23]]\n",
      "\n",
      "ACCURACY: 0.7590361445783133\n"
     ]
    }
   ],
   "source": [
    "print(\n",
    "    classification_report(\n",
    "        test_labels,\n",
    "        svm_pred_labels,\n",
    "        target_names=[\n",
    "            \"SwitchLightOff\",\n",
    "            \"SwitchLightOn\",\n",
    "            \"IncreaseBrightness\",\n",
    "            \"DecreaseBrightness\",\n",
    "            \"SetLightBrightness\",\n",
    "            \"SetLightColor\",\n",
    "        ],\n",
    "    )\n",
    ")\n",
    "\n",
    "print(confusion_matrix(test_labels, svm_pred_labels))\n",
    "\n",
    "print(\"\\nACCURACY:\", svm_score)"
   ]
  },
  {
   "cell_type": "markdown",
   "metadata": {
    "id": "p8vxGN6i7Hsc"
   },
   "source": [
    "# NEURAL NETWORK"
   ]
  },
  {
   "cell_type": "code",
   "execution_count": 18,
   "metadata": {
    "colab": {
     "base_uri": "https://localhost:8080/"
    },
    "id": "JsltQl1u7Hsc",
    "outputId": "dc88d4d5-de32-4eba-806d-75999f8ff6d6"
   },
   "outputs": [
    {
     "name": "stdout",
     "output_type": "stream",
     "text": [
      "Average accuracy score = 0.794\n"
     ]
    }
   ],
   "source": [
    "mlp = MLPClassifier(\n",
    "    hidden_layer_sizes=(400, 100), activation=\"relu\", solver=\"adam\", max_iter=5000\n",
    ")  # Create the classification model\n",
    "\n",
    "mlp_pipe = make_pipeline(preprocessing.Normalizer(), mlp)  # Scale feature space\n",
    "\n",
    "mean_score, mlp_pred_labels, mlp_score, test_labels = run_classifier(\n",
    "    classifier_pipe=mlp_pipe,\n",
    "    type_of_dataset=\"ASR\",\n",
    "    train_size=0.9,\n",
    "    number_of_times=100,\n",
    ")\n",
    "\n",
    "print(\"Average accuracy score =\", round(mean_score, 3))"
   ]
  },
  {
   "cell_type": "markdown",
   "metadata": {
    "id": "vEgxoLlA7Hsc"
   },
   "source": [
    "### Model Evaluation"
   ]
  },
  {
   "cell_type": "code",
   "execution_count": 19,
   "metadata": {
    "colab": {
     "base_uri": "https://localhost:8080/"
    },
    "id": "IBfdFbiO7Hsd",
    "outputId": "7dd2d6a8-d5e2-4673-97fc-79d609430f67"
   },
   "outputs": [
    {
     "name": "stdout",
     "output_type": "stream",
     "text": [
      "                    precision    recall  f1-score   support\n",
      "\n",
      "    SwitchLightOff       0.79      0.82      0.81        33\n",
      "     SwitchLightOn       0.86      0.78      0.82        32\n",
      "IncreaseBrightness       0.86      0.68      0.76        28\n",
      "DecreaseBrightness       0.67      0.67      0.67        27\n",
      "SetLightBrightness       0.83      0.93      0.88        27\n",
      "     SetLightColor       0.67      0.84      0.74        19\n",
      "\n",
      "          accuracy                           0.78       166\n",
      "         macro avg       0.78      0.79      0.78       166\n",
      "      weighted avg       0.79      0.78      0.78       166\n",
      "\n",
      "[[27  2  1  2  1  0]\n",
      " [ 1 25  1  2  0  3]\n",
      " [ 3  0 19  4  1  1]\n",
      " [ 3  1  0 18  2  3]\n",
      " [ 0  0  0  1 25  1]\n",
      " [ 0  1  1  0  1 16]]\n",
      "\n",
      "ACCURACY: 0.7831325301204819\n"
     ]
    }
   ],
   "source": [
    "print(\n",
    "    classification_report(\n",
    "        test_labels,\n",
    "        mlp_pred_labels,\n",
    "        target_names=[\n",
    "            \"SwitchLightOff\",\n",
    "            \"SwitchLightOn\",\n",
    "            \"IncreaseBrightness\",\n",
    "            \"DecreaseBrightness\",\n",
    "            \"SetLightBrightness\",\n",
    "            \"SetLightColor\",\n",
    "        ],\n",
    "    )\n",
    ")\n",
    "\n",
    "print(confusion_matrix(test_labels, mlp_pred_labels))\n",
    "\n",
    "print(\"\\nACCURACY:\", mlp_score)"
   ]
  },
  {
   "cell_type": "markdown",
   "metadata": {
    "id": "AkMyjH727Hsd"
   },
   "source": [
    "# Try Your Self"
   ]
  },
  {
   "cell_type": "code",
   "execution_count": 20,
   "metadata": {
    "id": "L1u9NXbP7Hsd"
   },
   "outputs": [],
   "source": [
    "def user_friendly(sentence, cls):\n",
    "    \"\"\"return action from sentence\"\"\"\n",
    "\n",
    "    sent = sentence.split()\n",
    "    new_sent = []\n",
    "\n",
    "    for word in sent:\n",
    "        new_sent.append(hp.autocorrection(word))\n",
    "\n",
    "    x_pred = get_Word2Vec_feature(new_sent).reshape(1, -1)\n",
    "    y_pred = cls.predict(x_pred)\n",
    "    return hp.indx2action(y_pred)"
   ]
  },
  {
   "cell_type": "code",
   "execution_count": 21,
   "metadata": {
    "colab": {
     "base_uri": "https://localhost:8080/"
    },
    "id": "LoH_g1Vy7Hse",
    "outputId": "d1bc5c70-2f0b-4c7c-b1c4-e745f58567e2"
   },
   "outputs": [
    {
     "data": {
      "text/plain": [
       "['SetLightBrightness']"
      ]
     },
     "execution_count": 21,
     "metadata": {},
     "output_type": "execute_result"
    }
   ],
   "source": [
    "user_friendly(\"I want to set brithenss to fifty in my living room\", lgr_pipe)"
   ]
  }
 ],
 "metadata": {
  "colab": {
   "name": "Word2Vec.ipynb",
   "provenance": []
  },
  "interpreter": {
   "hash": "798da7fa2e3db0aae4b339803b26a00c5ccc95905add6d158a3bf74c8d303e34"
  },
  "kernelspec": {
   "display_name": "Python 3 (ipykernel)",
   "language": "python",
   "name": "python3"
  },
  "language_info": {
   "codemirror_mode": {
    "name": "ipython",
    "version": 3
   },
   "file_extension": ".py",
   "mimetype": "text/x-python",
   "name": "python",
   "nbconvert_exporter": "python",
   "pygments_lexer": "ipython3",
   "version": "3.8.12"
  }
 },
 "nbformat": 4,
 "nbformat_minor": 1
}
