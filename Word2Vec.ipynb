{
 "cells": [
  {
   "cell_type": "code",
   "execution_count": 1,
   "metadata": {},
   "outputs": [
    {
     "name": "stdout",
     "output_type": "stream",
     "text": [
      "Requirement already satisfied: numpy>=1.18.0 in /Users/marcus/opt/anaconda3/lib/python3.8/site-packages (from -r requirements.txt (line 1)) (1.18.0)\n",
      "Requirement already satisfied: pandas>=1.0.5 in /Users/marcus/opt/anaconda3/lib/python3.8/site-packages (from -r requirements.txt (line 2)) (1.0.5)\n",
      "Requirement already satisfied: textdistance==4.2.1 in /Users/marcus/opt/anaconda3/lib/python3.8/site-packages (from -r requirements.txt (line 3)) (4.2.1)\n",
      "Requirement already satisfied: gensim in /Users/marcus/opt/anaconda3/lib/python3.8/site-packages (from -r requirements.txt (line 4)) (4.1.2)\n",
      "Requirement already satisfied: sklearn in /Users/marcus/opt/anaconda3/lib/python3.8/site-packages (from -r requirements.txt (line 5)) (0.0)\n",
      "Requirement already satisfied: black in /Users/marcus/opt/anaconda3/lib/python3.8/site-packages (from -r requirements.txt (line 6)) (21.12b0)\n",
      "Requirement already satisfied: jupyter_contrib_nbextensions in /Users/marcus/opt/anaconda3/lib/python3.8/site-packages (from -r requirements.txt (line 7)) (0.5.1)\n",
      "Requirement already satisfied: jiwer in /Users/marcus/opt/anaconda3/lib/python3.8/site-packages (from -r requirements.txt (line 8)) (2.3.0)\n",
      "Requirement already satisfied: python-dateutil>=2.6.1 in /Users/marcus/opt/anaconda3/lib/python3.8/site-packages (from pandas>=1.0.5->-r requirements.txt (line 2)) (2.8.2)\n",
      "Requirement already satisfied: pytz>=2017.2 in /Users/marcus/.local/lib/python3.8/site-packages (from pandas>=1.0.5->-r requirements.txt (line 2)) (2019.1)\n",
      "Requirement already satisfied: smart-open>=1.8.1 in /Users/marcus/opt/anaconda3/lib/python3.8/site-packages (from gensim->-r requirements.txt (line 4)) (5.2.1)\n",
      "Requirement already satisfied: scipy>=0.18.1 in /Users/marcus/.local/lib/python3.8/site-packages (from gensim->-r requirements.txt (line 4)) (1.4.1)\n",
      "Requirement already satisfied: scikit-learn in /Users/marcus/opt/anaconda3/lib/python3.8/site-packages (from sklearn->-r requirements.txt (line 5)) (1.0.1)\n",
      "Requirement already satisfied: pathspec<1,>=0.9.0 in /Users/marcus/opt/anaconda3/lib/python3.8/site-packages (from black->-r requirements.txt (line 6)) (0.9.0)\n",
      "Requirement already satisfied: platformdirs>=2 in /Users/marcus/opt/anaconda3/lib/python3.8/site-packages (from black->-r requirements.txt (line 6)) (2.4.0)\n",
      "Requirement already satisfied: typing-extensions>=3.10.0.0 in /Users/marcus/opt/anaconda3/lib/python3.8/site-packages (from black->-r requirements.txt (line 6)) (3.10.0.2)\n",
      "Requirement already satisfied: click>=7.1.2 in /Users/marcus/.local/lib/python3.8/site-packages (from black->-r requirements.txt (line 6)) (7.1.2)\n",
      "Requirement already satisfied: tomli<2.0.0,>=0.2.6 in /Users/marcus/opt/anaconda3/lib/python3.8/site-packages (from black->-r requirements.txt (line 6)) (1.2.3)\n",
      "Requirement already satisfied: mypy-extensions>=0.4.3 in /Users/marcus/opt/anaconda3/lib/python3.8/site-packages (from black->-r requirements.txt (line 6)) (0.4.3)\n",
      "Requirement already satisfied: jupyter-latex-envs>=1.3.8 in /Users/marcus/opt/anaconda3/lib/python3.8/site-packages (from jupyter_contrib_nbextensions->-r requirements.txt (line 7)) (1.4.6)\n",
      "Requirement already satisfied: pyyaml in /Users/marcus/opt/anaconda3/lib/python3.8/site-packages (from jupyter_contrib_nbextensions->-r requirements.txt (line 7)) (6.0)\n",
      "Requirement already satisfied: jupyter-contrib-core>=0.3.3 in /Users/marcus/opt/anaconda3/lib/python3.8/site-packages (from jupyter_contrib_nbextensions->-r requirements.txt (line 7)) (0.3.3)\n",
      "Requirement already satisfied: jupyter-highlight-selected-word>=0.1.1 in /Users/marcus/opt/anaconda3/lib/python3.8/site-packages (from jupyter_contrib_nbextensions->-r requirements.txt (line 7)) (0.2.0)\n",
      "Requirement already satisfied: tornado in /Users/marcus/opt/anaconda3/lib/python3.8/site-packages (from jupyter_contrib_nbextensions->-r requirements.txt (line 7)) (6.1)\n",
      "Requirement already satisfied: lxml in /Users/marcus/opt/anaconda3/lib/python3.8/site-packages (from jupyter_contrib_nbextensions->-r requirements.txt (line 7)) (4.6.3)\n",
      "Requirement already satisfied: nbconvert>=4.2 in /Users/marcus/opt/anaconda3/lib/python3.8/site-packages (from jupyter_contrib_nbextensions->-r requirements.txt (line 7)) (6.1.0)\n",
      "Requirement already satisfied: ipython-genutils in /Users/marcus/opt/anaconda3/lib/python3.8/site-packages (from jupyter_contrib_nbextensions->-r requirements.txt (line 7)) (0.2.0)\n",
      "Requirement already satisfied: jupyter-core in /Users/marcus/opt/anaconda3/lib/python3.8/site-packages (from jupyter_contrib_nbextensions->-r requirements.txt (line 7)) (4.9.1)\n",
      "Requirement already satisfied: notebook>=4.0 in /Users/marcus/opt/anaconda3/lib/python3.8/site-packages (from jupyter_contrib_nbextensions->-r requirements.txt (line 7)) (6.4.6)\n",
      "Requirement already satisfied: traitlets>=4.1 in /Users/marcus/opt/anaconda3/lib/python3.8/site-packages (from jupyter_contrib_nbextensions->-r requirements.txt (line 7)) (5.1.1)\n",
      "Requirement already satisfied: jupyter-nbextensions-configurator>=0.4.0 in /Users/marcus/opt/anaconda3/lib/python3.8/site-packages (from jupyter_contrib_nbextensions->-r requirements.txt (line 7)) (0.4.1)\n",
      "Requirement already satisfied: python-Levenshtein==0.12.2 in /Users/marcus/opt/anaconda3/lib/python3.8/site-packages (from jiwer->-r requirements.txt (line 8)) (0.12.2)\n",
      "Requirement already satisfied: setuptools in /Users/marcus/opt/anaconda3/lib/python3.8/site-packages (from python-Levenshtein==0.12.2->jiwer->-r requirements.txt (line 8)) (58.0.4)\n",
      "Requirement already satisfied: ipython in /Users/marcus/opt/anaconda3/lib/python3.8/site-packages (from jupyter-latex-envs>=1.3.8->jupyter_contrib_nbextensions->-r requirements.txt (line 7)) (7.29.0)\n",
      "Requirement already satisfied: pygments>=2.4.1 in /Users/marcus/opt/anaconda3/lib/python3.8/site-packages (from nbconvert>=4.2->jupyter_contrib_nbextensions->-r requirements.txt (line 7)) (2.10.0)\n",
      "Requirement already satisfied: jupyterlab-pygments in /Users/marcus/opt/anaconda3/lib/python3.8/site-packages (from nbconvert>=4.2->jupyter_contrib_nbextensions->-r requirements.txt (line 7)) (0.1.2)\n",
      "Requirement already satisfied: bleach in /Users/marcus/opt/anaconda3/lib/python3.8/site-packages (from nbconvert>=4.2->jupyter_contrib_nbextensions->-r requirements.txt (line 7)) (4.0.0)\n",
      "Requirement already satisfied: nbformat>=4.4 in /Users/marcus/opt/anaconda3/lib/python3.8/site-packages (from nbconvert>=4.2->jupyter_contrib_nbextensions->-r requirements.txt (line 7)) (5.1.3)\n",
      "Requirement already satisfied: entrypoints>=0.2.2 in /Users/marcus/opt/anaconda3/lib/python3.8/site-packages (from nbconvert>=4.2->jupyter_contrib_nbextensions->-r requirements.txt (line 7)) (0.3)\n",
      "Requirement already satisfied: pandocfilters>=1.4.1 in /Users/marcus/opt/anaconda3/lib/python3.8/site-packages (from nbconvert>=4.2->jupyter_contrib_nbextensions->-r requirements.txt (line 7)) (1.4.3)\n",
      "Requirement already satisfied: testpath in /Users/marcus/opt/anaconda3/lib/python3.8/site-packages (from nbconvert>=4.2->jupyter_contrib_nbextensions->-r requirements.txt (line 7)) (0.5.0)\n",
      "Requirement already satisfied: mistune<2,>=0.8.1 in /Users/marcus/opt/anaconda3/lib/python3.8/site-packages (from nbconvert>=4.2->jupyter_contrib_nbextensions->-r requirements.txt (line 7)) (0.8.4)\n",
      "Requirement already satisfied: defusedxml in /Users/marcus/opt/anaconda3/lib/python3.8/site-packages (from nbconvert>=4.2->jupyter_contrib_nbextensions->-r requirements.txt (line 7)) (0.7.1)\n",
      "Requirement already satisfied: jinja2>=2.4 in /Users/marcus/opt/anaconda3/lib/python3.8/site-packages (from nbconvert>=4.2->jupyter_contrib_nbextensions->-r requirements.txt (line 7)) (2.11.3)\n",
      "Requirement already satisfied: nbclient<0.6.0,>=0.5.0 in /Users/marcus/opt/anaconda3/lib/python3.8/site-packages (from nbconvert>=4.2->jupyter_contrib_nbextensions->-r requirements.txt (line 7)) (0.5.3)\n",
      "Requirement already satisfied: MarkupSafe>=0.23 in /Users/marcus/opt/anaconda3/lib/python3.8/site-packages (from jinja2>=2.4->nbconvert>=4.2->jupyter_contrib_nbextensions->-r requirements.txt (line 7)) (1.1.1)\n",
      "Requirement already satisfied: jupyter-client>=6.1.5 in /Users/marcus/opt/anaconda3/lib/python3.8/site-packages (from nbclient<0.6.0,>=0.5.0->nbconvert>=4.2->jupyter_contrib_nbextensions->-r requirements.txt (line 7)) (6.1.12)\n",
      "Requirement already satisfied: nest-asyncio in /Users/marcus/opt/anaconda3/lib/python3.8/site-packages (from nbclient<0.6.0,>=0.5.0->nbconvert>=4.2->jupyter_contrib_nbextensions->-r requirements.txt (line 7)) (1.5.1)\n",
      "Requirement already satisfied: async-generator in /Users/marcus/opt/anaconda3/lib/python3.8/site-packages (from nbclient<0.6.0,>=0.5.0->nbconvert>=4.2->jupyter_contrib_nbextensions->-r requirements.txt (line 7)) (1.10)\n",
      "Requirement already satisfied: pyzmq>=13 in /Users/marcus/opt/anaconda3/lib/python3.8/site-packages (from jupyter-client>=6.1.5->nbclient<0.6.0,>=0.5.0->nbconvert>=4.2->jupyter_contrib_nbextensions->-r requirements.txt (line 7)) (22.2.1)\n"
     ]
    },
    {
     "name": "stdout",
     "output_type": "stream",
     "text": [
      "Requirement already satisfied: jsonschema!=2.5.0,>=2.4 in /Users/marcus/opt/anaconda3/lib/python3.8/site-packages (from nbformat>=4.4->nbconvert>=4.2->jupyter_contrib_nbextensions->-r requirements.txt (line 7)) (3.2.0)\n",
      "Requirement already satisfied: six>=1.11.0 in /Users/marcus/opt/anaconda3/lib/python3.8/site-packages (from jsonschema!=2.5.0,>=2.4->nbformat>=4.4->nbconvert>=4.2->jupyter_contrib_nbextensions->-r requirements.txt (line 7)) (1.16.0)\n",
      "Requirement already satisfied: attrs>=17.4.0 in /Users/marcus/opt/anaconda3/lib/python3.8/site-packages (from jsonschema!=2.5.0,>=2.4->nbformat>=4.4->nbconvert>=4.2->jupyter_contrib_nbextensions->-r requirements.txt (line 7)) (21.2.0)\n",
      "Requirement already satisfied: pyrsistent>=0.14.0 in /Users/marcus/opt/anaconda3/lib/python3.8/site-packages (from jsonschema!=2.5.0,>=2.4->nbformat>=4.4->nbconvert>=4.2->jupyter_contrib_nbextensions->-r requirements.txt (line 7)) (0.18.0)\n",
      "Requirement already satisfied: argon2-cffi in /Users/marcus/opt/anaconda3/lib/python3.8/site-packages (from notebook>=4.0->jupyter_contrib_nbextensions->-r requirements.txt (line 7)) (20.1.0)\n",
      "Requirement already satisfied: prometheus-client in /Users/marcus/opt/anaconda3/lib/python3.8/site-packages (from notebook>=4.0->jupyter_contrib_nbextensions->-r requirements.txt (line 7)) (0.12.0)\n",
      "Requirement already satisfied: ipykernel in /Users/marcus/opt/anaconda3/lib/python3.8/site-packages (from notebook>=4.0->jupyter_contrib_nbextensions->-r requirements.txt (line 7)) (6.4.1)\n",
      "Requirement already satisfied: terminado>=0.8.3 in /Users/marcus/opt/anaconda3/lib/python3.8/site-packages (from notebook>=4.0->jupyter_contrib_nbextensions->-r requirements.txt (line 7)) (0.9.4)\n",
      "Requirement already satisfied: Send2Trash>=1.8.0 in /Users/marcus/opt/anaconda3/lib/python3.8/site-packages (from notebook>=4.0->jupyter_contrib_nbextensions->-r requirements.txt (line 7)) (1.8.0)\n",
      "Requirement already satisfied: ptyprocess in /Users/marcus/opt/anaconda3/lib/python3.8/site-packages (from terminado>=0.8.3->notebook>=4.0->jupyter_contrib_nbextensions->-r requirements.txt (line 7)) (0.7.0)\n",
      "Requirement already satisfied: cffi>=1.0.0 in /Users/marcus/opt/anaconda3/lib/python3.8/site-packages (from argon2-cffi->notebook>=4.0->jupyter_contrib_nbextensions->-r requirements.txt (line 7)) (1.14.6)\n",
      "Requirement already satisfied: pycparser in /Users/marcus/opt/anaconda3/lib/python3.8/site-packages (from cffi>=1.0.0->argon2-cffi->notebook>=4.0->jupyter_contrib_nbextensions->-r requirements.txt (line 7)) (2.21)\n",
      "Requirement already satisfied: webencodings in /Users/marcus/opt/anaconda3/lib/python3.8/site-packages (from bleach->nbconvert>=4.2->jupyter_contrib_nbextensions->-r requirements.txt (line 7)) (0.5.1)\n",
      "Requirement already satisfied: packaging in /Users/marcus/opt/anaconda3/lib/python3.8/site-packages (from bleach->nbconvert>=4.2->jupyter_contrib_nbextensions->-r requirements.txt (line 7)) (21.3)\n",
      "Requirement already satisfied: matplotlib-inline<0.2.0,>=0.1.0 in /Users/marcus/opt/anaconda3/lib/python3.8/site-packages (from ipykernel->notebook>=4.0->jupyter_contrib_nbextensions->-r requirements.txt (line 7)) (0.1.2)\n",
      "Requirement already satisfied: debugpy<2.0,>=1.0.0 in /Users/marcus/opt/anaconda3/lib/python3.8/site-packages (from ipykernel->notebook>=4.0->jupyter_contrib_nbextensions->-r requirements.txt (line 7)) (1.5.1)\n",
      "Requirement already satisfied: appnope in /Users/marcus/opt/anaconda3/lib/python3.8/site-packages (from ipykernel->notebook>=4.0->jupyter_contrib_nbextensions->-r requirements.txt (line 7)) (0.1.2)\n",
      "Requirement already satisfied: prompt-toolkit!=3.0.0,!=3.0.1,<3.1.0,>=2.0.0 in /Users/marcus/opt/anaconda3/lib/python3.8/site-packages (from ipython->jupyter-latex-envs>=1.3.8->jupyter_contrib_nbextensions->-r requirements.txt (line 7)) (3.0.20)\n",
      "Requirement already satisfied: decorator in /Users/marcus/opt/anaconda3/lib/python3.8/site-packages (from ipython->jupyter-latex-envs>=1.3.8->jupyter_contrib_nbextensions->-r requirements.txt (line 7)) (5.1.0)\n",
      "Requirement already satisfied: pexpect>4.3 in /Users/marcus/opt/anaconda3/lib/python3.8/site-packages (from ipython->jupyter-latex-envs>=1.3.8->jupyter_contrib_nbextensions->-r requirements.txt (line 7)) (4.8.0)\n",
      "Requirement already satisfied: jedi>=0.16 in /Users/marcus/opt/anaconda3/lib/python3.8/site-packages (from ipython->jupyter-latex-envs>=1.3.8->jupyter_contrib_nbextensions->-r requirements.txt (line 7)) (0.18.0)\n",
      "Requirement already satisfied: pickleshare in /Users/marcus/opt/anaconda3/lib/python3.8/site-packages (from ipython->jupyter-latex-envs>=1.3.8->jupyter_contrib_nbextensions->-r requirements.txt (line 7)) (0.7.5)\n",
      "Requirement already satisfied: backcall in /Users/marcus/opt/anaconda3/lib/python3.8/site-packages (from ipython->jupyter-latex-envs>=1.3.8->jupyter_contrib_nbextensions->-r requirements.txt (line 7)) (0.2.0)\n",
      "Requirement already satisfied: parso<0.9.0,>=0.8.0 in /Users/marcus/opt/anaconda3/lib/python3.8/site-packages (from jedi>=0.16->ipython->jupyter-latex-envs>=1.3.8->jupyter_contrib_nbextensions->-r requirements.txt (line 7)) (0.8.2)\n",
      "Requirement already satisfied: wcwidth in /Users/marcus/opt/anaconda3/lib/python3.8/site-packages (from prompt-toolkit!=3.0.0,!=3.0.1,<3.1.0,>=2.0.0->ipython->jupyter-latex-envs>=1.3.8->jupyter_contrib_nbextensions->-r requirements.txt (line 7)) (0.2.5)\n",
      "Requirement already satisfied: pyparsing!=3.0.5,>=2.0.2 in /Users/marcus/opt/anaconda3/lib/python3.8/site-packages (from packaging->bleach->nbconvert>=4.2->jupyter_contrib_nbextensions->-r requirements.txt (line 7)) (3.0.4)\n",
      "Requirement already satisfied: joblib>=0.11 in /Users/marcus/opt/anaconda3/lib/python3.8/site-packages (from scikit-learn->sklearn->-r requirements.txt (line 5)) (1.1.0)\n",
      "Requirement already satisfied: threadpoolctl>=2.0.0 in /Users/marcus/opt/anaconda3/lib/python3.8/site-packages (from scikit-learn->sklearn->-r requirements.txt (line 5)) (2.2.0)\n",
      "Note: you may need to restart the kernel to use updated packages.\n"
     ]
    }
   ],
   "source": [
    "pip install -r requirements.txt"
   ]
  },
  {
   "cell_type": "code",
   "execution_count": 114,
   "metadata": {},
   "outputs": [],
   "source": [
    "# Import\n",
    "import gensim.downloader\n",
    "\n",
    "from sklearn.metrics import classification_report\n",
    "from sklearn.metrics import confusion_matrix\n",
    "\n",
    "from sklearn.model_selection import train_test_split\n",
    "from sklearn.linear_model import LogisticRegression\n",
    "from sklearn.naive_bayes import GaussianNB\n",
    "from sklearn.svm import SVC\n",
    "from sklearn.neural_network import MLPClassifier\n",
    "\n",
    "from sklearn import preprocessing\n",
    "from sklearn.pipeline import make_pipeline\n",
    "\n",
    "from sklearn.metrics import confusion_matrix\n",
    "from sklearn.metrics import classification_report\n",
    "\n",
    "from sklearn.model_selection import train_test_split\n",
    "\n",
    "from statistics import mean\n",
    "\n",
    "import numpy as np\n",
    "import pandas as pd\n",
    "\n",
    "import _helpers as hp"
   ]
  },
  {
   "cell_type": "markdown",
   "metadata": {},
   "source": [
    "# Load Data"
   ]
  },
  {
   "cell_type": "code",
   "execution_count": 115,
   "metadata": {},
   "outputs": [],
   "source": [
    "ASR_data = pd.read_csv(\n",
    "    \"snips/new_ASR_with_labels.csv\"\n",
    ")  # ASR data with improved speech recognition with 15555 framerate and with autocorrection applied\n",
    "\n",
    "GT_data = pd.read_csv(\"snips/merged_GT_data.csv\")  # Groundtruth data"
   ]
  },
  {
   "cell_type": "markdown",
   "metadata": {},
   "source": [
    "## Data manipulation"
   ]
  },
  {
   "cell_type": "code",
   "execution_count": 116,
   "metadata": {},
   "outputs": [],
   "source": [
    "# Get ASR data into a numpy word array per sentence plus a numpy label array\n",
    "\n",
    "XX_ASR = ASR_data[\"transcript\"].apply(lambda x: x.split(\" \"))\n",
    "X_ASR = list(XX_ASR)  # numpy word array per transcript\n",
    "\n",
    "y_num_ASR = np.array(ASR_data[\"user_action_num\"])  # labels"
   ]
  },
  {
   "cell_type": "code",
   "execution_count": 117,
   "metadata": {},
   "outputs": [],
   "source": [
    "# Get Groundtruth data into a numpy word array per sentence plus a numpy label array\n",
    "\n",
    "XX_GT = GT_data[\"transcript\"].apply(lambda x: x.split(\" \"))\n",
    "X_GT = list(XX_GT)  # numpy word array per transcript\n",
    "\n",
    "y_num_GT = np.array(GT_data[\"user_action_num\"])  # labels"
   ]
  },
  {
   "cell_type": "markdown",
   "metadata": {},
   "source": [
    "# Word2Vec"
   ]
  },
  {
   "cell_type": "markdown",
   "metadata": {},
   "source": [
    "## Import pre-trained Word2Vec model"
   ]
  },
  {
   "cell_type": "code",
   "execution_count": 118,
   "metadata": {},
   "outputs": [],
   "source": [
    "model_w2v = gensim.downloader.load(\"glove-wiki-gigaword-100\")"
   ]
  },
  {
   "cell_type": "markdown",
   "metadata": {},
   "source": [
    "## Get features and labels"
   ]
  },
  {
   "cell_type": "code",
   "execution_count": 119,
   "metadata": {},
   "outputs": [],
   "source": [
    "def get_Word2Vec_feature(sentence):\n",
    "    \"\"\"return word2vec numpy array representation of sentence\"\"\"\n",
    "\n",
    "    value_iter = np.zeros((model_w2v.vector_size,))\n",
    "\n",
    "    for word in sentence:\n",
    "        try:\n",
    "            word_vec = model_w2v[word]\n",
    "            value_iter += np.array(word_vec)\n",
    "        except:\n",
    "            continue\n",
    "\n",
    "    return value_iter"
   ]
  },
  {
   "cell_type": "code",
   "execution_count": 120,
   "metadata": {},
   "outputs": [],
   "source": [
    "# features Space\n",
    "features_ASR = np.stack(XX_ASR.apply(get_Word2Vec_feature).values, axis=0)\n",
    "\n",
    "# features Space\n",
    "features_GT = np.stack(XX_GT.apply(get_Word2Vec_feature).values, axis=0)"
   ]
  },
  {
   "cell_type": "code",
   "execution_count": 121,
   "metadata": {},
   "outputs": [],
   "source": [
    "labels_ASR = ASR_data[\"user_action_num\"]\n",
    "labels_GT = GT_data[\"user_action_num\"]"
   ]
  },
  {
   "cell_type": "markdown",
   "metadata": {},
   "source": [
    "# Classifiers"
   ]
  },
  {
   "cell_type": "markdown",
   "metadata": {},
   "source": [
    "## Train/Test Split"
   ]
  },
  {
   "cell_type": "markdown",
   "metadata": {},
   "source": [
    "The function beneath provides the features and labels needed for testing. Using the loaded ASR or not (then using ground truth data) is decided by input. As standard we use the ASR dataset."
   ]
  },
  {
   "cell_type": "code",
   "execution_count": 122,
   "metadata": {},
   "outputs": [],
   "source": [
    "def get_train_test_data(type_of_dataset=\"ASR\", train_size=0.9):\n",
    "    \"\"\"Retrieves the relevant dataset and splits according to parameter\"\"\"\n",
    "    # If ASR, give ASR features and labels\n",
    "    if type_of_dataset == \"ASR\":\n",
    "        train_features, test_features, train_labels, test_labels = train_test_split(\n",
    "            features_ASR, labels_ASR, train_size=train_size\n",
    "        )\n",
    "    # If the dataset is not the ASR data, use the ground truth data\n",
    "    else:\n",
    "        train_features, test_features, train_labels, test_labels = train_test_split(\n",
    "            features_GT, labels_GT, train_size=train_size\n",
    "        )\n",
    "\n",
    "    return train_features, test_features, train_labels, test_labels\n",
    "\n",
    "\n",
    "def run_classifier(\n",
    "    classifier_pipe, type_of_dataset=\"ASR\", train_size=0.9, number_of_times=100\n",
    "):\n",
    "    \"\"\"For running the classifiers multiple times, and returning mean accuracy score. Wraps around get_train_test_data\"\"\"\n",
    "    mean_score_list = []\n",
    "    n = number_of_times\n",
    "    for i in range(n):\n",
    "        train_features, test_features, train_labels, test_labels = get_train_test_data(\n",
    "            type_of_dataset=\"ASR\"\n",
    "        )\n",
    "        classifier_pipe.fit(train_features, train_labels)\n",
    "\n",
    "        classifier_pred_labels = classifier_pipe.predict(test_features)  # predictions\n",
    "\n",
    "        classifier_score = classifier_pipe.score(test_features, test_labels)  # accuracy\n",
    "\n",
    "        mean_score_list.append(lgr_score)\n",
    "    return mean_score, classifier_pred_labels, classifier_score"
   ]
  },
  {
   "cell_type": "markdown",
   "metadata": {},
   "source": [
    "## Logistic Regression"
   ]
  },
  {
   "cell_type": "code",
   "execution_count": 123,
   "metadata": {},
   "outputs": [
    {
     "name": "stdout",
     "output_type": "stream",
     "text": [
      "Average accuracy score = 0.782\n"
     ]
    }
   ],
   "source": [
    "lgr = LogisticRegression(C=0.06, max_iter=1000)  # Create the classification model\n",
    "\n",
    "lgr_pipe = make_pipeline(preprocessing.StandardScaler(), lgr)  # Scale feature space\n",
    "\n",
    "mean_score, lgr_pred_labels, lgr_score = run_classifier(\n",
    "    classifier_pipe=lgr_pipe,\n",
    "    type_of_dataset=\"ASR\",\n",
    "    train_size=0.9,\n",
    "    number_of_times=100,\n",
    ")\n",
    "\n",
    "print(\"Average accuracy score =\", round(mean_score, 3))"
   ]
  },
  {
   "cell_type": "markdown",
   "metadata": {},
   "source": [
    "### Model Evaluation\n",
    "Gives detail on the last run of the classifier"
   ]
  },
  {
   "cell_type": "code",
   "execution_count": 124,
   "metadata": {},
   "outputs": [
    {
     "name": "stdout",
     "output_type": "stream",
     "text": [
      "                    precision    recall  f1-score   support\n",
      "\n",
      "    SwitchLightOff       0.11      0.10      0.11        29\n",
      "     SwitchLightOn       0.30      0.24      0.27        33\n",
      "IncreaseBrightness       0.12      0.11      0.11        28\n",
      "DecreaseBrightness       0.12      0.12      0.12        24\n",
      "SetLightBrightness       0.22      0.25      0.23        28\n",
      "     SetLightColor       0.07      0.08      0.08        24\n",
      "\n",
      "          accuracy                           0.16       166\n",
      "         macro avg       0.16      0.15      0.15       166\n",
      "      weighted avg       0.16      0.16      0.16       166\n",
      "\n",
      "[[3 8 3 5 5 5]\n",
      " [3 8 7 5 6 4]\n",
      " [4 2 3 5 8 6]\n",
      " [4 2 2 3 5 8]\n",
      " [8 3 4 2 7 4]\n",
      " [5 4 6 6 1 2]]\n",
      "\n",
      "ACCURACY: 0.8313253012048193\n"
     ]
    }
   ],
   "source": [
    "print(\n",
    "    classification_report(\n",
    "        test_labels,\n",
    "        lgr_pred_labels,\n",
    "        target_names=[\n",
    "            \"SwitchLightOff\",\n",
    "            \"SwitchLightOn\",\n",
    "            \"IncreaseBrightness\",\n",
    "            \"DecreaseBrightness\",\n",
    "            \"SetLightBrightness\",\n",
    "            \"SetLightColor\",\n",
    "        ],\n",
    "    )\n",
    ")\n",
    "\n",
    "print(confusion_matrix(test_labels, lgr_pred_labels))\n",
    "\n",
    "print(\"\\nACCURACY:\", lgr_score)"
   ]
  },
  {
   "cell_type": "markdown",
   "metadata": {},
   "source": [
    "# Naive Bayes"
   ]
  },
  {
   "cell_type": "markdown",
   "metadata": {},
   "source": [
    "### Gaussian Naive Bayes"
   ]
  },
  {
   "cell_type": "code",
   "execution_count": 125,
   "metadata": {},
   "outputs": [
    {
     "name": "stdout",
     "output_type": "stream",
     "text": [
      "Average accuracy score = 0.782\n"
     ]
    }
   ],
   "source": [
    "gnb = GaussianNB()  # Create the classification model\n",
    "\n",
    "gnb_pipe = make_pipeline(preprocessing.StandardScaler(), gnb)  # Scale feature space\n",
    "\n",
    "mean_score, gnb_pred_labels, gnb_score = run_classifier(\n",
    "    classifier_pipe=gnb_pipe,\n",
    "    type_of_dataset=\"ASR\",\n",
    "    train_size=0.9,\n",
    "    number_of_times=100,\n",
    ")\n",
    "\n",
    "print(\"Average accuracy score =\", round(mean_score, 3))"
   ]
  },
  {
   "cell_type": "markdown",
   "metadata": {},
   "source": [
    "#### Model Evaluation"
   ]
  },
  {
   "cell_type": "code",
   "execution_count": 126,
   "metadata": {},
   "outputs": [
    {
     "name": "stdout",
     "output_type": "stream",
     "text": [
      "                    precision    recall  f1-score   support\n",
      "\n",
      "    SwitchLightOff       0.10      0.07      0.08        29\n",
      "     SwitchLightOn       0.20      0.24      0.22        33\n",
      "IncreaseBrightness       0.20      0.18      0.19        28\n",
      "DecreaseBrightness       0.05      0.04      0.04        24\n",
      "SetLightBrightness       0.17      0.25      0.20        28\n",
      "     SetLightColor       0.39      0.29      0.33        24\n",
      "\n",
      "          accuracy                           0.18       166\n",
      "         macro avg       0.18      0.18      0.18       166\n",
      "      weighted avg       0.18      0.18      0.18       166\n",
      "\n",
      "[[2 9 6 2 7 3]\n",
      " [4 8 4 6 9 2]\n",
      " [8 6 5 1 7 1]\n",
      " [4 7 3 1 8 1]\n",
      " [0 6 5 6 7 4]\n",
      " [2 5 2 5 3 7]]\n",
      "\n",
      "ACCURACY: 0.4759036144578313\n"
     ]
    }
   ],
   "source": [
    "print(\n",
    "    classification_report(\n",
    "        test_labels,\n",
    "        gnb_pred_labels,\n",
    "        target_names=[\n",
    "            \"SwitchLightOff\",\n",
    "            \"SwitchLightOn\",\n",
    "            \"IncreaseBrightness\",\n",
    "            \"DecreaseBrightness\",\n",
    "            \"SetLightBrightness\",\n",
    "            \"SetLightColor\",\n",
    "        ],\n",
    "    )\n",
    ")\n",
    "\n",
    "print(confusion_matrix(test_labels, gnb_pred_labels))\n",
    "\n",
    "print(\"\\nACCURACY:\", gnb_score)"
   ]
  },
  {
   "cell_type": "markdown",
   "metadata": {},
   "source": [
    "# SVM"
   ]
  },
  {
   "cell_type": "code",
   "execution_count": 127,
   "metadata": {},
   "outputs": [
    {
     "name": "stdout",
     "output_type": "stream",
     "text": [
      "Average accuracy score = 0.782\n"
     ]
    }
   ],
   "source": [
    "svm = SVC()  # Create the classification model\n",
    "\n",
    "svm_pipe = make_pipeline(preprocessing.Normalizer(), svm)  # Scale feature space\n",
    "\n",
    "mean_score, svm_pred_labels, svm_score = run_classifier(\n",
    "    classifier_pipe=svm_pipe,\n",
    "    type_of_dataset=\"ASR\",\n",
    "    train_size=0.9,\n",
    "    number_of_times=100,\n",
    ")\n",
    "\n",
    "print(\"Average accuracy score =\", round(mean_score, 3))"
   ]
  },
  {
   "cell_type": "markdown",
   "metadata": {},
   "source": [
    "### Model Evaluation"
   ]
  },
  {
   "cell_type": "code",
   "execution_count": 128,
   "metadata": {},
   "outputs": [
    {
     "name": "stdout",
     "output_type": "stream",
     "text": [
      "                    precision    recall  f1-score   support\n",
      "\n",
      "    SwitchLightOff       0.22      0.24      0.23        29\n",
      "     SwitchLightOn       0.20      0.21      0.21        33\n",
      "IncreaseBrightness       0.11      0.11      0.11        28\n",
      "DecreaseBrightness       0.05      0.04      0.05        24\n",
      "SetLightBrightness       0.08      0.07      0.08        28\n",
      "     SetLightColor       0.19      0.21      0.20        24\n",
      "\n",
      "          accuracy                           0.15       166\n",
      "         macro avg       0.14      0.15      0.14       166\n",
      "      weighted avg       0.14      0.15      0.15       166\n",
      "\n",
      "[[7 5 4 2 6 5]\n",
      " [7 7 7 5 4 3]\n",
      " [6 5 3 6 3 5]\n",
      " [4 4 5 1 7 3]\n",
      " [4 7 6 4 2 5]\n",
      " [4 7 3 2 3 5]]\n",
      "\n",
      "ACCURACY: 0.7590361445783133\n"
     ]
    }
   ],
   "source": [
    "print(\n",
    "    classification_report(\n",
    "        test_labels,\n",
    "        svm_pred_labels,\n",
    "        target_names=[\n",
    "            \"SwitchLightOff\",\n",
    "            \"SwitchLightOn\",\n",
    "            \"IncreaseBrightness\",\n",
    "            \"DecreaseBrightness\",\n",
    "            \"SetLightBrightness\",\n",
    "            \"SetLightColor\",\n",
    "        ],\n",
    "    )\n",
    ")\n",
    "\n",
    "print(confusion_matrix(test_labels, svm_pred_labels))\n",
    "\n",
    "print(\"\\nACCURACY:\", svm_score)"
   ]
  },
  {
   "cell_type": "markdown",
   "metadata": {},
   "source": [
    "# NEURAL NETWORK"
   ]
  },
  {
   "cell_type": "code",
   "execution_count": 129,
   "metadata": {},
   "outputs": [
    {
     "name": "stdout",
     "output_type": "stream",
     "text": [
      "Average accuracy score = 0.782\n"
     ]
    }
   ],
   "source": [
    "mlp = MLPClassifier(\n",
    "    hidden_layer_sizes=(100, 100, 100), activation=\"relu\", solver=\"adam\", max_iter=5000\n",
    ")  # Create the classification model\n",
    "\n",
    "mlp_pipe = make_pipeline(preprocessing.Normalizer(), mlp)  # Scale feature space\n",
    "\n",
    "mean_score, mlp_pred_labels, mlp_score = run_classifier(\n",
    "    classifier_pipe=mlp_pipe,\n",
    "    type_of_dataset=\"ASR\",\n",
    "    train_size=0.9,\n",
    "    number_of_times=100,\n",
    ")\n",
    "\n",
    "print(\"Average accuracy score =\", round(mean_score, 3))"
   ]
  },
  {
   "cell_type": "markdown",
   "metadata": {},
   "source": [
    "### Model Evaluation"
   ]
  },
  {
   "cell_type": "code",
   "execution_count": 130,
   "metadata": {},
   "outputs": [
    {
     "name": "stdout",
     "output_type": "stream",
     "text": [
      "                    precision    recall  f1-score   support\n",
      "\n",
      "    SwitchLightOff       0.18      0.17      0.18        29\n",
      "     SwitchLightOn       0.06      0.03      0.04        33\n",
      "IncreaseBrightness       0.26      0.36      0.30        28\n",
      "DecreaseBrightness       0.14      0.08      0.11        24\n",
      "SetLightBrightness       0.02      0.04      0.03        28\n",
      "     SetLightColor       0.15      0.17      0.16        24\n",
      "\n",
      "          accuracy                           0.14       166\n",
      "         macro avg       0.14      0.14      0.13       166\n",
      "      weighted avg       0.13      0.14      0.13       166\n",
      "\n",
      "[[ 5  4  6  2  5  7]\n",
      " [ 5  1  6  3 12  6]\n",
      " [ 3  1 10  1  8  5]\n",
      " [ 4  3  5  2  9  1]\n",
      " [ 6  7  7  3  1  4]\n",
      " [ 5  0  4  3  8  4]]\n",
      "\n",
      "ACCURACY: 0.8433734939759037\n"
     ]
    }
   ],
   "source": [
    "print(\n",
    "    classification_report(\n",
    "        test_labels,\n",
    "        mlp_pred_labels,\n",
    "        target_names=[\n",
    "            \"SwitchLightOff\",\n",
    "            \"SwitchLightOn\",\n",
    "            \"IncreaseBrightness\",\n",
    "            \"DecreaseBrightness\",\n",
    "            \"SetLightBrightness\",\n",
    "            \"SetLightColor\",\n",
    "        ],\n",
    "    )\n",
    ")\n",
    "\n",
    "print(confusion_matrix(test_labels, mlp_pred_labels))\n",
    "\n",
    "print(\"\\nACCURACY:\", mlp_score)"
   ]
  },
  {
   "cell_type": "markdown",
   "metadata": {},
   "source": [
    "# Try Your Self"
   ]
  },
  {
   "cell_type": "code",
   "execution_count": 131,
   "metadata": {},
   "outputs": [],
   "source": [
    "def user_friendly(sentence, cls):\n",
    "    \"\"\"return action from sentence\"\"\"\n",
    "\n",
    "    sent = sentence.split()\n",
    "    new_sent = []\n",
    "\n",
    "    for word in sent:\n",
    "        new_sent.append(hp.autocorrection(word))\n",
    "\n",
    "    x_pred = get_Word2Vec_feature(new_sent).reshape(1, -1)\n",
    "    y_pred = cls.predict(x_pred)\n",
    "    return hp.indx2action(y_pred)"
   ]
  },
  {
   "cell_type": "code",
   "execution_count": 132,
   "metadata": {},
   "outputs": [
    {
     "data": {
      "text/plain": [
       "['SetLightBrightness']"
      ]
     },
     "execution_count": 132,
     "metadata": {},
     "output_type": "execute_result"
    }
   ],
   "source": [
    "user_friendly(\"I want to set brithenss to fifty in my living room\", lgr_pipe)"
   ]
  }
 ],
 "metadata": {
  "interpreter": {
   "hash": "798da7fa2e3db0aae4b339803b26a00c5ccc95905add6d158a3bf74c8d303e34"
  },
  "kernelspec": {
   "display_name": "Python 3 (ipykernel)",
   "language": "python",
   "name": "python3"
  },
  "language_info": {
   "codemirror_mode": {
    "name": "ipython",
    "version": 3
   },
   "file_extension": ".py",
   "mimetype": "text/x-python",
   "name": "python",
   "nbconvert_exporter": "python",
   "pygments_lexer": "ipython3",
   "version": "3.8.12"
  }
 },
 "nbformat": 4,
 "nbformat_minor": 2
}
