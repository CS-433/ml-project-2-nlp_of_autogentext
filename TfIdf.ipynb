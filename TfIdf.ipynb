{
 "cells": [
  {
   "cell_type": "markdown",
   "metadata": {},
   "source": [
    "# TF IDF"
   ]
  },
  {
   "cell_type": "markdown",
   "metadata": {},
   "source": [
    "## Requirements \n",
    "Installing requirements using pip"
   ]
  },
  {
   "cell_type": "code",
   "execution_count": 79,
   "metadata": {
    "scrolled": true
   },
   "outputs": [
    {
     "name": "stdout",
     "output_type": "stream",
     "text": [
      "Requirement already satisfied: numpy>=1.18.0 in /Users/marcus/opt/anaconda3/lib/python3.8/site-packages (from -r requirements.txt (line 1)) (1.18.0)\n",
      "Requirement already satisfied: pandas>=1.0.5 in /Users/marcus/opt/anaconda3/lib/python3.8/site-packages (from -r requirements.txt (line 2)) (1.0.5)\n",
      "Requirement already satisfied: textdistance==4.2.1 in /Users/marcus/opt/anaconda3/lib/python3.8/site-packages (from -r requirements.txt (line 3)) (4.2.1)\n",
      "Requirement already satisfied: gensim>=4.1.2 in /Users/marcus/opt/anaconda3/lib/python3.8/site-packages (from -r requirements.txt (line 4)) (4.1.2)\n",
      "Requirement already satisfied: sklearn in /Users/marcus/opt/anaconda3/lib/python3.8/site-packages (from -r requirements.txt (line 5)) (0.0)\n",
      "Requirement already satisfied: black in /Users/marcus/opt/anaconda3/lib/python3.8/site-packages (from -r requirements.txt (line 6)) (21.12b0)\n",
      "Requirement already satisfied: jupyter_contrib_nbextensions in /Users/marcus/opt/anaconda3/lib/python3.8/site-packages (from -r requirements.txt (line 7)) (0.5.1)\n",
      "Requirement already satisfied: jiwer in /Users/marcus/opt/anaconda3/lib/python3.8/site-packages (from -r requirements.txt (line 8)) (2.3.0)\n",
      "Requirement already satisfied: torch in /Users/marcus/opt/anaconda3/lib/python3.8/site-packages (from -r requirements.txt (line 9)) (1.10.1)\n",
      "Requirement already satisfied: transformers in /Users/marcus/opt/anaconda3/lib/python3.8/site-packages (from -r requirements.txt (line 10)) (4.15.0)\n",
      "Requirement already satisfied: python-dateutil>=2.6.1 in /Users/marcus/opt/anaconda3/lib/python3.8/site-packages (from pandas>=1.0.5->-r requirements.txt (line 2)) (2.8.2)\n",
      "Requirement already satisfied: pytz>=2017.2 in /Users/marcus/.local/lib/python3.8/site-packages (from pandas>=1.0.5->-r requirements.txt (line 2)) (2019.1)\n",
      "Requirement already satisfied: scipy>=0.18.1 in /Users/marcus/.local/lib/python3.8/site-packages (from gensim>=4.1.2->-r requirements.txt (line 4)) (1.4.1)\n",
      "Requirement already satisfied: smart-open>=1.8.1 in /Users/marcus/opt/anaconda3/lib/python3.8/site-packages (from gensim>=4.1.2->-r requirements.txt (line 4)) (5.2.1)\n",
      "Requirement already satisfied: scikit-learn in /Users/marcus/opt/anaconda3/lib/python3.8/site-packages (from sklearn->-r requirements.txt (line 5)) (1.0.1)\n",
      "Requirement already satisfied: pathspec<1,>=0.9.0 in /Users/marcus/opt/anaconda3/lib/python3.8/site-packages (from black->-r requirements.txt (line 6)) (0.9.0)\n",
      "Requirement already satisfied: typing-extensions>=3.10.0.0 in /Users/marcus/opt/anaconda3/lib/python3.8/site-packages (from black->-r requirements.txt (line 6)) (3.10.0.2)\n",
      "Requirement already satisfied: mypy-extensions>=0.4.3 in /Users/marcus/opt/anaconda3/lib/python3.8/site-packages (from black->-r requirements.txt (line 6)) (0.4.3)\n",
      "Requirement already satisfied: click>=7.1.2 in /Users/marcus/.local/lib/python3.8/site-packages (from black->-r requirements.txt (line 6)) (7.1.2)\n",
      "Requirement already satisfied: platformdirs>=2 in /Users/marcus/opt/anaconda3/lib/python3.8/site-packages (from black->-r requirements.txt (line 6)) (2.4.0)\n",
      "Requirement already satisfied: tomli<2.0.0,>=0.2.6 in /Users/marcus/opt/anaconda3/lib/python3.8/site-packages (from black->-r requirements.txt (line 6)) (1.2.3)\n",
      "Requirement already satisfied: ipython-genutils in /Users/marcus/opt/anaconda3/lib/python3.8/site-packages (from jupyter_contrib_nbextensions->-r requirements.txt (line 7)) (0.2.0)\n",
      "Requirement already satisfied: jupyter-contrib-core>=0.3.3 in /Users/marcus/opt/anaconda3/lib/python3.8/site-packages (from jupyter_contrib_nbextensions->-r requirements.txt (line 7)) (0.3.3)\n",
      "Requirement already satisfied: jupyter-latex-envs>=1.3.8 in /Users/marcus/opt/anaconda3/lib/python3.8/site-packages (from jupyter_contrib_nbextensions->-r requirements.txt (line 7)) (1.4.6)\n",
      "Requirement already satisfied: jupyter-nbextensions-configurator>=0.4.0 in /Users/marcus/opt/anaconda3/lib/python3.8/site-packages (from jupyter_contrib_nbextensions->-r requirements.txt (line 7)) (0.4.1)\n",
      "Requirement already satisfied: notebook>=4.0 in /Users/marcus/opt/anaconda3/lib/python3.8/site-packages (from jupyter_contrib_nbextensions->-r requirements.txt (line 7)) (6.4.6)\n",
      "Requirement already satisfied: pyyaml in /Users/marcus/opt/anaconda3/lib/python3.8/site-packages (from jupyter_contrib_nbextensions->-r requirements.txt (line 7)) (6.0)\n",
      "Requirement already satisfied: jupyter-highlight-selected-word>=0.1.1 in /Users/marcus/opt/anaconda3/lib/python3.8/site-packages (from jupyter_contrib_nbextensions->-r requirements.txt (line 7)) (0.2.0)\n",
      "Requirement already satisfied: lxml in /Users/marcus/opt/anaconda3/lib/python3.8/site-packages (from jupyter_contrib_nbextensions->-r requirements.txt (line 7)) (4.6.3)\n",
      "Requirement already satisfied: jupyter-core in /Users/marcus/opt/anaconda3/lib/python3.8/site-packages (from jupyter_contrib_nbextensions->-r requirements.txt (line 7)) (4.9.1)\n",
      "Requirement already satisfied: tornado in /Users/marcus/opt/anaconda3/lib/python3.8/site-packages (from jupyter_contrib_nbextensions->-r requirements.txt (line 7)) (6.1)\n",
      "Requirement already satisfied: traitlets>=4.1 in /Users/marcus/opt/anaconda3/lib/python3.8/site-packages (from jupyter_contrib_nbextensions->-r requirements.txt (line 7)) (5.1.1)\n",
      "Requirement already satisfied: nbconvert>=4.2 in /Users/marcus/opt/anaconda3/lib/python3.8/site-packages (from jupyter_contrib_nbextensions->-r requirements.txt (line 7)) (6.1.0)\n",
      "Requirement already satisfied: python-Levenshtein==0.12.2 in /Users/marcus/opt/anaconda3/lib/python3.8/site-packages (from jiwer->-r requirements.txt (line 8)) (0.12.2)\n",
      "Requirement already satisfied: setuptools in /Users/marcus/opt/anaconda3/lib/python3.8/site-packages (from python-Levenshtein==0.12.2->jiwer->-r requirements.txt (line 8)) (58.0.4)\n",
      "Requirement already satisfied: filelock in /Users/marcus/opt/anaconda3/lib/python3.8/site-packages (from transformers->-r requirements.txt (line 10)) (3.3.1)\n",
      "Requirement already satisfied: regex!=2019.12.17 in /Users/marcus/opt/anaconda3/lib/python3.8/site-packages (from transformers->-r requirements.txt (line 10)) (2021.8.3)\n",
      "Requirement already satisfied: sacremoses in /Users/marcus/opt/anaconda3/lib/python3.8/site-packages (from transformers->-r requirements.txt (line 10)) (0.0.46)\n",
      "Requirement already satisfied: tqdm>=4.27 in /Users/marcus/.local/lib/python3.8/site-packages (from transformers->-r requirements.txt (line 10)) (4.62.0)\n",
      "Requirement already satisfied: requests in /Users/marcus/.local/lib/python3.8/site-packages (from transformers->-r requirements.txt (line 10)) (2.22.0)\n",
      "Requirement already satisfied: tokenizers<0.11,>=0.10.1 in /Users/marcus/opt/anaconda3/lib/python3.8/site-packages (from transformers->-r requirements.txt (line 10)) (0.10.3)\n",
      "Requirement already satisfied: huggingface-hub<1.0,>=0.1.0 in /Users/marcus/opt/anaconda3/lib/python3.8/site-packages (from transformers->-r requirements.txt (line 10)) (0.2.1)\n",
      "Requirement already satisfied: packaging>=20.0 in /Users/marcus/opt/anaconda3/lib/python3.8/site-packages (from transformers->-r requirements.txt (line 10)) (21.3)\n",
      "Requirement already satisfied: ipython in /Users/marcus/opt/anaconda3/lib/python3.8/site-packages (from jupyter-latex-envs>=1.3.8->jupyter_contrib_nbextensions->-r requirements.txt (line 7)) (7.29.0)\n",
      "Requirement already satisfied: pandocfilters>=1.4.1 in /Users/marcus/opt/anaconda3/lib/python3.8/site-packages (from nbconvert>=4.2->jupyter_contrib_nbextensions->-r requirements.txt (line 7)) (1.4.3)\n",
      "Requirement already satisfied: jinja2>=2.4 in /Users/marcus/opt/anaconda3/lib/python3.8/site-packages (from nbconvert>=4.2->jupyter_contrib_nbextensions->-r requirements.txt (line 7)) (2.11.3)\n",
      "Requirement already satisfied: entrypoints>=0.2.2 in /Users/marcus/opt/anaconda3/lib/python3.8/site-packages (from nbconvert>=4.2->jupyter_contrib_nbextensions->-r requirements.txt (line 7)) (0.3)\n",
      "Requirement already satisfied: bleach in /Users/marcus/opt/anaconda3/lib/python3.8/site-packages (from nbconvert>=4.2->jupyter_contrib_nbextensions->-r requirements.txt (line 7)) (4.0.0)\n",
      "Requirement already satisfied: testpath in /Users/marcus/opt/anaconda3/lib/python3.8/site-packages (from nbconvert>=4.2->jupyter_contrib_nbextensions->-r requirements.txt (line 7)) (0.5.0)\n",
      "Requirement already satisfied: defusedxml in /Users/marcus/opt/anaconda3/lib/python3.8/site-packages (from nbconvert>=4.2->jupyter_contrib_nbextensions->-r requirements.txt (line 7)) (0.7.1)\n",
      "Requirement already satisfied: pygments>=2.4.1 in /Users/marcus/opt/anaconda3/lib/python3.8/site-packages (from nbconvert>=4.2->jupyter_contrib_nbextensions->-r requirements.txt (line 7)) (2.10.0)\n",
      "Requirement already satisfied: nbformat>=4.4 in /Users/marcus/opt/anaconda3/lib/python3.8/site-packages (from nbconvert>=4.2->jupyter_contrib_nbextensions->-r requirements.txt (line 7)) (5.1.3)\n",
      "Requirement already satisfied: jupyterlab-pygments in /Users/marcus/opt/anaconda3/lib/python3.8/site-packages (from nbconvert>=4.2->jupyter_contrib_nbextensions->-r requirements.txt (line 7)) (0.1.2)\n",
      "Requirement already satisfied: mistune<2,>=0.8.1 in /Users/marcus/opt/anaconda3/lib/python3.8/site-packages (from nbconvert>=4.2->jupyter_contrib_nbextensions->-r requirements.txt (line 7)) (0.8.4)\n",
      "Requirement already satisfied: nbclient<0.6.0,>=0.5.0 in /Users/marcus/opt/anaconda3/lib/python3.8/site-packages (from nbconvert>=4.2->jupyter_contrib_nbextensions->-r requirements.txt (line 7)) (0.5.3)\n",
      "Requirement already satisfied: MarkupSafe>=0.23 in /Users/marcus/opt/anaconda3/lib/python3.8/site-packages (from jinja2>=2.4->nbconvert>=4.2->jupyter_contrib_nbextensions->-r requirements.txt (line 7)) (1.1.1)\n"
     ]
    },
    {
     "name": "stdout",
     "output_type": "stream",
     "text": [
      "Requirement already satisfied: jupyter-client>=6.1.5 in /Users/marcus/opt/anaconda3/lib/python3.8/site-packages (from nbclient<0.6.0,>=0.5.0->nbconvert>=4.2->jupyter_contrib_nbextensions->-r requirements.txt (line 7)) (6.1.12)\n",
      "Requirement already satisfied: async-generator in /Users/marcus/opt/anaconda3/lib/python3.8/site-packages (from nbclient<0.6.0,>=0.5.0->nbconvert>=4.2->jupyter_contrib_nbextensions->-r requirements.txt (line 7)) (1.10)\n",
      "Requirement already satisfied: nest-asyncio in /Users/marcus/opt/anaconda3/lib/python3.8/site-packages (from nbclient<0.6.0,>=0.5.0->nbconvert>=4.2->jupyter_contrib_nbextensions->-r requirements.txt (line 7)) (1.5.1)\n",
      "Requirement already satisfied: pyzmq>=13 in /Users/marcus/opt/anaconda3/lib/python3.8/site-packages (from jupyter-client>=6.1.5->nbclient<0.6.0,>=0.5.0->nbconvert>=4.2->jupyter_contrib_nbextensions->-r requirements.txt (line 7)) (22.2.1)\n",
      "Requirement already satisfied: jsonschema!=2.5.0,>=2.4 in /Users/marcus/opt/anaconda3/lib/python3.8/site-packages (from nbformat>=4.4->nbconvert>=4.2->jupyter_contrib_nbextensions->-r requirements.txt (line 7)) (3.2.0)\n",
      "Requirement already satisfied: six>=1.11.0 in /Users/marcus/opt/anaconda3/lib/python3.8/site-packages (from jsonschema!=2.5.0,>=2.4->nbformat>=4.4->nbconvert>=4.2->jupyter_contrib_nbextensions->-r requirements.txt (line 7)) (1.16.0)\n",
      "Requirement already satisfied: pyrsistent>=0.14.0 in /Users/marcus/opt/anaconda3/lib/python3.8/site-packages (from jsonschema!=2.5.0,>=2.4->nbformat>=4.4->nbconvert>=4.2->jupyter_contrib_nbextensions->-r requirements.txt (line 7)) (0.18.0)\n",
      "Requirement already satisfied: attrs>=17.4.0 in /Users/marcus/opt/anaconda3/lib/python3.8/site-packages (from jsonschema!=2.5.0,>=2.4->nbformat>=4.4->nbconvert>=4.2->jupyter_contrib_nbextensions->-r requirements.txt (line 7)) (21.2.0)\n",
      "Requirement already satisfied: argon2-cffi in /Users/marcus/opt/anaconda3/lib/python3.8/site-packages (from notebook>=4.0->jupyter_contrib_nbextensions->-r requirements.txt (line 7)) (20.1.0)\n",
      "Requirement already satisfied: prometheus-client in /Users/marcus/opt/anaconda3/lib/python3.8/site-packages (from notebook>=4.0->jupyter_contrib_nbextensions->-r requirements.txt (line 7)) (0.12.0)\n",
      "Requirement already satisfied: Send2Trash>=1.8.0 in /Users/marcus/opt/anaconda3/lib/python3.8/site-packages (from notebook>=4.0->jupyter_contrib_nbextensions->-r requirements.txt (line 7)) (1.8.0)\n",
      "Requirement already satisfied: ipykernel in /Users/marcus/opt/anaconda3/lib/python3.8/site-packages (from notebook>=4.0->jupyter_contrib_nbextensions->-r requirements.txt (line 7)) (6.4.1)\n",
      "Requirement already satisfied: terminado>=0.8.3 in /Users/marcus/opt/anaconda3/lib/python3.8/site-packages (from notebook>=4.0->jupyter_contrib_nbextensions->-r requirements.txt (line 7)) (0.9.4)\n",
      "Requirement already satisfied: pyparsing!=3.0.5,>=2.0.2 in /Users/marcus/opt/anaconda3/lib/python3.8/site-packages (from packaging>=20.0->transformers->-r requirements.txt (line 10)) (3.0.4)\n",
      "Requirement already satisfied: ptyprocess in /Users/marcus/opt/anaconda3/lib/python3.8/site-packages (from terminado>=0.8.3->notebook>=4.0->jupyter_contrib_nbextensions->-r requirements.txt (line 7)) (0.7.0)\n",
      "Requirement already satisfied: cffi>=1.0.0 in /Users/marcus/opt/anaconda3/lib/python3.8/site-packages (from argon2-cffi->notebook>=4.0->jupyter_contrib_nbextensions->-r requirements.txt (line 7)) (1.14.6)\n",
      "Requirement already satisfied: pycparser in /Users/marcus/opt/anaconda3/lib/python3.8/site-packages (from cffi>=1.0.0->argon2-cffi->notebook>=4.0->jupyter_contrib_nbextensions->-r requirements.txt (line 7)) (2.21)\n",
      "Requirement already satisfied: webencodings in /Users/marcus/opt/anaconda3/lib/python3.8/site-packages (from bleach->nbconvert>=4.2->jupyter_contrib_nbextensions->-r requirements.txt (line 7)) (0.5.1)\n",
      "Requirement already satisfied: appnope in /Users/marcus/opt/anaconda3/lib/python3.8/site-packages (from ipykernel->notebook>=4.0->jupyter_contrib_nbextensions->-r requirements.txt (line 7)) (0.1.2)\n",
      "Requirement already satisfied: matplotlib-inline<0.2.0,>=0.1.0 in /Users/marcus/opt/anaconda3/lib/python3.8/site-packages (from ipykernel->notebook>=4.0->jupyter_contrib_nbextensions->-r requirements.txt (line 7)) (0.1.2)\n",
      "Requirement already satisfied: debugpy<2.0,>=1.0.0 in /Users/marcus/opt/anaconda3/lib/python3.8/site-packages (from ipykernel->notebook>=4.0->jupyter_contrib_nbextensions->-r requirements.txt (line 7)) (1.5.1)\n",
      "Requirement already satisfied: backcall in /Users/marcus/opt/anaconda3/lib/python3.8/site-packages (from ipython->jupyter-latex-envs>=1.3.8->jupyter_contrib_nbextensions->-r requirements.txt (line 7)) (0.2.0)\n",
      "Requirement already satisfied: decorator in /Users/marcus/opt/anaconda3/lib/python3.8/site-packages (from ipython->jupyter-latex-envs>=1.3.8->jupyter_contrib_nbextensions->-r requirements.txt (line 7)) (5.1.0)\n",
      "Requirement already satisfied: pexpect>4.3 in /Users/marcus/opt/anaconda3/lib/python3.8/site-packages (from ipython->jupyter-latex-envs>=1.3.8->jupyter_contrib_nbextensions->-r requirements.txt (line 7)) (4.8.0)\n",
      "Requirement already satisfied: prompt-toolkit!=3.0.0,!=3.0.1,<3.1.0,>=2.0.0 in /Users/marcus/opt/anaconda3/lib/python3.8/site-packages (from ipython->jupyter-latex-envs>=1.3.8->jupyter_contrib_nbextensions->-r requirements.txt (line 7)) (3.0.20)\n",
      "Requirement already satisfied: jedi>=0.16 in /Users/marcus/opt/anaconda3/lib/python3.8/site-packages (from ipython->jupyter-latex-envs>=1.3.8->jupyter_contrib_nbextensions->-r requirements.txt (line 7)) (0.18.0)\n",
      "Requirement already satisfied: pickleshare in /Users/marcus/opt/anaconda3/lib/python3.8/site-packages (from ipython->jupyter-latex-envs>=1.3.8->jupyter_contrib_nbextensions->-r requirements.txt (line 7)) (0.7.5)\n",
      "Requirement already satisfied: parso<0.9.0,>=0.8.0 in /Users/marcus/opt/anaconda3/lib/python3.8/site-packages (from jedi>=0.16->ipython->jupyter-latex-envs>=1.3.8->jupyter_contrib_nbextensions->-r requirements.txt (line 7)) (0.8.2)\n",
      "Requirement already satisfied: wcwidth in /Users/marcus/opt/anaconda3/lib/python3.8/site-packages (from prompt-toolkit!=3.0.0,!=3.0.1,<3.1.0,>=2.0.0->ipython->jupyter-latex-envs>=1.3.8->jupyter_contrib_nbextensions->-r requirements.txt (line 7)) (0.2.5)\n",
      "Requirement already satisfied: idna<2.9,>=2.5 in /Users/marcus/.local/lib/python3.8/site-packages (from requests->transformers->-r requirements.txt (line 10)) (2.8)\n",
      "Requirement already satisfied: urllib3!=1.25.0,!=1.25.1,<1.26,>=1.21.1 in /Users/marcus/.local/lib/python3.8/site-packages (from requests->transformers->-r requirements.txt (line 10)) (1.25.11)\n",
      "Requirement already satisfied: chardet<3.1.0,>=3.0.2 in /Users/marcus/.local/lib/python3.8/site-packages (from requests->transformers->-r requirements.txt (line 10)) (3.0.4)\n",
      "Requirement already satisfied: certifi>=2017.4.17 in /Users/marcus/opt/anaconda3/lib/python3.8/site-packages (from requests->transformers->-r requirements.txt (line 10)) (2021.10.8)\n",
      "Requirement already satisfied: joblib in /Users/marcus/opt/anaconda3/lib/python3.8/site-packages (from sacremoses->transformers->-r requirements.txt (line 10)) (1.1.0)\n",
      "Requirement already satisfied: threadpoolctl>=2.0.0 in /Users/marcus/opt/anaconda3/lib/python3.8/site-packages (from scikit-learn->sklearn->-r requirements.txt (line 5)) (2.2.0)\n",
      "Note: you may need to restart the kernel to use updated packages.\n"
     ]
    }
   ],
   "source": [
    "pip install -r requirements.txt"
   ]
  },
  {
   "cell_type": "code",
   "execution_count": 80,
   "metadata": {},
   "outputs": [],
   "source": [
    "# Imports\n",
    "from gensim.models import TfidfModel\n",
    "from gensim.corpora import Dictionary\n",
    "\n",
    "from sklearn.metrics import classification_report\n",
    "from sklearn.metrics import confusion_matrix\n",
    "\n",
    "from sklearn.model_selection import train_test_split\n",
    "from sklearn.linear_model import LogisticRegression\n",
    "from sklearn.naive_bayes import MultinomialNB\n",
    "from sklearn.naive_bayes import GaussianNB\n",
    "from sklearn.naive_bayes import BernoulliNB\n",
    "from sklearn.svm import SVC\n",
    "from sklearn import preprocessing\n",
    "from sklearn.neural_network import MLPClassifier\n",
    "from sklearn.pipeline import make_pipeline\n",
    "\n",
    "from statistics import mean\n",
    "\n",
    "import numpy as np\n",
    "import pandas as pd\n",
    "\n",
    "import _helpers as hp"
   ]
  },
  {
   "cell_type": "markdown",
   "metadata": {},
   "source": [
    "## Load Data\n",
    "For chosing which ASR data change the variable by the key in the paths dictionary"
   ]
  },
  {
   "cell_type": "code",
   "execution_count": 81,
   "metadata": {},
   "outputs": [],
   "source": [
    "# Defining paths for our data. \"ASR\" means the TDNNF-LFMMI method, and \"new_ASR\" means the Wave2vec method.\n",
    "paths = {\n",
    "    \"ground_truth\": \"snips/merged_GT_data.csv\",\n",
    "    \"ASR\": \"snips/old_ASR_data.csv\",\n",
    "    \"new_ASR\": \"snips/new_ASR_with_labels.csv\",\n",
    "    \"new_ASR_Autocorrect\": \"snips/new_ASR_Autocorrection_with_labels.csv\",\n",
    "}\n",
    "\n",
    "# Chosing which ASR data we will use\n",
    "ASR_data = pd.read_csv(paths[\"new_ASR\"])\n",
    "\n",
    "# Groundtruth data\n",
    "GT_data = pd.read_csv(paths[\"ground_truth\"])"
   ]
  },
  {
   "cell_type": "code",
   "execution_count": 82,
   "metadata": {},
   "outputs": [
    {
     "data": {
      "text/html": [
       "<div>\n",
       "<style scoped>\n",
       "    .dataframe tbody tr th:only-of-type {\n",
       "        vertical-align: middle;\n",
       "    }\n",
       "\n",
       "    .dataframe tbody tr th {\n",
       "        vertical-align: top;\n",
       "    }\n",
       "\n",
       "    .dataframe thead th {\n",
       "        text-align: right;\n",
       "    }\n",
       "</style>\n",
       "<table border=\"1\" class=\"dataframe\">\n",
       "  <thead>\n",
       "    <tr style=\"text-align: right;\">\n",
       "      <th></th>\n",
       "      <th>Unnamed: 0</th>\n",
       "      <th>Unnamed: 0.1</th>\n",
       "      <th>transcript</th>\n",
       "      <th>user_action</th>\n",
       "      <th>user_action_num</th>\n",
       "    </tr>\n",
       "  </thead>\n",
       "  <tbody>\n",
       "    <tr>\n",
       "      <th>0</th>\n",
       "      <td>0</td>\n",
       "      <td>0</td>\n",
       "      <td>active igtl like an the entire house</td>\n",
       "      <td>SwitchLightOn</td>\n",
       "      <td>1</td>\n",
       "    </tr>\n",
       "    <tr>\n",
       "      <th>1</th>\n",
       "      <td>1</td>\n",
       "      <td>1</td>\n",
       "      <td>activate basement lights</td>\n",
       "      <td>SwitchLightOn</td>\n",
       "      <td>1</td>\n",
       "    </tr>\n",
       "    <tr>\n",
       "      <th>2</th>\n",
       "      <td>2</td>\n",
       "      <td>2</td>\n",
       "      <td>a djust the bedroom light in tentity of thirty...</td>\n",
       "      <td>SetLightBrightness</td>\n",
       "      <td>4</td>\n",
       "    </tr>\n",
       "    <tr>\n",
       "      <th>3</th>\n",
       "      <td>3</td>\n",
       "      <td>3</td>\n",
       "      <td>can you please change the light color to pink</td>\n",
       "      <td>SetLightColor</td>\n",
       "      <td>5</td>\n",
       "    </tr>\n",
       "    <tr>\n",
       "      <th>4</th>\n",
       "      <td>4</td>\n",
       "      <td>4</td>\n",
       "      <td>said the rightness to file</td>\n",
       "      <td>SetLightBrightness</td>\n",
       "      <td>4</td>\n",
       "    </tr>\n",
       "    <tr>\n",
       "      <th>...</th>\n",
       "      <td>...</td>\n",
       "      <td>...</td>\n",
       "      <td>...</td>\n",
       "      <td>...</td>\n",
       "      <td>...</td>\n",
       "    </tr>\n",
       "    <tr>\n",
       "      <th>1655</th>\n",
       "      <td>1655</td>\n",
       "      <td>1655</td>\n",
       "      <td>turn the large meeting room green</td>\n",
       "      <td>SetLightColor</td>\n",
       "      <td>5</td>\n",
       "    </tr>\n",
       "    <tr>\n",
       "      <th>1656</th>\n",
       "      <td>1656</td>\n",
       "      <td>1656</td>\n",
       "      <td>turn the laundry room lights to twenty two</td>\n",
       "      <td>SetLightBrightness</td>\n",
       "      <td>4</td>\n",
       "    </tr>\n",
       "    <tr>\n",
       "      <th>1657</th>\n",
       "      <td>1657</td>\n",
       "      <td>1657</td>\n",
       "      <td>don't the light intensity to level thirty nine</td>\n",
       "      <td>SetLightBrightness</td>\n",
       "      <td>4</td>\n",
       "    </tr>\n",
       "    <tr>\n",
       "      <th>1658</th>\n",
       "      <td>1658</td>\n",
       "      <td>1658</td>\n",
       "      <td>turned the late on</td>\n",
       "      <td>SwitchLightOn</td>\n",
       "      <td>1</td>\n",
       "    </tr>\n",
       "    <tr>\n",
       "      <th>1659</th>\n",
       "      <td>1659</td>\n",
       "      <td>1659</td>\n",
       "      <td>turn the light on in the bedroom</td>\n",
       "      <td>SwitchLightOn</td>\n",
       "      <td>1</td>\n",
       "    </tr>\n",
       "  </tbody>\n",
       "</table>\n",
       "<p>1660 rows × 5 columns</p>\n",
       "</div>"
      ],
      "text/plain": [
       "      Unnamed: 0  Unnamed: 0.1  \\\n",
       "0              0             0   \n",
       "1              1             1   \n",
       "2              2             2   \n",
       "3              3             3   \n",
       "4              4             4   \n",
       "...          ...           ...   \n",
       "1655        1655          1655   \n",
       "1656        1656          1656   \n",
       "1657        1657          1657   \n",
       "1658        1658          1658   \n",
       "1659        1659          1659   \n",
       "\n",
       "                                             transcript         user_action  \\\n",
       "0                  active igtl like an the entire house       SwitchLightOn   \n",
       "1                              activate basement lights       SwitchLightOn   \n",
       "2     a djust the bedroom light in tentity of thirty...  SetLightBrightness   \n",
       "3         can you please change the light color to pink       SetLightColor   \n",
       "4                            said the rightness to file  SetLightBrightness   \n",
       "...                                                 ...                 ...   \n",
       "1655                  turn the large meeting room green       SetLightColor   \n",
       "1656         turn the laundry room lights to twenty two  SetLightBrightness   \n",
       "1657     don't the light intensity to level thirty nine  SetLightBrightness   \n",
       "1658                                 turned the late on       SwitchLightOn   \n",
       "1659                   turn the light on in the bedroom       SwitchLightOn   \n",
       "\n",
       "      user_action_num  \n",
       "0                   1  \n",
       "1                   1  \n",
       "2                   4  \n",
       "3                   5  \n",
       "4                   4  \n",
       "...               ...  \n",
       "1655                5  \n",
       "1656                4  \n",
       "1657                4  \n",
       "1658                1  \n",
       "1659                1  \n",
       "\n",
       "[1660 rows x 5 columns]"
      ]
     },
     "execution_count": 82,
     "metadata": {},
     "output_type": "execute_result"
    }
   ],
   "source": [
    "ASR_data"
   ]
  },
  {
   "cell_type": "markdown",
   "metadata": {},
   "source": [
    "### DATA manipulation"
   ]
  },
  {
   "cell_type": "code",
   "execution_count": 83,
   "metadata": {},
   "outputs": [],
   "source": [
    "# Get ASR data into a numpy word array per sentence plus a numpy label array\n",
    "\n",
    "XX_ASR = ASR_data[\"transcript\"].apply(lambda x: x.split(\" \"))\n",
    "X_ASR = list(XX_ASR)  # numpy word array per transcript\n",
    "\n",
    "\n",
    "y_num_ASR = np.array(ASR_data[\"user_action_num\"])  # labels"
   ]
  },
  {
   "cell_type": "code",
   "execution_count": 84,
   "metadata": {},
   "outputs": [],
   "source": [
    "# Get Groundtruth data into a numpy word array per sentence plus a numpy label array\n",
    "\n",
    "XX_GT = GT_data[\"transcript\"].apply(lambda x: x.split(\" \"))\n",
    "X_GT = list(XX_GT)  # numpy word array per transcript\n",
    "\n",
    "y_num_GT = np.array(GT_data[\"user_action_num\"])  # labels"
   ]
  },
  {
   "cell_type": "code",
   "execution_count": 85,
   "metadata": {},
   "outputs": [],
   "source": [
    "# concat the 2 arrays into one\n",
    "X_all = X_ASR + X_GT"
   ]
  },
  {
   "cell_type": "markdown",
   "metadata": {},
   "source": [
    "## Keyword to user action"
   ]
  },
  {
   "cell_type": "markdown",
   "metadata": {},
   "source": [
    "Label each sentence in the dataset acording with keywords to user action"
   ]
  },
  {
   "cell_type": "markdown",
   "metadata": {},
   "source": [
    "## TF IDF vector representation "
   ]
  },
  {
   "cell_type": "markdown",
   "metadata": {},
   "source": [
    "### Create TD IDF model based in the dictionary of our dataset "
   ]
  },
  {
   "cell_type": "code",
   "execution_count": 86,
   "metadata": {},
   "outputs": [],
   "source": [
    "# Create TD*IDF vector represenation\n",
    "dct_X = Dictionary(X_all)\n",
    "corpusBOW = [dct_X.doc2bow(line) for line in X_all]\n",
    "model = TfidfModel(corpusBOW)\n",
    "\n",
    "\n",
    "corpusBOW_ASR = [dct_X.doc2bow(line) for line in X_ASR]\n",
    "X_ASR_vec = model[corpusBOW_ASR]\n",
    "\n",
    "\n",
    "corpusBOW_GT = [dct_X.doc2bow(line) for line in X_GT]\n",
    "X_GT_vec = model[corpusBOW_GT]"
   ]
  },
  {
   "cell_type": "code",
   "execution_count": 87,
   "metadata": {},
   "outputs": [],
   "source": [
    "def Tfidf2np(X, dct):\n",
    "    \"\"\"\n",
    "    Converts gensim format to numpy array\n",
    "    Input:\n",
    "    X - TDidfModel vector (N x lenght(\"sentence\"))\n",
    "    dct - Dictionary object (lenght(\"unique words\"))\n",
    "    Output:\n",
    "    X_np - N x length(\"unique words\")\n",
    "    \"\"\"\n",
    "    N_dict = len(dct)\n",
    "    N_sent = len(X)\n",
    "    X_np = np.zeros((N_sent, N_dict))\n",
    "    i = 0\n",
    "    for _list in X:\n",
    "        for word in _list:\n",
    "            X_np[i, word[0]] = word[1]\n",
    "        i += 1\n",
    "    return X_np"
   ]
  },
  {
   "cell_type": "code",
   "execution_count": 88,
   "metadata": {},
   "outputs": [],
   "source": [
    "# Tokenize data\n",
    "X_ASR_np = Tfidf2np(X_ASR_vec, dct_X)\n",
    "X_GT_np = Tfidf2np(X_GT_vec, dct_X)"
   ]
  },
  {
   "cell_type": "markdown",
   "metadata": {},
   "source": [
    "Lets create a function that vectorizes a sentence based in a embeded text model"
   ]
  },
  {
   "cell_type": "code",
   "execution_count": 89,
   "metadata": {},
   "outputs": [],
   "source": [
    "def get_TFIDF_feature(sent, dct_X, model):\n",
    "    \"\"\"return a vector representative of a string\"\"\"\n",
    "\n",
    "    corpusBOW_sent = [dct_X.doc2bow(line) for line in [sent]]\n",
    "\n",
    "    sent_vec = model[corpusBOW_sent]\n",
    "\n",
    "    sent_np = Tfidf2np(sent_vec, dct_X)\n",
    "\n",
    "    return sent_np"
   ]
  },
  {
   "cell_type": "markdown",
   "metadata": {},
   "source": [
    "# Classifiers"
   ]
  },
  {
   "cell_type": "markdown",
   "metadata": {},
   "source": [
    "## Train/Test Split"
   ]
  },
  {
   "cell_type": "markdown",
   "metadata": {},
   "source": [
    "The function beneath provides the features and labels needed for testing. Using the loaded ASR or not (then using ground truth data) is decided by input. As standard we use the ASR dataset."
   ]
  },
  {
   "cell_type": "code",
   "execution_count": 90,
   "metadata": {},
   "outputs": [],
   "source": [
    "def get_train_test_data(type_of_dataset=\"ASR\", train_size=0.9):\n",
    "    \"\"\"Retrieves the relevant dataset and splits according to parameter\"\"\"\n",
    "    # If ASR, give ASR features and labels\n",
    "    if type_of_dataset == \"ASR\":\n",
    "        train_features, test_features, train_labels, test_labels = train_test_split(\n",
    "            X_ASR_np, y_num_ASR, train_size=train_size\n",
    "        )\n",
    "    # If the dataset is not the ASR data, use the ground truth data\n",
    "    else:\n",
    "        train_features, test_features, train_labels, test_labels = train_test_split(\n",
    "            X_GT_np, y_num_GT, train_size=train_size\n",
    "        )\n",
    "\n",
    "    return train_features, test_features, train_labels, test_labels\n",
    "\n",
    "\n",
    "def run_classifier(\n",
    "    classifier_pipe, type_of_dataset=\"ASR\", train_size=0.9, number_of_times=100\n",
    "):\n",
    "    \"\"\"For running the classifiers multiple times, and returning mean accuracy score. Wraps around get_train_test_data\"\"\"\n",
    "    mean_score_list = []\n",
    "    n = number_of_times\n",
    "    for i in range(n):\n",
    "        train_features, test_features, train_labels, test_labels = get_train_test_data(\n",
    "            type_of_dataset=\"ASR\"\n",
    "        )\n",
    "        classifier_pipe.fit(train_features, train_labels)\n",
    "\n",
    "        classifier_pred_labels = classifier_pipe.predict(test_features)  # predictions\n",
    "\n",
    "        classifier_score = classifier_pipe.score(test_features, test_labels)  # accuracy\n",
    "\n",
    "        mean_score_list.append(classifier_score)\n",
    "    mean_score = mean(mean_score_list)\n",
    "    return mean_score, classifier_pred_labels, classifier_score, test_labels\n"
   ]
  },
  {
   "cell_type": "markdown",
   "metadata": {},
   "source": [
    "## Logistic Regression"
   ]
  },
  {
   "cell_type": "code",
   "execution_count": 91,
   "metadata": {},
   "outputs": [
    {
     "name": "stdout",
     "output_type": "stream",
     "text": [
      "Average accuracy score = 0.838\n"
     ]
    }
   ],
   "source": [
    "lgr = LogisticRegression(max_iter=1000)  # Create the classification model\n",
    "\n",
    "lgr_pipe = make_pipeline(preprocessing.StandardScaler(), lgr)  # Scale feature space\n",
    "\n",
    "mean_score, lgr_pred_labels, lgr_score, test_labels = run_classifier(\n",
    "    classifier_pipe=lgr_pipe,\n",
    "    type_of_dataset=\"ASR\",\n",
    "    train_size=0.9,\n",
    "    number_of_times=100,\n",
    ")\n",
    "\n",
    "print(\"Average accuracy score =\", round(mean_score, 3))"
   ]
  },
  {
   "cell_type": "markdown",
   "metadata": {},
   "source": [
    "### Model Evaluation"
   ]
  },
  {
   "cell_type": "code",
   "execution_count": 92,
   "metadata": {},
   "outputs": [
    {
     "name": "stdout",
     "output_type": "stream",
     "text": [
      "                    precision    recall  f1-score   support\n",
      "\n",
      "    SwitchLightOff       0.82      0.82      0.82        33\n",
      "     SwitchLightOn       0.61      0.90      0.73        21\n",
      "IncreaseBrightness       0.88      0.79      0.83        28\n",
      "DecreaseBrightness       0.69      0.77      0.73        26\n",
      "SetLightBrightness       0.93      0.74      0.82        34\n",
      "     SetLightColor       0.71      0.62      0.67        24\n",
      "\n",
      "          accuracy                           0.77       166\n",
      "         macro avg       0.77      0.77      0.77       166\n",
      "      weighted avg       0.79      0.77      0.77       166\n",
      "\n",
      "[[27  1  1  3  0  1]\n",
      " [ 1 19  1  0  0  0]\n",
      " [ 0  3 22  2  1  0]\n",
      " [ 2  3  0 20  0  1]\n",
      " [ 1  2  0  2 25  4]\n",
      " [ 2  3  1  2  1 15]]\n",
      "\n",
      "ACCURACY: 0.7710843373493976\n"
     ]
    }
   ],
   "source": [
    "print(\n",
    "    classification_report(\n",
    "        test_labels,\n",
    "        lgr_pred_labels,\n",
    "        target_names=[\n",
    "            \"SwitchLightOff\",\n",
    "            \"SwitchLightOn\",\n",
    "            \"IncreaseBrightness\",\n",
    "            \"DecreaseBrightness\",\n",
    "            \"SetLightBrightness\",\n",
    "            \"SetLightColor\",\n",
    "        ],\n",
    "    )\n",
    ")\n",
    "\n",
    "print(confusion_matrix(test_labels, lgr_pred_labels))\n",
    "\n",
    "print(\"\\nACCURACY:\", lgr_score)"
   ]
  },
  {
   "cell_type": "markdown",
   "metadata": {},
   "source": [
    "## Naive Bayes"
   ]
  },
  {
   "cell_type": "markdown",
   "metadata": {},
   "source": [
    "### Multinomial Naïve Bayes"
   ]
  },
  {
   "cell_type": "code",
   "execution_count": 93,
   "metadata": {},
   "outputs": [
    {
     "name": "stdout",
     "output_type": "stream",
     "text": [
      "Average accuracy score = 0.831\n"
     ]
    }
   ],
   "source": [
    "mnb = MultinomialNB()  # Create NB model\n",
    "\n",
    "mnb_pipe = make_pipeline(preprocessing.Normalizer(), mnb)  # Scale feature space\n",
    "\n",
    "mean_score, mnb_pred_labels, mnb_score, test_labels = run_classifier(\n",
    "    classifier_pipe=mnb_pipe,\n",
    "    type_of_dataset=\"ASR\",\n",
    "    train_size=0.9,\n",
    "    number_of_times=100,\n",
    ")\n",
    "\n",
    "print(\"Average accuracy score =\", round(mean_score, 3))"
   ]
  },
  {
   "cell_type": "markdown",
   "metadata": {},
   "source": [
    "#### Model Evaluation"
   ]
  },
  {
   "cell_type": "code",
   "execution_count": 94,
   "metadata": {},
   "outputs": [
    {
     "name": "stdout",
     "output_type": "stream",
     "text": [
      "                    precision    recall  f1-score   support\n",
      "\n",
      "    SwitchLightOff       0.92      0.80      0.86        30\n",
      "     SwitchLightOn       0.79      0.79      0.79        28\n",
      "IncreaseBrightness       0.84      0.95      0.89        22\n",
      "DecreaseBrightness       0.87      0.62      0.73        32\n",
      "SetLightBrightness       0.83      1.00      0.91        30\n",
      "     SetLightColor       0.68      0.79      0.73        24\n",
      "\n",
      "          accuracy                           0.82       166\n",
      "         macro avg       0.82      0.83      0.82       166\n",
      "      weighted avg       0.83      0.82      0.82       166\n",
      "\n",
      "[[24  0  1  2  2  1]\n",
      " [ 1 22  2  0  0  3]\n",
      " [ 1  0 21  0  0  0]\n",
      " [ 0  3  0 20  4  5]\n",
      " [ 0  0  0  0 30  0]\n",
      " [ 0  3  1  1  0 19]]\n",
      "\n",
      "ACCURACY: 0.8192771084337349\n"
     ]
    }
   ],
   "source": [
    "print(\n",
    "    classification_report(\n",
    "        test_labels,\n",
    "        mnb_pred_labels,\n",
    "        target_names=[\n",
    "            \"SwitchLightOff\",\n",
    "            \"SwitchLightOn\",\n",
    "            \"IncreaseBrightness\",\n",
    "            \"DecreaseBrightness\",\n",
    "            \"SetLightBrightness\",\n",
    "            \"SetLightColor\",\n",
    "        ],\n",
    "    )\n",
    ")\n",
    "\n",
    "print(confusion_matrix(test_labels, mnb_pred_labels))\n",
    "\n",
    "print(\"\\nACCURACY:\", mnb_score)"
   ]
  },
  {
   "cell_type": "markdown",
   "metadata": {},
   "source": [
    "### Bernoulli naïve Bayes"
   ]
  },
  {
   "cell_type": "code",
   "execution_count": 95,
   "metadata": {},
   "outputs": [
    {
     "name": "stdout",
     "output_type": "stream",
     "text": [
      "Average accuracy score = 0.834\n"
     ]
    }
   ],
   "source": [
    "bnb = BernoulliNB()  # Create the classification model\n",
    "\n",
    "bnb_pipe = make_pipeline(preprocessing.Normalizer(), bnb)  # Scale feature space\n",
    "\n",
    "mean_score, bnb_pred_labels, bnb_score, test_labels = run_classifier(\n",
    "    classifier_pipe=bnb_pipe,\n",
    "    type_of_dataset=\"ASR\",\n",
    "    train_size=0.9,\n",
    "    number_of_times=100,\n",
    ")\n",
    "\n",
    "print(\"Average accuracy score =\", round(mean_score, 3))"
   ]
  },
  {
   "cell_type": "markdown",
   "metadata": {},
   "source": [
    "#### Model Evaluation"
   ]
  },
  {
   "cell_type": "code",
   "execution_count": 96,
   "metadata": {},
   "outputs": [
    {
     "name": "stdout",
     "output_type": "stream",
     "text": [
      "                    precision    recall  f1-score   support\n",
      "\n",
      "    SwitchLightOff       1.00      0.62      0.76        26\n",
      "     SwitchLightOn       0.92      0.85      0.88        27\n",
      "IncreaseBrightness       0.69      0.90      0.78        20\n",
      "DecreaseBrightness       0.81      0.85      0.83        26\n",
      "SetLightBrightness       0.96      0.73      0.83        33\n",
      "     SetLightColor       0.70      0.97      0.81        34\n",
      "\n",
      "          accuracy                           0.82       166\n",
      "         macro avg       0.85      0.82      0.82       166\n",
      "      weighted avg       0.85      0.82      0.82       166\n",
      "\n",
      "[[16  0  5  3  0  2]\n",
      " [ 0 23  1  0  1  2]\n",
      " [ 0  1 18  0  0  1]\n",
      " [ 0  0  1 22  0  3]\n",
      " [ 0  1  1  1 24  6]\n",
      " [ 0  0  0  1  0 33]]\n",
      "\n",
      "ACCURACY: 0.8192771084337349\n"
     ]
    }
   ],
   "source": [
    "print(\n",
    "    classification_report(\n",
    "        test_labels,\n",
    "        bnb_pred_labels,\n",
    "        target_names=[\n",
    "            \"SwitchLightOff\",\n",
    "            \"SwitchLightOn\",\n",
    "            \"IncreaseBrightness\",\n",
    "            \"DecreaseBrightness\",\n",
    "            \"SetLightBrightness\",\n",
    "            \"SetLightColor\",\n",
    "        ],\n",
    "    )\n",
    ")\n",
    "\n",
    "print(confusion_matrix(test_labels, bnb_pred_labels))\n",
    "\n",
    "print(\"\\nACCURACY:\", bnb_score)"
   ]
  },
  {
   "cell_type": "markdown",
   "metadata": {},
   "source": [
    "### Gaussian Naive Bayes"
   ]
  },
  {
   "cell_type": "code",
   "execution_count": 97,
   "metadata": {},
   "outputs": [
    {
     "name": "stdout",
     "output_type": "stream",
     "text": [
      "Average accuracy score = 0.64\n"
     ]
    }
   ],
   "source": [
    "gnb = GaussianNB()  # Create the classification model\n",
    "\n",
    "gnb_pipe = make_pipeline(preprocessing.StandardScaler(), gnb)  # Scale feature space\n",
    "\n",
    "mean_score, gnb_pred_labels, gnb_score, test_labels = run_classifier(\n",
    "    classifier_pipe=gnb_pipe,\n",
    "    type_of_dataset=\"ASR\",\n",
    "    train_size=0.9,\n",
    "    number_of_times=100,\n",
    ")\n",
    "\n",
    "print(\"Average accuracy score =\", round(mean_score, 3))"
   ]
  },
  {
   "cell_type": "markdown",
   "metadata": {},
   "source": [
    "#### Model Evaluation"
   ]
  },
  {
   "cell_type": "code",
   "execution_count": 98,
   "metadata": {},
   "outputs": [
    {
     "name": "stdout",
     "output_type": "stream",
     "text": [
      "                    precision    recall  f1-score   support\n",
      "\n",
      "    SwitchLightOff       0.77      0.34      0.48        29\n",
      "     SwitchLightOn       0.43      0.70      0.53        23\n",
      "IncreaseBrightness       0.54      0.73      0.62        30\n",
      "DecreaseBrightness       0.63      0.66      0.64        29\n",
      "SetLightBrightness       0.83      0.67      0.74        30\n",
      "     SetLightColor       0.95      0.80      0.87        25\n",
      "\n",
      "          accuracy                           0.64       166\n",
      "         macro avg       0.69      0.65      0.65       166\n",
      "      weighted avg       0.70      0.64      0.65       166\n",
      "\n",
      "[[10  4 10  4  1  0]\n",
      " [ 0 16  3  2  2  0]\n",
      " [ 1  5 22  1  1  0]\n",
      " [ 0  6  4 19  0  0]\n",
      " [ 1  2  2  4 20  1]\n",
      " [ 1  4  0  0  0 20]]\n",
      "\n",
      "ACCURACY: 0.6445783132530121\n"
     ]
    }
   ],
   "source": [
    "print(\n",
    "    classification_report(\n",
    "        test_labels,\n",
    "        gnb_pred_labels,\n",
    "        target_names=[\n",
    "            \"SwitchLightOff\",\n",
    "            \"SwitchLightOn\",\n",
    "            \"IncreaseBrightness\",\n",
    "            \"DecreaseBrightness\",\n",
    "            \"SetLightBrightness\",\n",
    "            \"SetLightColor\",\n",
    "        ],\n",
    "    )\n",
    ")\n",
    "\n",
    "print(confusion_matrix(test_labels, gnb_pred_labels))\n",
    "\n",
    "print(\"\\nACCURACY:\", gnb_score)"
   ]
  },
  {
   "cell_type": "markdown",
   "metadata": {},
   "source": [
    "# SVM"
   ]
  },
  {
   "cell_type": "code",
   "execution_count": 100,
   "metadata": {},
   "outputs": [
    {
     "name": "stdout",
     "output_type": "stream",
     "text": [
      "Average accuracy score = 0.866\n"
     ]
    }
   ],
   "source": [
    "svm = SVC(C=2.78)  # Create the classification model\n",
    "\n",
    "svm_pipe = make_pipeline(preprocessing.Normalizer(), svm)  # Scale feature space\n",
    "\n",
    "mean_score, svm_pred_labels, svm_score, test_labels = run_classifier(\n",
    "    classifier_pipe=svm_pipe,\n",
    "    type_of_dataset=\"ASR\",\n",
    "    train_size=0.9,\n",
    "    number_of_times=100,\n",
    ")\n",
    "\n",
    "print(\"Average accuracy score =\", round(mean_score, 3))"
   ]
  },
  {
   "cell_type": "markdown",
   "metadata": {},
   "source": [
    "### Model Evaluation"
   ]
  },
  {
   "cell_type": "code",
   "execution_count": 101,
   "metadata": {},
   "outputs": [
    {
     "name": "stdout",
     "output_type": "stream",
     "text": [
      "                    precision    recall  f1-score   support\n",
      "\n",
      "    SwitchLightOff       0.85      0.96      0.90        23\n",
      "     SwitchLightOn       0.88      0.81      0.84        26\n",
      "IncreaseBrightness       0.96      0.74      0.84        31\n",
      "DecreaseBrightness       0.61      0.95      0.75        20\n",
      "SetLightBrightness       0.96      0.85      0.90        27\n",
      "     SetLightColor       0.95      0.90      0.92        39\n",
      "\n",
      "          accuracy                           0.86       166\n",
      "         macro avg       0.87      0.87      0.86       166\n",
      "      weighted avg       0.89      0.86      0.87       166\n",
      "\n",
      "[[22  0  0  1  0  0]\n",
      " [ 0 21  1  3  1  0]\n",
      " [ 2  0 23  5  0  1]\n",
      " [ 0  1  0 19  0  0]\n",
      " [ 2  0  0  1 23  1]\n",
      " [ 0  2  0  2  0 35]]\n",
      "\n",
      "ACCURACY: 0.8614457831325302\n"
     ]
    }
   ],
   "source": [
    "print(\n",
    "    classification_report(\n",
    "        test_labels,\n",
    "        svm_pred_labels,\n",
    "        target_names=[\n",
    "            \"SwitchLightOff\",\n",
    "            \"SwitchLightOn\",\n",
    "            \"IncreaseBrightness\",\n",
    "            \"DecreaseBrightness\",\n",
    "            \"SetLightBrightness\",\n",
    "            \"SetLightColor\",\n",
    "        ],\n",
    "    )\n",
    ")\n",
    "\n",
    "print(confusion_matrix(test_labels, svm_pred_labels))\n",
    "\n",
    "print(\"\\nACCURACY:\", svm_score)"
   ]
  },
  {
   "cell_type": "markdown",
   "metadata": {},
   "source": [
    "# NEURAL NETWORK"
   ]
  },
  {
   "cell_type": "code",
   "execution_count": 102,
   "metadata": {},
   "outputs": [
    {
     "name": "stdout",
     "output_type": "stream",
     "text": [
      "Average accuracy score = 0.846\n"
     ]
    }
   ],
   "source": [
    "mlp = MLPClassifier(\n",
    "    hidden_layer_sizes=(400, 100), activation=\"relu\", solver=\"adam\", max_iter=5000\n",
    ")  # Create the classification model\n",
    "\n",
    "mlp_pipe = make_pipeline(preprocessing.Normalizer(), mlp)  # Scale feature space\n",
    "\n",
    "mean_score, mlp_pred_labels, mlp_score, test_labels = run_classifier(\n",
    "    classifier_pipe=mlp_pipe,\n",
    "    type_of_dataset=\"ASR\",\n",
    "    train_size=0.9,\n",
    "    number_of_times=100,\n",
    ")\n",
    "\n",
    "print(\"Average accuracy score =\", round(mean_score, 3))"
   ]
  },
  {
   "cell_type": "markdown",
   "metadata": {},
   "source": [
    "### Model Evaluation"
   ]
  },
  {
   "cell_type": "code",
   "execution_count": null,
   "metadata": {},
   "outputs": [],
   "source": [
    "print(\n",
    "    classification_report(\n",
    "        test_labels,\n",
    "        mlp_pred_labels,\n",
    "        target_names=[\n",
    "            \"SwitchLightOff\",\n",
    "            \"SwitchLightOn\",\n",
    "            \"IncreaseBrightness\",\n",
    "            \"DecreaseBrightness\",\n",
    "            \"SetLightBrightness\",\n",
    "            \"SetLightColor\",\n",
    "        ],\n",
    "    )\n",
    ")\n",
    "\n",
    "print(confusion_matrix(test_labels, mlp_pred_labels))\n",
    "\n",
    "print(\"\\nACCURACY:\", mlp_score)"
   ]
  },
  {
   "cell_type": "markdown",
   "metadata": {},
   "source": [
    "# Try Yourself"
   ]
  },
  {
   "cell_type": "code",
   "execution_count": null,
   "metadata": {},
   "outputs": [],
   "source": [
    "def user_friendly(sentence, cls):\n",
    "    \"\"\"return action from sentence\"\"\"\n",
    "\n",
    "    sent = sentence.split()\n",
    "    new_sent = []\n",
    "    for word in sent:\n",
    "        new_sent.append(hp.autocorrection(word))\n",
    "\n",
    "    sent_np = get_TFIDF_feature(new_sent, dct_X, model)\n",
    "    y_pred = cls.predict(sent_np)\n",
    "    return hp.indx2action(y_pred)"
   ]
  },
  {
   "cell_type": "code",
   "execution_count": null,
   "metadata": {
    "scrolled": true
   },
   "outputs": [],
   "source": [
    "user_friendly(\"I want a increase in the lights of my living room\", lgr_pipe)"
   ]
  }
 ],
 "metadata": {
  "interpreter": {
   "hash": "dea48a89d3008b445c87e75b6acb38a286a67a103628feb3836fcc4c76eda4fe"
  },
  "kernelspec": {
   "display_name": "Python 3 (ipykernel)",
   "language": "python",
   "name": "python3"
  },
  "language_info": {
   "codemirror_mode": {
    "name": "ipython",
    "version": 3
   },
   "file_extension": ".py",
   "mimetype": "text/x-python",
   "name": "python",
   "nbconvert_exporter": "python",
   "pygments_lexer": "ipython3",
   "version": "3.8.12"
  }
 },
 "nbformat": 4,
 "nbformat_minor": 2
}
