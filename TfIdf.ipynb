{
 "cells": [
  {
   "cell_type": "markdown",
   "metadata": {},
   "source": [
    "# TF IDF"
   ]
  },
  {
   "cell_type": "markdown",
   "metadata": {},
   "source": [
    "## Requirements "
   ]
  },
  {
   "cell_type": "code",
   "execution_count": 1,
   "metadata": {},
   "outputs": [],
   "source": [
    "# Imports\n",
    "from gensim.models import TfidfModel\n",
    "from gensim.corpora import Dictionary\n",
    "\n",
    "from sklearn.metrics import classification_report\n",
    "from sklearn.metrics import confusion_matrix\n",
    "\n",
    "from sklearn.model_selection import train_test_split\n",
    "from sklearn.linear_model import LogisticRegression\n",
    "from sklearn.naive_bayes import MultinomialNB\n",
    "from sklearn.naive_bayes import GaussianNB\n",
    "from sklearn.naive_bayes import BernoulliNB\n",
    "from sklearn.svm import SVC\n",
    "from sklearn import preprocessing\n",
    "from sklearn.neural_network import MLPClassifier\n",
    "from sklearn.pipeline import make_pipeline\n",
    "\n",
    "\n",
    "import numpy as np\n",
    "import pandas as pd\n",
    "\n",
    "import _helpers as hp"
   ]
  },
  {
   "cell_type": "markdown",
   "metadata": {},
   "source": [
    "## Load Data"
   ]
  },
  {
   "cell_type": "code",
   "execution_count": 2,
   "metadata": {},
   "outputs": [],
   "source": [
    "ASR_data = pd.read_csv(\"snips/new_ASR_with_labels.csv\") # ASR data with improved speech recognition with 15555 framerate and with autocorrection applied\n",
    "\n",
    "GT_data = pd.read_csv(\"snips/merged_GT_data.csv\") # Groundtruth data"
   ]
  },
  {
   "cell_type": "code",
   "execution_count": 190,
   "metadata": {},
   "outputs": [
    {
     "data": {
      "text/html": [
       "<div>\n",
       "<style scoped>\n",
       "    .dataframe tbody tr th:only-of-type {\n",
       "        vertical-align: middle;\n",
       "    }\n",
       "\n",
       "    .dataframe tbody tr th {\n",
       "        vertical-align: top;\n",
       "    }\n",
       "\n",
       "    .dataframe thead th {\n",
       "        text-align: right;\n",
       "    }\n",
       "</style>\n",
       "<table border=\"1\" class=\"dataframe\">\n",
       "  <thead>\n",
       "    <tr style=\"text-align: right;\">\n",
       "      <th></th>\n",
       "      <th>Unnamed: 0</th>\n",
       "      <th>Unnamed: 0.1</th>\n",
       "      <th>transcript</th>\n",
       "      <th>user_action</th>\n",
       "      <th>user_action_num</th>\n",
       "    </tr>\n",
       "  </thead>\n",
       "  <tbody>\n",
       "    <tr>\n",
       "      <th>0</th>\n",
       "      <td>0</td>\n",
       "      <td>0</td>\n",
       "      <td>activate light all like and the entire house</td>\n",
       "      <td>SwitchLightOn</td>\n",
       "      <td>1</td>\n",
       "    </tr>\n",
       "    <tr>\n",
       "      <th>1</th>\n",
       "      <td>1</td>\n",
       "      <td>1</td>\n",
       "      <td>activate basement lights</td>\n",
       "      <td>SwitchLightOn</td>\n",
       "      <td>1</td>\n",
       "    </tr>\n",
       "    <tr>\n",
       "      <th>2</th>\n",
       "      <td>2</td>\n",
       "      <td>2</td>\n",
       "      <td>adjust the bedroom light intensity of thirty nine</td>\n",
       "      <td>SetLightBrightness</td>\n",
       "      <td>4</td>\n",
       "    </tr>\n",
       "    <tr>\n",
       "      <th>3</th>\n",
       "      <td>3</td>\n",
       "      <td>3</td>\n",
       "      <td>can you please change the light color to pink</td>\n",
       "      <td>SetLightColor</td>\n",
       "      <td>5</td>\n",
       "    </tr>\n",
       "    <tr>\n",
       "      <th>4</th>\n",
       "      <td>4</td>\n",
       "      <td>4</td>\n",
       "      <td>rid the brightness to toilet</td>\n",
       "      <td>SetLightBrightness</td>\n",
       "      <td>4</td>\n",
       "    </tr>\n",
       "    <tr>\n",
       "      <th>...</th>\n",
       "      <td>...</td>\n",
       "      <td>...</td>\n",
       "      <td>...</td>\n",
       "      <td>...</td>\n",
       "      <td>...</td>\n",
       "    </tr>\n",
       "    <tr>\n",
       "      <th>1655</th>\n",
       "      <td>1655</td>\n",
       "      <td>1655</td>\n",
       "      <td>turn the large meeting room green</td>\n",
       "      <td>SetLightColor</td>\n",
       "      <td>5</td>\n",
       "    </tr>\n",
       "    <tr>\n",
       "      <th>1656</th>\n",
       "      <td>1656</td>\n",
       "      <td>1656</td>\n",
       "      <td>turn the laundry room lights to twenty two</td>\n",
       "      <td>SetLightBrightness</td>\n",
       "      <td>4</td>\n",
       "    </tr>\n",
       "    <tr>\n",
       "      <th>1657</th>\n",
       "      <td>1657</td>\n",
       "      <td>1657</td>\n",
       "      <td>don't the light intensity to level thirty nine</td>\n",
       "      <td>SetLightBrightness</td>\n",
       "      <td>4</td>\n",
       "    </tr>\n",
       "    <tr>\n",
       "      <th>1658</th>\n",
       "      <td>1658</td>\n",
       "      <td>1658</td>\n",
       "      <td>turned the flat on</td>\n",
       "      <td>SwitchLightOn</td>\n",
       "      <td>1</td>\n",
       "    </tr>\n",
       "    <tr>\n",
       "      <th>1659</th>\n",
       "      <td>1659</td>\n",
       "      <td>1659</td>\n",
       "      <td>turn the light on in the bedroom</td>\n",
       "      <td>SwitchLightOn</td>\n",
       "      <td>1</td>\n",
       "    </tr>\n",
       "  </tbody>\n",
       "</table>\n",
       "<p>1660 rows × 5 columns</p>\n",
       "</div>"
      ],
      "text/plain": [
       "      Unnamed: 0  Unnamed: 0.1  \\\n",
       "0              0             0   \n",
       "1              1             1   \n",
       "2              2             2   \n",
       "3              3             3   \n",
       "4              4             4   \n",
       "...          ...           ...   \n",
       "1655        1655          1655   \n",
       "1656        1656          1656   \n",
       "1657        1657          1657   \n",
       "1658        1658          1658   \n",
       "1659        1659          1659   \n",
       "\n",
       "                                             transcript         user_action  \\\n",
       "0          activate light all like and the entire house       SwitchLightOn   \n",
       "1                              activate basement lights       SwitchLightOn   \n",
       "2     adjust the bedroom light intensity of thirty nine  SetLightBrightness   \n",
       "3         can you please change the light color to pink       SetLightColor   \n",
       "4                          rid the brightness to toilet  SetLightBrightness   \n",
       "...                                                 ...                 ...   \n",
       "1655                  turn the large meeting room green       SetLightColor   \n",
       "1656         turn the laundry room lights to twenty two  SetLightBrightness   \n",
       "1657     don't the light intensity to level thirty nine  SetLightBrightness   \n",
       "1658                                 turned the flat on       SwitchLightOn   \n",
       "1659                   turn the light on in the bedroom       SwitchLightOn   \n",
       "\n",
       "      user_action_num  \n",
       "0                   1  \n",
       "1                   1  \n",
       "2                   4  \n",
       "3                   5  \n",
       "4                   4  \n",
       "...               ...  \n",
       "1655                5  \n",
       "1656                4  \n",
       "1657                4  \n",
       "1658                1  \n",
       "1659                1  \n",
       "\n",
       "[1660 rows x 5 columns]"
      ]
     },
     "execution_count": 190,
     "metadata": {},
     "output_type": "execute_result"
    }
   ],
   "source": [
    "ASR_data"
   ]
  },
  {
   "cell_type": "markdown",
   "metadata": {},
   "source": [
    "### DATA manipulation"
   ]
  },
  {
   "cell_type": "code",
   "execution_count": 191,
   "metadata": {},
   "outputs": [],
   "source": [
    "#Get ASR data into a numpy word array per sentence plus a numpy label array\n",
    "\n",
    "XX_ASR = ASR_data[\"transcript\"].apply(lambda x: x.split(' '))\n",
    "X_ASR = list(XX_ASR) #numpy word array per transcript\n",
    "\n",
    "y_num_ASR = np.array(ASR_data[\"user_action_num\"]) #labels\n"
   ]
  },
  {
   "cell_type": "code",
   "execution_count": 192,
   "metadata": {},
   "outputs": [],
   "source": [
    "#Get Groundtruth data into a numpy word array per sentence plus a numpy label array\n",
    "\n",
    "XX_GT = GT_data[\"transcript\"].apply(lambda x: x.split(' '))\n",
    "X_GT = list(XX_GT)  #numpy word array per transcript\n",
    "\n",
    "y_num_GT = np.array(GT_data[\"user_action_num\"]) #labels"
   ]
  },
  {
   "cell_type": "code",
   "execution_count": 193,
   "metadata": {},
   "outputs": [],
   "source": [
    "# concat the 2 arrays into one\n",
    "X_all = X_ASR + X_GT"
   ]
  },
  {
   "cell_type": "markdown",
   "metadata": {},
   "source": [
    "## Keyword to user action"
   ]
  },
  {
   "cell_type": "markdown",
   "metadata": {},
   "source": [
    "Label each sentence in the dataset acording with keywords to user action"
   ]
  },
  {
   "cell_type": "markdown",
   "metadata": {},
   "source": [
    "## TF IDF vector representation "
   ]
  },
  {
   "cell_type": "markdown",
   "metadata": {},
   "source": [
    "### Create TD IDF model based in the dictionary of our dataset "
   ]
  },
  {
   "cell_type": "code",
   "execution_count": 194,
   "metadata": {},
   "outputs": [],
   "source": [
    "# Create TD*IDF vector represenation\n",
    "dct_X = Dictionary(X_all)\n",
    "corpusBOW = [dct_X.doc2bow(line) for line in X_all]\n",
    "model = TfidfModel(corpusBOW)\n",
    "\n",
    "\n",
    "corpusBOW_ASR = [dct_X.doc2bow(line) for line in X_ASR]\n",
    "X_ASR_vec = model[corpusBOW_ASR]\n",
    "\n",
    "\n",
    "corpusBOW_GT = [dct_X.doc2bow(line) for line in X_GT]\n",
    "X_GT_vec = model[corpusBOW_GT]"
   ]
  },
  {
   "cell_type": "code",
   "execution_count": 195,
   "metadata": {},
   "outputs": [],
   "source": [
    "def Tfidf2np(X,dct):\n",
    "    \"\"\" \n",
    "    Converts gensim format to numpy array\n",
    "    Input:\n",
    "    X - TDidfModel vector (N x lenght(\"sentence\"))\n",
    "    dct - Dictionary object (lenght(\"unique words\"))\n",
    "    Output:\n",
    "    X_np - N x length(\"unique words\")\n",
    "    \"\"\"\n",
    "    N_dict = len(dct)\n",
    "    N_sent = len(X)\n",
    "    X_np = np.zeros((N_sent,N_dict))\n",
    "    i = 0\n",
    "    for _list in X:\n",
    "        for word in _list:\n",
    "            X_np[i, word[0]] = word[1]\n",
    "        i += 1\n",
    "    return X_np"
   ]
  },
  {
   "cell_type": "code",
   "execution_count": 196,
   "metadata": {},
   "outputs": [],
   "source": [
    "#Tokenize data\n",
    "X_ASR_np = Tfidf2np(X_ASR_vec,dct_X)\n",
    "X_GT_np = Tfidf2np(X_GT_vec,dct_X)"
   ]
  },
  {
   "cell_type": "markdown",
   "metadata": {},
   "source": [
    "Lets create a function that vectorizes a sentence based in a embeded text model"
   ]
  },
  {
   "cell_type": "code",
   "execution_count": 197,
   "metadata": {},
   "outputs": [],
   "source": [
    "def get_TFIDF_feature(sent,dct_X, model):\n",
    "    \"\"\"return a vector representative of a string\"\"\"\n",
    "\n",
    "    corpusBOW_sent = [dct_X.doc2bow(line) for line in [sent]]\n",
    "\n",
    "    sent_vec = model[corpusBOW_sent]\n",
    "\n",
    "    sent_np = Tfidf2np(sent_vec,dct_X)\n",
    "\n",
    "    return sent_np"
   ]
  },
  {
   "cell_type": "markdown",
   "metadata": {},
   "source": [
    "# Classifiers"
   ]
  },
  {
   "cell_type": "markdown",
   "metadata": {},
   "source": [
    "## Train/Test Split"
   ]
  },
  {
   "cell_type": "markdown",
   "metadata": {},
   "source": [
    "If you want to train and test only with Groundtruth data uncomment the next cell and comment the remain cells in this section "
   ]
  },
  {
   "cell_type": "code",
   "execution_count": 198,
   "metadata": {},
   "outputs": [],
   "source": [
    "# # Split into training and test data\n",
    "\n",
    "# train_features, test_features, train_labels, test_labels = train_test_split(X_GT_np, y_num_GT, train_size= 0.9)"
   ]
  },
  {
   "cell_type": "markdown",
   "metadata": {},
   "source": [
    "If you want to train and test only with ASR data uncomment the next cell and comment the remain cells in this section "
   ]
  },
  {
   "cell_type": "code",
   "execution_count": 199,
   "metadata": {},
   "outputs": [],
   "source": [
    "# # Split into training and test data\n",
    "\n",
    "# train_features, test_features, train_labels, test_labels = train_test_split(X_ASR_np, y_num_ASR, train_size= 0.9)"
   ]
  },
  {
   "cell_type": "markdown",
   "metadata": {},
   "source": [
    "If you want to train with Groundtruth and test with ASR data uncomment the next cell and comment the remain cells in this section "
   ]
  },
  {
   "cell_type": "code",
   "execution_count": 204,
   "metadata": {},
   "outputs": [],
   "source": [
    "# Split into training and test data\n",
    "train_features, test_features, train_labels, test_labels = X_GT_np,X_ASR_np,y_num_GT,y_num_ASR"
   ]
  },
  {
   "cell_type": "code",
   "execution_count": 205,
   "metadata": {},
   "outputs": [
    {
     "data": {
      "text/plain": [
       "(2224,)"
      ]
     },
     "execution_count": 205,
     "metadata": {},
     "output_type": "execute_result"
    }
   ],
   "source": [
    "y_num_GT.shape"
   ]
  },
  {
   "cell_type": "markdown",
   "metadata": {},
   "source": [
    "## Logistic Regression"
   ]
  },
  {
   "cell_type": "code",
   "execution_count": 206,
   "metadata": {},
   "outputs": [],
   "source": [
    "lgr = LogisticRegression(max_iter= 1000) #Create the classification model\n",
    "\n",
    "lgr_pipe = make_pipeline(preprocessing.StandardScaler(), lgr) #Scale feature space\n",
    "lgr_pipe.fit(train_features, train_labels)\n",
    "\n",
    "\n",
    "lgr_pred_labels = lgr_pipe.predict(test_features) #predictions\n",
    "\n",
    "lgr_score = lgr_pipe.score(test_features,test_labels) #accuracy"
   ]
  },
  {
   "cell_type": "markdown",
   "metadata": {},
   "source": [
    "### Model Evaluation"
   ]
  },
  {
   "cell_type": "code",
   "execution_count": 207,
   "metadata": {},
   "outputs": [
    {
     "name": "stdout",
     "output_type": "stream",
     "text": [
      "                    precision    recall  f1-score   support\n",
      "\n",
      "    SwitchLightOff       0.75      0.78      0.76       276\n",
      "     SwitchLightOn       0.81      0.83      0.82       257\n",
      "IncreaseBrightness       0.79      0.86      0.83       269\n",
      "DecreaseBrightness       0.79      0.84      0.81       268\n",
      "SetLightBrightness       0.92      0.84      0.88       296\n",
      "     SetLightColor       0.91      0.83      0.87       294\n",
      "\n",
      "          accuracy                           0.83      1660\n",
      "         macro avg       0.83      0.83      0.83      1660\n",
      "      weighted avg       0.83      0.83      0.83      1660\n",
      "\n",
      "[[214  19  14  16   8   5]\n",
      " [ 12 213  13   7   8   4]\n",
      " [ 14   8 232   9   2   4]\n",
      " [  8  14  18 224   1   3]\n",
      " [ 20   2   7  11 249   7]\n",
      " [ 16   7   8  15   4 244]]\n",
      "\n",
      "ACCURACY: 0.8289156626506025\n"
     ]
    }
   ],
   "source": [
    "\n",
    "print(classification_report(test_labels, lgr_pred_labels, target_names= ['SwitchLightOff','SwitchLightOn','IncreaseBrightness','DecreaseBrightness','SetLightBrightness',\"SetLightColor\"]))\n",
    "\n",
    "print(confusion_matrix(test_labels, lgr_pred_labels))\n",
    "\n",
    "print(\"\\nACCURACY:\", lgr_score)\n",
    "\n",
    " "
   ]
  },
  {
   "cell_type": "markdown",
   "metadata": {},
   "source": [
    "## Naive Bayes"
   ]
  },
  {
   "cell_type": "markdown",
   "metadata": {},
   "source": [
    "### Multinomial Naïve Bayes"
   ]
  },
  {
   "cell_type": "code",
   "execution_count": 208,
   "metadata": {},
   "outputs": [],
   "source": [
    "mnb = MultinomialNB() #Create NB model\n",
    "\n",
    "mnb_pipe = make_pipeline(preprocessing.Normalizer(), mnb) #Scale feature space\n",
    "mnb_pipe.fit(train_features, train_labels)\n",
    "\n",
    "\n",
    "mnb_pred_labels = mnb_pipe.predict(test_features) #predictions\n",
    "\n",
    "mnb_score = mnb_pipe.score(test_features,test_labels) #accuracy"
   ]
  },
  {
   "cell_type": "markdown",
   "metadata": {},
   "source": [
    "#### Model Evaluation"
   ]
  },
  {
   "cell_type": "code",
   "execution_count": 209,
   "metadata": {},
   "outputs": [
    {
     "name": "stdout",
     "output_type": "stream",
     "text": [
      "                    precision    recall  f1-score   support\n",
      "\n",
      "    SwitchLightOff       0.81      0.75      0.78       276\n",
      "     SwitchLightOn       0.82      0.85      0.84       257\n",
      "IncreaseBrightness       0.80      0.88      0.84       269\n",
      "DecreaseBrightness       0.84      0.82      0.83       268\n",
      "SetLightBrightness       0.91      0.85      0.88       296\n",
      "     SetLightColor       0.87      0.89      0.88       294\n",
      "\n",
      "          accuracy                           0.84      1660\n",
      "         macro avg       0.84      0.84      0.84      1660\n",
      "      weighted avg       0.84      0.84      0.84      1660\n",
      "\n",
      "[[208  15  15  16  10  12]\n",
      " [ 11 219  14   4   3   6]\n",
      " [  8   6 236   8   6   5]\n",
      " [  8  14  14 221   4   7]\n",
      " [ 11   5  11   8 253   8]\n",
      " [ 10   8   5   7   3 261]]\n",
      "\n",
      "ACCURACY: 0.8421686746987952\n"
     ]
    }
   ],
   "source": [
    "print(classification_report(test_labels, mnb_pred_labels, target_names= ['SwitchLightOff','SwitchLightOn','IncreaseBrightness','DecreaseBrightness','SetLightBrightness',\"SetLightColor\"]))\n",
    "\n",
    "print(confusion_matrix(test_labels, mnb_pred_labels))\n",
    "\n",
    "print(\"\\nACCURACY:\", mnb_score)"
   ]
  },
  {
   "cell_type": "markdown",
   "metadata": {},
   "source": [
    "### Bernoulli naïve Bayes"
   ]
  },
  {
   "cell_type": "code",
   "execution_count": 210,
   "metadata": {},
   "outputs": [],
   "source": [
    "bnb = BernoulliNB() #Create the classification model\n",
    "\n",
    "bnb_pipe = make_pipeline(preprocessing.Normalizer(), bnb) #Scale feature space\n",
    "bnb_pipe.fit(train_features, train_labels)\n",
    "\n",
    "\n",
    "bnb_pred_labels = bnb_pipe.predict(test_features) #predictions\n",
    "\n",
    "bnb_score = bnb_pipe.score(test_features,test_labels) #accuracy"
   ]
  },
  {
   "cell_type": "markdown",
   "metadata": {},
   "source": [
    "#### Model Evaluation"
   ]
  },
  {
   "cell_type": "code",
   "execution_count": 211,
   "metadata": {},
   "outputs": [
    {
     "name": "stdout",
     "output_type": "stream",
     "text": [
      "                    precision    recall  f1-score   support\n",
      "\n",
      "    SwitchLightOff       0.93      0.68      0.79       276\n",
      "     SwitchLightOn       0.86      0.83      0.84       257\n",
      "IncreaseBrightness       0.75      0.84      0.79       269\n",
      "DecreaseBrightness       0.80      0.83      0.82       268\n",
      "SetLightBrightness       0.89      0.85      0.87       296\n",
      "     SetLightColor       0.78      0.91      0.84       294\n",
      "\n",
      "          accuracy                           0.83      1660\n",
      "         macro avg       0.84      0.83      0.83      1660\n",
      "      weighted avg       0.84      0.83      0.83      1660\n",
      "\n",
      "[[189  11  20  26   9  21]\n",
      " [  3 214  18   6   5  11]\n",
      " [  5   6 226  10   8  14]\n",
      " [  0   8  16 223   4  17]\n",
      " [  4   4  13   9 252  14]\n",
      " [  2   7   7   5   4 269]]\n",
      "\n",
      "ACCURACY: 0.8271084337349398\n"
     ]
    }
   ],
   "source": [
    "print(classification_report(test_labels, bnb_pred_labels, target_names= ['SwitchLightOff','SwitchLightOn','IncreaseBrightness','DecreaseBrightness','SetLightBrightness',\"SetLightColor\"]))\n",
    "\n",
    "print(confusion_matrix(test_labels, bnb_pred_labels))\n",
    "\n",
    "print(\"\\nACCURACY:\", bnb_score)"
   ]
  },
  {
   "cell_type": "markdown",
   "metadata": {},
   "source": [
    "### Gaussian Naive Bayes"
   ]
  },
  {
   "cell_type": "code",
   "execution_count": 212,
   "metadata": {},
   "outputs": [],
   "source": [
    "gnb = GaussianNB() #Create the classification model\n",
    "\n",
    "gnb_pipe = make_pipeline(preprocessing.StandardScaler(), gnb) #Scale feature space\n",
    "gnb_pipe.fit(train_features, train_labels)\n",
    "\n",
    "\n",
    "gnb_pred_labels = gnb_pipe.predict(test_features) #predictions\n",
    "\n",
    "gnb_score = gnb_pipe.score(test_features,test_labels) #accuracy"
   ]
  },
  {
   "cell_type": "markdown",
   "metadata": {},
   "source": [
    "#### Model Evaluation"
   ]
  },
  {
   "cell_type": "code",
   "execution_count": 213,
   "metadata": {},
   "outputs": [
    {
     "name": "stdout",
     "output_type": "stream",
     "text": [
      "                    precision    recall  f1-score   support\n",
      "\n",
      "    SwitchLightOff       0.69      0.66      0.68       276\n",
      "     SwitchLightOn       0.59      0.68      0.63       257\n",
      "IncreaseBrightness       0.67      0.64      0.65       269\n",
      "DecreaseBrightness       0.68      0.71      0.69       268\n",
      "SetLightBrightness       0.70      0.59      0.64       296\n",
      "     SetLightColor       0.68      0.73      0.71       294\n",
      "\n",
      "          accuracy                           0.67      1660\n",
      "         macro avg       0.67      0.67      0.67      1660\n",
      "      weighted avg       0.67      0.67      0.67      1660\n",
      "\n",
      "[[183  20  14  12  22  25]\n",
      " [ 19 174  12  14  17  21]\n",
      " [ 11  47 171  14  16  10]\n",
      " [ 14  21  20 189   9  15]\n",
      " [ 26  22  18  26 174  30]\n",
      " [ 13  13  20  21  11 216]]\n",
      "\n",
      "ACCURACY: 0.6668674698795181\n"
     ]
    }
   ],
   "source": [
    "print(classification_report(test_labels, gnb_pred_labels, target_names= ['SwitchLightOff','SwitchLightOn','IncreaseBrightness','DecreaseBrightness','SetLightBrightness',\"SetLightColor\"]))\n",
    "\n",
    "print(confusion_matrix(test_labels, gnb_pred_labels))\n",
    "\n",
    "print(\"\\nACCURACY:\", gnb_score)"
   ]
  },
  {
   "cell_type": "markdown",
   "metadata": {},
   "source": [
    "# SVM"
   ]
  },
  {
   "cell_type": "code",
   "execution_count": 214,
   "metadata": {},
   "outputs": [],
   "source": [
    "svm = SVC(C = 1) #Create the classification model\n",
    "\n",
    "svm_pipe = make_pipeline(preprocessing.Normalizer(), svm) #Scale feature space\n",
    "svm.fit(train_features, train_labels)\n",
    "\n",
    "\n",
    "svm_pred_labels = svm.predict(test_features) #predictions\n",
    "\n",
    "svm_score = svm.score(test_features,test_labels) #accuracy"
   ]
  },
  {
   "cell_type": "markdown",
   "metadata": {},
   "source": [
    "### Model Evaluation"
   ]
  },
  {
   "cell_type": "code",
   "execution_count": 215,
   "metadata": {},
   "outputs": [
    {
     "name": "stdout",
     "output_type": "stream",
     "text": [
      "                    precision    recall  f1-score   support\n",
      "\n",
      "    SwitchLightOff       0.81      0.80      0.81       276\n",
      "     SwitchLightOn       0.86      0.87      0.87       257\n",
      "IncreaseBrightness       0.84      0.89      0.86       269\n",
      "DecreaseBrightness       0.82      0.86      0.84       268\n",
      "SetLightBrightness       0.93      0.89      0.91       296\n",
      "     SetLightColor       0.94      0.88      0.91       294\n",
      "\n",
      "          accuracy                           0.87      1660\n",
      "         macro avg       0.87      0.87      0.87      1660\n",
      "      weighted avg       0.87      0.87      0.87      1660\n",
      "\n",
      "[[222  10  11  20   6   7]\n",
      " [ 10 224  13   6   3   1]\n",
      " [ 12   5 239   7   3   3]\n",
      " [  7  14  13 231   2   1]\n",
      " [ 12   3   4   8 264   5]\n",
      " [ 12   4   6   8   6 258]]\n",
      "\n",
      "ACCURACY: 0.8662650602409638\n"
     ]
    }
   ],
   "source": [
    "print(classification_report(test_labels, svm_pred_labels, target_names= ['SwitchLightOff','SwitchLightOn','IncreaseBrightness','DecreaseBrightness','SetLightBrightness',\"SetLightColor\"]))\n",
    "\n",
    "print(confusion_matrix(test_labels, svm_pred_labels))\n",
    "\n",
    "print(\"\\nACCURACY:\", svm_score)"
   ]
  },
  {
   "cell_type": "markdown",
   "metadata": {},
   "source": [
    "# NEURAL NETWORK"
   ]
  },
  {
   "cell_type": "code",
   "execution_count": 216,
   "metadata": {},
   "outputs": [],
   "source": [
    "mlp = MLPClassifier(hidden_layer_sizes=(100,100,100), activation='relu', solver='adam', max_iter=5000) #Create the classification model\n",
    "\n",
    "mlp_pipe = make_pipeline(preprocessing.Normalizer(), mlp) #Scale feature space\n",
    "mlp_pipe.fit(train_features, train_labels)\n",
    "\n",
    "\n",
    "mlp_pred_labels = mlp_pipe.predict(test_features) #predictions\n",
    "\n",
    "mlp_score = mlp_pipe.score(test_features,test_labels) #accuracy"
   ]
  },
  {
   "cell_type": "markdown",
   "metadata": {},
   "source": [
    "### Model Evaluation"
   ]
  },
  {
   "cell_type": "code",
   "execution_count": 217,
   "metadata": {},
   "outputs": [
    {
     "name": "stdout",
     "output_type": "stream",
     "text": [
      "                    precision    recall  f1-score   support\n",
      "\n",
      "    SwitchLightOff       0.80      0.80      0.80       276\n",
      "     SwitchLightOn       0.81      0.89      0.85       257\n",
      "IncreaseBrightness       0.81      0.85      0.83       269\n",
      "DecreaseBrightness       0.85      0.83      0.84       268\n",
      "SetLightBrightness       0.92      0.89      0.90       296\n",
      "     SetLightColor       0.93      0.85      0.88       294\n",
      "\n",
      "          accuracy                           0.85      1660\n",
      "         macro avg       0.85      0.85      0.85      1660\n",
      "      weighted avg       0.85      0.85      0.85      1660\n",
      "\n",
      "[[222  16  14  12   7   5]\n",
      " [  6 228  11   5   4   3]\n",
      " [ 12  10 229   9   4   5]\n",
      " [  9  15  16 223   2   3]\n",
      " [ 15   3   6   6 262   4]\n",
      " [ 13  10   8   7   7 249]]\n",
      "\n",
      "ACCURACY: 0.8512048192771084\n"
     ]
    }
   ],
   "source": [
    "print(classification_report(test_labels, mlp_pred_labels, target_names= ['SwitchLightOff','SwitchLightOn','IncreaseBrightness','DecreaseBrightness','SetLightBrightness',\"SetLightColor\"]))\n",
    "\n",
    "print(confusion_matrix(test_labels, mlp_pred_labels))\n",
    "\n",
    "print(\"\\nACCURACY:\", mlp_score)"
   ]
  },
  {
   "cell_type": "markdown",
   "metadata": {},
   "source": [
    "# Try Your Self"
   ]
  },
  {
   "cell_type": "code",
   "execution_count": 218,
   "metadata": {},
   "outputs": [],
   "source": [
    "def user_friendly(sentence, cls):\n",
    "    \"\"\"return action from sentence\"\"\"\n",
    "    \n",
    "    sent = sentence.split()\n",
    "    new_sent = []\n",
    "    for word in sent:\n",
    "        new_sent.append(hp.autocorrection(word))\n",
    "\n",
    "    sent_np = get_TFIDF_feature(new_sent,dct_X,model)\n",
    "    y_pred = cls.predict(sent_np)\n",
    "    return hp.indx2action(y_pred)"
   ]
  },
  {
   "cell_type": "code",
   "execution_count": 219,
   "metadata": {},
   "outputs": [
    {
     "data": {
      "text/plain": [
       "['IncreaseBrightness']"
      ]
     },
     "execution_count": 219,
     "metadata": {},
     "output_type": "execute_result"
    }
   ],
   "source": [
    "user_friendly(\"I want a increase in the lights of my living room\", lgr_pipe)"
   ]
  }
 ],
 "metadata": {
  "interpreter": {
   "hash": "dea48a89d3008b445c87e75b6acb38a286a67a103628feb3836fcc4c76eda4fe"
  },
  "kernelspec": {
   "display_name": "Python 3.8.12 64-bit ('ada': conda)",
   "language": "python",
   "name": "python3"
  },
  "language_info": {
   "codemirror_mode": {
    "name": "ipython",
    "version": 3
   },
   "file_extension": ".py",
   "mimetype": "text/x-python",
   "name": "python",
   "nbconvert_exporter": "python",
   "pygments_lexer": "ipython3",
   "version": "3.8.8"
  },
  "orig_nbformat": 4
 },
 "nbformat": 4,
 "nbformat_minor": 2
}
