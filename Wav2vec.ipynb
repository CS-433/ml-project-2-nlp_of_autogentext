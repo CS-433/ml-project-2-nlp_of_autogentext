{
 "cells": [
  {
   "cell_type": "code",
   "execution_count": 1,
   "metadata": {},
   "outputs": [],
   "source": [
    "import torch\n",
    "import librosa\n",
    "import numpy as np\n",
    "import pandas as pd\n",
    "import textdistance\n",
    "import re\n",
    "from collections import Counter\n",
    "import soundfile as sf\n",
    "from scipy.io import wavfile\n",
    "from IPython.display import Audio\n",
    "from transformers import Wav2Vec2ForCTC, Wav2Vec2Tokenizer\n",
    "import os"
   ]
  },
  {
   "cell_type": "markdown",
   "metadata": {},
   "source": [
    "# Load data"
   ]
  },
  {
   "cell_type": "code",
   "execution_count": 2,
   "metadata": {},
   "outputs": [],
   "source": [
    "dataset = pd.read_csv(\"snips/smart-lights_close_ASR.csv\")\n",
    "\n",
    "vocab_data = pd.read_csv(\"snips/merged_GT_data.csv\")"
   ]
  },
  {
   "cell_type": "markdown",
   "metadata": {},
   "source": [
    "# Load Pre-trained speech recognition models"
   ]
  },
  {
   "cell_type": "code",
   "execution_count": 101,
   "metadata": {},
   "outputs": [
    {
     "name": "stderr",
     "output_type": "stream",
     "text": [
      "/home/goncalo/.local/lib/python3.8/site-packages/cryptography/hazmat/backends/openssl/x509.py:14: CryptographyDeprecationWarning: This version of cryptography contains a temporary pyOpenSSL fallback path. Upgrade pyOpenSSL now.\n",
      "  warnings.warn(\n",
      "The tokenizer class you load from this checkpoint is not the same type as the class this function is called from. It may result in unexpected tokenization. \n",
      "The tokenizer class you load from this checkpoint is 'Wav2Vec2CTCTokenizer'. \n",
      "The class this function is called from is 'Wav2Vec2Tokenizer'.\n",
      "/home/goncalo/Anaconda3/lib/python3.8/site-packages/transformers/models/wav2vec2/tokenization_wav2vec2.py:421: FutureWarning: The class `Wav2Vec2Tokenizer` is deprecated and will be removed in version 5 of Transformers. Please use `Wav2Vec2Processor` or `Wav2Vec2CTCTokenizer` instead.\n",
      "  warnings.warn(\n",
      "Some weights of Wav2Vec2ForCTC were not initialized from the model checkpoint at facebook/wav2vec2-base-960h and are newly initialized: ['wav2vec2.masked_spec_embed']\n",
      "You should probably TRAIN this model on a down-stream task to be able to use it for predictions and inference.\n"
     ]
    }
   ],
   "source": [
    "tokenizer = Wav2Vec2Tokenizer.from_pretrained(\"facebook/wav2vec2-base-960h\")\n",
    "model = Wav2Vec2ForCTC.from_pretrained(\"facebook/wav2vec2-base-960h\")"
   ]
  },
  {
   "cell_type": "markdown",
   "metadata": {},
   "source": [
    "# Check sampling rate of the audios"
   ]
  },
  {
   "cell_type": "code",
   "execution_count": 120,
   "metadata": {},
   "outputs": [],
   "source": [
    "file_name = \"snips/Close_Wav/audio/0.wav\""
   ]
  },
  {
   "cell_type": "code",
   "execution_count": 121,
   "metadata": {},
   "outputs": [
    {
     "name": "stdout",
     "output_type": "stream",
     "text": [
      "Sampling rate: 16000 Hz\n"
     ]
    }
   ],
   "source": [
    "data = wavfile.read(file_name)\n",
    "framerate = data[0]\n",
    "sounddata = data[1]\n",
    "time = np.arange(0,len(sounddata))/framerate\n",
    "print('Sampling rate:',framerate,'Hz')"
   ]
  },
  {
   "cell_type": "markdown",
   "metadata": {},
   "source": [
    "# Speech Recognition"
   ]
  },
  {
   "cell_type": "code",
   "execution_count": 117,
   "metadata": {},
   "outputs": [],
   "source": [
    "words = list(vocab_data[\"transcript\"].explode().str.split(\" \").explode())\n",
    "V = set(words) # create a set with all the words present in Groudtruth data\n",
    "word_freq = {}\n",
    "word_freq = Counter(words) #calculate frequency of each word\n",
    "probs = {}\n",
    "Total = sum(word_freq.values())\n",
    "for k in word_freq.keys():\n",
    "    probs[k] = word_freq[k]/Total #calculate probability of each word\n",
    "\n",
    "def autocorrection(input_word):\n",
    "    \"\"\"return the autocorrected input_word\"\"\"\n",
    "    input_word = input_word.lower()\n",
    "    if input_word in V:\n",
    "        return input_word\n",
    "    else:\n",
    "        sim = [1 - (textdistance.Jaccard(qval = 2).distance(v, input_word)) for v in word_freq.keys()] #find the most similar word in set based in word distance\n",
    "        auto_df = pd.DataFrame.from_dict(probs, orient = \"index\").reset_index()\n",
    "        auto_df = auto_df.rename(columns = {\"index\":\"Word\", 0: \"Prob\"})\n",
    "        auto_df[\"Similarity\"] = sim\n",
    "        output = auto_df.sort_values([\"Similarity\", \"Prob\"], ascending = False).reset_index()[\"Word\"][0] #sort based in similarity and probability \n",
    "        return output"
   ]
  },
  {
   "cell_type": "code",
   "execution_count": 106,
   "metadata": {},
   "outputs": [],
   "source": [
    "def _wav2vec(file_name):\n",
    "    \"\"\"transform wav file into string\"\"\"\n",
    "    if not os.path.isfile(file_name):\n",
    "        return None\n",
    "    input_audio, _ = librosa.load(file_name, sr=15555)\n",
    "    input_values = tokenizer(input_audio, return_tensors=\"pt\").input_values\n",
    "    logits = model(input_values).logits\n",
    "    predicted_ids = torch.argmax(logits, dim=-1)\n",
    "    transcription = tokenizer.batch_decode(predicted_ids)[0].lower()\n",
    "\n",
    "    trans_words = transcription.split(\" \")\n",
    "    new_words = []\n",
    "\n",
    "    for word in trans_words:\n",
    "        if len(word) > 1:\n",
    "            new_words.append(autocorrection(word))\n",
    "    \n",
    "    new_transcription = \" \".join(new_words)\n",
    "\n",
    "    return new_transcription"
   ]
  },
  {
   "cell_type": "code",
   "execution_count": 107,
   "metadata": {},
   "outputs": [
    {
     "data": {
      "text/plain": [
       "'turn the light on in the bedroom'"
      ]
     },
     "execution_count": 107,
     "metadata": {},
     "output_type": "execute_result"
    }
   ],
   "source": [
    "_wav2vec('snips/Close_Wav/audio/1267.wav')"
   ]
  },
  {
   "cell_type": "code",
   "execution_count": 108,
   "metadata": {},
   "outputs": [],
   "source": [
    "# get wave files with known label\n",
    "dataset[\"WAV_FILE\"]\n",
    "_list = []\n",
    "for name in dataset[\"WAV_FILE\"]:\n",
    "    _list.append(\"snips/Close_Wav/audio/\"+ name)\n",
    "df =pd.DataFrame(_list)\n",
    "df = df.rename(columns = {0:\"directory\"})"
   ]
  },
  {
   "cell_type": "code",
   "execution_count": 109,
   "metadata": {},
   "outputs": [],
   "source": [
    "df[\"transcript\"] = df[\"directory\"].apply(_wav2vec)"
   ]
  },
  {
   "cell_type": "code",
   "execution_count": 110,
   "metadata": {},
   "outputs": [],
   "source": [
    "df[\"user_action\"] = dataset[\"Intent\"]"
   ]
  },
  {
   "cell_type": "code",
   "execution_count": 111,
   "metadata": {},
   "outputs": [
    {
     "data": {
      "text/html": [
       "<div>\n",
       "<style scoped>\n",
       "    .dataframe tbody tr th:only-of-type {\n",
       "        vertical-align: middle;\n",
       "    }\n",
       "\n",
       "    .dataframe tbody tr th {\n",
       "        vertical-align: top;\n",
       "    }\n",
       "\n",
       "    .dataframe thead th {\n",
       "        text-align: right;\n",
       "    }\n",
       "</style>\n",
       "<table border=\"1\" class=\"dataframe\">\n",
       "  <thead>\n",
       "    <tr style=\"text-align: right;\">\n",
       "      <th></th>\n",
       "      <th>transcript</th>\n",
       "      <th>user_action</th>\n",
       "    </tr>\n",
       "  </thead>\n",
       "  <tbody>\n",
       "    <tr>\n",
       "      <th>0</th>\n",
       "      <td>activate spotlight like can the entire house</td>\n",
       "      <td>SwitchLightOn</td>\n",
       "    </tr>\n",
       "    <tr>\n",
       "      <th>1</th>\n",
       "      <td>activate basement lights</td>\n",
       "      <td>SwitchLightOn</td>\n",
       "    </tr>\n",
       "    <tr>\n",
       "      <th>2</th>\n",
       "      <td>Adjust the bedroom light in intensity of thirt...</td>\n",
       "      <td>SetLightBrightness</td>\n",
       "    </tr>\n",
       "    <tr>\n",
       "      <th>3</th>\n",
       "      <td>can you please change the light color to pink</td>\n",
       "      <td>SetLightColor</td>\n",
       "    </tr>\n",
       "    <tr>\n",
       "      <th>4</th>\n",
       "      <td>Isai the brightness to Nile</td>\n",
       "      <td>SetLightBrightness</td>\n",
       "    </tr>\n",
       "    <tr>\n",
       "      <th>...</th>\n",
       "      <td>...</td>\n",
       "      <td>...</td>\n",
       "    </tr>\n",
       "    <tr>\n",
       "      <th>1655</th>\n",
       "      <td>turn the large meeting room green</td>\n",
       "      <td>SetLightColor</td>\n",
       "    </tr>\n",
       "    <tr>\n",
       "      <th>1656</th>\n",
       "      <td>turn the laundry room lights to twenty two</td>\n",
       "      <td>SetLightBrightness</td>\n",
       "    </tr>\n",
       "    <tr>\n",
       "      <th>1657</th>\n",
       "      <td>don't the light intensity to level thirty nine</td>\n",
       "      <td>SetLightBrightness</td>\n",
       "    </tr>\n",
       "    <tr>\n",
       "      <th>1658</th>\n",
       "      <td>turned the flat on</td>\n",
       "      <td>SwitchLightOn</td>\n",
       "    </tr>\n",
       "    <tr>\n",
       "      <th>1659</th>\n",
       "      <td>turn the light on in the bedroom</td>\n",
       "      <td>SwitchLightOn</td>\n",
       "    </tr>\n",
       "  </tbody>\n",
       "</table>\n",
       "<p>1660 rows × 2 columns</p>\n",
       "</div>"
      ],
      "text/plain": [
       "                                             transcript         user_action\n",
       "0          activate spotlight like can the entire house       SwitchLightOn\n",
       "1                              activate basement lights       SwitchLightOn\n",
       "2     Adjust the bedroom light in intensity of thirt...  SetLightBrightness\n",
       "3         can you please change the light color to pink       SetLightColor\n",
       "4                           Isai the brightness to Nile  SetLightBrightness\n",
       "...                                                 ...                 ...\n",
       "1655                  turn the large meeting room green       SetLightColor\n",
       "1656         turn the laundry room lights to twenty two  SetLightBrightness\n",
       "1657     don't the light intensity to level thirty nine  SetLightBrightness\n",
       "1658                                 turned the flat on       SwitchLightOn\n",
       "1659                   turn the light on in the bedroom       SwitchLightOn\n",
       "\n",
       "[1660 rows x 2 columns]"
      ]
     },
     "execution_count": 111,
     "metadata": {},
     "output_type": "execute_result"
    }
   ],
   "source": [
    "df = df[[\"transcript\",\"user_action\"]]\n",
    "df"
   ]
  },
  {
   "cell_type": "code",
   "execution_count": 112,
   "metadata": {},
   "outputs": [],
   "source": [
    "df.to_csv(\"snips/new_ASR_without_labels.csv\") #save ASR"
   ]
  },
  {
   "cell_type": "code",
   "execution_count": 11,
   "metadata": {},
   "outputs": [
    {
     "data": {
      "text/html": [
       "<div>\n",
       "<style scoped>\n",
       "    .dataframe tbody tr th:only-of-type {\n",
       "        vertical-align: middle;\n",
       "    }\n",
       "\n",
       "    .dataframe tbody tr th {\n",
       "        vertical-align: top;\n",
       "    }\n",
       "\n",
       "    .dataframe thead th {\n",
       "        text-align: right;\n",
       "    }\n",
       "</style>\n",
       "<table border=\"1\" class=\"dataframe\">\n",
       "  <thead>\n",
       "    <tr style=\"text-align: right;\">\n",
       "      <th></th>\n",
       "      <th>Unnamed: 0</th>\n",
       "      <th>Unnamed: 0.1</th>\n",
       "      <th>transcript</th>\n",
       "      <th>user_action</th>\n",
       "      <th>user_action_num</th>\n",
       "    </tr>\n",
       "  </thead>\n",
       "  <tbody>\n",
       "    <tr>\n",
       "      <th>0</th>\n",
       "      <td>0</td>\n",
       "      <td>0</td>\n",
       "      <td>active igtl like an the entire house</td>\n",
       "      <td>SwitchLightOn</td>\n",
       "      <td>1</td>\n",
       "    </tr>\n",
       "    <tr>\n",
       "      <th>1</th>\n",
       "      <td>1</td>\n",
       "      <td>1</td>\n",
       "      <td>activate basement lights</td>\n",
       "      <td>SwitchLightOn</td>\n",
       "      <td>1</td>\n",
       "    </tr>\n",
       "    <tr>\n",
       "      <th>2</th>\n",
       "      <td>2</td>\n",
       "      <td>2</td>\n",
       "      <td>a djust the bedroom light in tentity of thirty...</td>\n",
       "      <td>SetLightBrightness</td>\n",
       "      <td>4</td>\n",
       "    </tr>\n",
       "    <tr>\n",
       "      <th>3</th>\n",
       "      <td>3</td>\n",
       "      <td>3</td>\n",
       "      <td>can you please change the light color to pink</td>\n",
       "      <td>SetLightColor</td>\n",
       "      <td>5</td>\n",
       "    </tr>\n",
       "    <tr>\n",
       "      <th>4</th>\n",
       "      <td>4</td>\n",
       "      <td>4</td>\n",
       "      <td>said the rightness to file</td>\n",
       "      <td>SetLightBrightness</td>\n",
       "      <td>4</td>\n",
       "    </tr>\n",
       "    <tr>\n",
       "      <th>...</th>\n",
       "      <td>...</td>\n",
       "      <td>...</td>\n",
       "      <td>...</td>\n",
       "      <td>...</td>\n",
       "      <td>...</td>\n",
       "    </tr>\n",
       "    <tr>\n",
       "      <th>1655</th>\n",
       "      <td>1655</td>\n",
       "      <td>1655</td>\n",
       "      <td>turn the large meeting room green</td>\n",
       "      <td>SetLightColor</td>\n",
       "      <td>5</td>\n",
       "    </tr>\n",
       "    <tr>\n",
       "      <th>1656</th>\n",
       "      <td>1656</td>\n",
       "      <td>1656</td>\n",
       "      <td>turn the laundry room lights to twenty two</td>\n",
       "      <td>SetLightBrightness</td>\n",
       "      <td>4</td>\n",
       "    </tr>\n",
       "    <tr>\n",
       "      <th>1657</th>\n",
       "      <td>1657</td>\n",
       "      <td>1657</td>\n",
       "      <td>don't the light intensity to level thirty nine</td>\n",
       "      <td>SetLightBrightness</td>\n",
       "      <td>4</td>\n",
       "    </tr>\n",
       "    <tr>\n",
       "      <th>1658</th>\n",
       "      <td>1658</td>\n",
       "      <td>1658</td>\n",
       "      <td>turned the late on</td>\n",
       "      <td>SwitchLightOn</td>\n",
       "      <td>1</td>\n",
       "    </tr>\n",
       "    <tr>\n",
       "      <th>1659</th>\n",
       "      <td>1659</td>\n",
       "      <td>1659</td>\n",
       "      <td>turn the light on in the bedroom</td>\n",
       "      <td>SwitchLightOn</td>\n",
       "      <td>1</td>\n",
       "    </tr>\n",
       "  </tbody>\n",
       "</table>\n",
       "<p>1660 rows × 5 columns</p>\n",
       "</div>"
      ],
      "text/plain": [
       "      Unnamed: 0  Unnamed: 0.1  \\\n",
       "0              0             0   \n",
       "1              1             1   \n",
       "2              2             2   \n",
       "3              3             3   \n",
       "4              4             4   \n",
       "...          ...           ...   \n",
       "1655        1655          1655   \n",
       "1656        1656          1656   \n",
       "1657        1657          1657   \n",
       "1658        1658          1658   \n",
       "1659        1659          1659   \n",
       "\n",
       "                                             transcript         user_action  \\\n",
       "0                  active igtl like an the entire house       SwitchLightOn   \n",
       "1                              activate basement lights       SwitchLightOn   \n",
       "2     a djust the bedroom light in tentity of thirty...  SetLightBrightness   \n",
       "3         can you please change the light color to pink       SetLightColor   \n",
       "4                            said the rightness to file  SetLightBrightness   \n",
       "...                                                 ...                 ...   \n",
       "1655                  turn the large meeting room green       SetLightColor   \n",
       "1656         turn the laundry room lights to twenty two  SetLightBrightness   \n",
       "1657     don't the light intensity to level thirty nine  SetLightBrightness   \n",
       "1658                                 turned the late on       SwitchLightOn   \n",
       "1659                   turn the light on in the bedroom       SwitchLightOn   \n",
       "\n",
       "      user_action_num  \n",
       "0                   1  \n",
       "1                   1  \n",
       "2                   4  \n",
       "3                   5  \n",
       "4                   4  \n",
       "...               ...  \n",
       "1655                5  \n",
       "1656                4  \n",
       "1657                4  \n",
       "1658                1  \n",
       "1659                1  \n",
       "\n",
       "[1660 rows x 5 columns]"
      ]
     },
     "execution_count": 11,
     "metadata": {},
     "output_type": "execute_result"
    }
   ],
   "source": [
    "vocab_data = pd.read_csv(\"snips/new_ASR_data.csv\")\n",
    "vocab_data"
   ]
  },
  {
   "cell_type": "markdown",
   "metadata": {},
   "source": [
    "vocab_data = pd.read_csv(\"snips/merged_data_all.csv\")"
   ]
  }
 ],
 "metadata": {
  "interpreter": {
   "hash": "798da7fa2e3db0aae4b339803b26a00c5ccc95905add6d158a3bf74c8d303e34"
  },
  "kernelspec": {
   "display_name": "Python 3.8.8 64-bit ('base': conda)",
   "language": "python",
   "name": "python3"
  },
  "language_info": {
   "codemirror_mode": {
    "name": "ipython",
    "version": 3
   },
   "file_extension": ".py",
   "mimetype": "text/x-python",
   "name": "python",
   "nbconvert_exporter": "python",
   "pygments_lexer": "ipython3",
   "version": "3.8.8"
  },
  "orig_nbformat": 4
 },
 "nbformat": 4,
 "nbformat_minor": 2
}
