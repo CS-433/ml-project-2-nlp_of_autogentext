{
 "cells": [
  {
   "cell_type": "code",
   "execution_count": 1,
   "metadata": {},
   "outputs": [
    {
     "name": "stdout",
     "output_type": "stream",
     "text": [
      "[[' human interface computer'], [' survey user computer system response time'], [' eps user interface system'], [' system human system eps'], [' user response time'], [' trees'], [' graph trees'], [' graph minors trees'], [' graph minors survey']]\n",
      "['computer']\n"
     ]
    }
   ],
   "source": [
    "from gensim.test.utils import common_texts\n",
    "from gensim.models import Word2Vec\n",
    "\n",
    "common_sentence = []\n",
    "keywords_ex = []\n",
    "for sentence in common_texts:\n",
    "    sentence_iter = \"\"\n",
    "    for word in sentence:\n",
    "        sentence_iter = sentence_iter + \" \" + word\n",
    "    keywords_ex.append([word])\n",
    "    common_sentence.append([sentence_iter])\n",
    "print(common_sentence)\n",
    "print(keywords_ex[0])\n",
    "\n",
    "model_sentence = Word2Vec(sentences=common_sentence, vector_size=10, window=1, min_count=1, workers=4)\n",
    "model_keywords = Word2Vec(sentences=keywords_ex, vector_size=10, window=1, min_count=1, workers=4)"
   ]
  },
  {
   "cell_type": "code",
   "execution_count": 2,
   "metadata": {},
   "outputs": [
    {
     "name": "stdout",
     "output_type": "stream",
     "text": [
      "[[-0.00856557  0.02826562  0.05401428  0.07052656 -0.05703123  0.01858819\n",
      "   0.06088863 -0.04798052 -0.03107262  0.06797628]]\n"
     ]
    }
   ],
   "source": [
    "# model_sentence.train([['computer']], total_examples=1, epochs=1)\n",
    "vector = model_sentence.wv[common_sentence[0]]\n",
    "print(vector)"
   ]
  }
 ],
 "metadata": {
  "interpreter": {
   "hash": "7393ff1f3c30d6d9d9349cef1397e72bfb70d7ef6363d955503acb71d65a8d40"
  },
  "kernelspec": {
   "display_name": "Python 3.8.8 64-bit ('base': conda)",
   "language": "python",
   "name": "python3"
  },
  "language_info": {
   "codemirror_mode": {
    "name": "ipython",
    "version": 3
   },
   "file_extension": ".py",
   "mimetype": "text/x-python",
   "name": "python",
   "nbconvert_exporter": "python",
   "pygments_lexer": "ipython3",
   "version": "3.8.8"
  },
  "orig_nbformat": 4
 },
 "nbformat": 4,
 "nbformat_minor": 2
}
